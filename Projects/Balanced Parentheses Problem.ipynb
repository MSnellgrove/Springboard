{
 "cells": [
  {
   "cell_type": "code",
   "execution_count": 37,
   "id": "e2c18dfb",
   "metadata": {},
   "outputs": [
    {
     "name": "stdout",
     "output_type": "stream",
     "text": [
      "(()()())\n"
     ]
    },
    {
     "data": {
      "text/plain": [
       "'Yes'"
      ]
     },
     "execution_count": 37,
     "metadata": {},
     "output_type": "execute_result"
    }
   ],
   "source": [
    "def balance(string):\n",
    "    stack_open = []\n",
    "    stack_close = []\n",
    "    for i in string:\n",
    "        if i == \"(\":\n",
    "            stack_open.append(i)\n",
    "        elif i == \")\":\n",
    "            stack_close.append(i)\n",
    "    \n",
    "    if len(stack_open) == len(stack_close):\n",
    "        output = []\n",
    "        for i in string:\n",
    "            if i == \"(\" or i == \")\":\n",
    "                output.append(i)\n",
    "        print(''.join(output))\n",
    "        return \"Yes\"\n",
    "    else:\n",
    "        return \"No\"\n",
    "\n",
    "balance('(4+3(2/3)(-7)*(27-9))')\n"
   ]
  },
  {
   "cell_type": "code",
   "execution_count": null,
   "id": "f890013a",
   "metadata": {},
   "outputs": [],
   "source": []
  }
 ],
 "metadata": {
  "kernelspec": {
   "display_name": "Python 3 (ipykernel)",
   "language": "python",
   "name": "python3"
  },
  "language_info": {
   "codemirror_mode": {
    "name": "ipython",
    "version": 3
   },
   "file_extension": ".py",
   "mimetype": "text/x-python",
   "name": "python",
   "nbconvert_exporter": "python",
   "pygments_lexer": "ipython3",
   "version": "3.9.13"
  }
 },
 "nbformat": 4,
 "nbformat_minor": 5
}
