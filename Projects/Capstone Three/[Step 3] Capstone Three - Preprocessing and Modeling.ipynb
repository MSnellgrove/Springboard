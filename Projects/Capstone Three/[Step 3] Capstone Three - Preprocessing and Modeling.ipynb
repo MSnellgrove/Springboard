{
 "cells": [
  {
   "cell_type": "markdown",
   "id": "df2eb7d1",
   "metadata": {},
   "source": [
    "# Capstone Three: Preprocessing and Modeling [Step 3]\n",
    "\n",
    "## By Morgan Snellgrove\n",
    "\n",
    "Our dataset is already all numeric so we do not need to create dummy variables. However, we do need to scale the features becuase we have very different ranges across the predictor variables. \n",
    "\n",
    "Steps for preprocessing:\n",
    "\n",
    "1) Create X-feature dataframe and y-the target dataframe.\n",
    "2) Split X and y into training and testing sets.\n",
    "3) Scale X_train and X_test. \n",
    "\n",
    "\n",
    "Steps for modeling:\n",
    "\n",
    "1) Make dummy classifier that always predicts class 1\n",
    "2) Try some un-tuned models: Decision Tree, Random Forest, and Gradient Boost\n",
    "3) Tune hyperparamters using GridSearchCV\n",
    "4) Build final models with best parameters from CV\n",
    "5) Select winning model"
   ]
  },
  {
   "cell_type": "markdown",
   "id": "7fdb376f",
   "metadata": {},
   "source": [
    "## Import libraries and packages"
   ]
  },
  {
   "cell_type": "code",
   "execution_count": 1,
   "id": "1c230dae",
   "metadata": {},
   "outputs": [],
   "source": [
    "import pandas as pd\n",
    "import numpy as np\n",
    "from sklearn.preprocessing import StandardScaler\n",
    "from sklearn.model_selection import train_test_split\n",
    "import matplotlib.pyplot as plt\n",
    "import seaborn as sns\n",
    "from sklearn.dummy import DummyClassifier\n",
    "from sklearn.tree import DecisionTreeClassifier\n",
    "from sklearn.ensemble import RandomForestClassifier, GradientBoostingClassifier\n",
    "from sklearn.linear_model import LogisticRegression\n",
    "from sklearn.metrics import accuracy_score, classification_report, confusion_matrix, roc_curve, roc_auc_score\n",
    "from sklearn.model_selection import GridSearchCV, KFold"
   ]
  },
  {
   "cell_type": "markdown",
   "id": "ab35e434",
   "metadata": {},
   "source": [
    "## Read in data"
   ]
  },
  {
   "cell_type": "code",
   "execution_count": 2,
   "id": "64a1fc3d",
   "metadata": {},
   "outputs": [
    {
     "data": {
      "text/html": [
       "<div>\n",
       "<style scoped>\n",
       "    .dataframe tbody tr th:only-of-type {\n",
       "        vertical-align: middle;\n",
       "    }\n",
       "\n",
       "    .dataframe tbody tr th {\n",
       "        vertical-align: top;\n",
       "    }\n",
       "\n",
       "    .dataframe thead th {\n",
       "        text-align: right;\n",
       "    }\n",
       "</style>\n",
       "<table border=\"1\" class=\"dataframe\">\n",
       "  <thead>\n",
       "    <tr style=\"text-align: right;\">\n",
       "      <th></th>\n",
       "      <th>0</th>\n",
       "      <th>1</th>\n",
       "      <th>2</th>\n",
       "      <th>3</th>\n",
       "      <th>4</th>\n",
       "    </tr>\n",
       "  </thead>\n",
       "  <tbody>\n",
       "    <tr>\n",
       "      <th>baseline value</th>\n",
       "      <td>120.0</td>\n",
       "      <td>132.000</td>\n",
       "      <td>133.000</td>\n",
       "      <td>134.000</td>\n",
       "      <td>132.000</td>\n",
       "    </tr>\n",
       "    <tr>\n",
       "      <th>accelerations</th>\n",
       "      <td>0.0</td>\n",
       "      <td>0.006</td>\n",
       "      <td>0.003</td>\n",
       "      <td>0.003</td>\n",
       "      <td>0.007</td>\n",
       "    </tr>\n",
       "    <tr>\n",
       "      <th>fetal_movement</th>\n",
       "      <td>0.0</td>\n",
       "      <td>0.000</td>\n",
       "      <td>0.000</td>\n",
       "      <td>0.000</td>\n",
       "      <td>0.000</td>\n",
       "    </tr>\n",
       "    <tr>\n",
       "      <th>uterine_contractions</th>\n",
       "      <td>0.0</td>\n",
       "      <td>0.006</td>\n",
       "      <td>0.008</td>\n",
       "      <td>0.008</td>\n",
       "      <td>0.008</td>\n",
       "    </tr>\n",
       "    <tr>\n",
       "      <th>light_decelerations</th>\n",
       "      <td>0.0</td>\n",
       "      <td>0.003</td>\n",
       "      <td>0.003</td>\n",
       "      <td>0.003</td>\n",
       "      <td>0.000</td>\n",
       "    </tr>\n",
       "    <tr>\n",
       "      <th>severe_decelerations</th>\n",
       "      <td>0.0</td>\n",
       "      <td>0.000</td>\n",
       "      <td>0.000</td>\n",
       "      <td>0.000</td>\n",
       "      <td>0.000</td>\n",
       "    </tr>\n",
       "    <tr>\n",
       "      <th>prolongued_decelerations</th>\n",
       "      <td>0.0</td>\n",
       "      <td>0.000</td>\n",
       "      <td>0.000</td>\n",
       "      <td>0.000</td>\n",
       "      <td>0.000</td>\n",
       "    </tr>\n",
       "    <tr>\n",
       "      <th>abnormal_short_term_variability</th>\n",
       "      <td>73.0</td>\n",
       "      <td>17.000</td>\n",
       "      <td>16.000</td>\n",
       "      <td>16.000</td>\n",
       "      <td>16.000</td>\n",
       "    </tr>\n",
       "    <tr>\n",
       "      <th>mean_value_of_short_term_variability</th>\n",
       "      <td>0.5</td>\n",
       "      <td>2.100</td>\n",
       "      <td>2.100</td>\n",
       "      <td>2.400</td>\n",
       "      <td>2.400</td>\n",
       "    </tr>\n",
       "    <tr>\n",
       "      <th>percentage_of_time_with_abnormal_long_term_variability</th>\n",
       "      <td>43.0</td>\n",
       "      <td>0.000</td>\n",
       "      <td>0.000</td>\n",
       "      <td>0.000</td>\n",
       "      <td>0.000</td>\n",
       "    </tr>\n",
       "    <tr>\n",
       "      <th>mean_value_of_long_term_variability</th>\n",
       "      <td>2.4</td>\n",
       "      <td>10.400</td>\n",
       "      <td>13.400</td>\n",
       "      <td>23.000</td>\n",
       "      <td>19.900</td>\n",
       "    </tr>\n",
       "    <tr>\n",
       "      <th>histogram_width</th>\n",
       "      <td>64.0</td>\n",
       "      <td>130.000</td>\n",
       "      <td>130.000</td>\n",
       "      <td>117.000</td>\n",
       "      <td>117.000</td>\n",
       "    </tr>\n",
       "    <tr>\n",
       "      <th>histogram_min</th>\n",
       "      <td>62.0</td>\n",
       "      <td>68.000</td>\n",
       "      <td>68.000</td>\n",
       "      <td>53.000</td>\n",
       "      <td>53.000</td>\n",
       "    </tr>\n",
       "    <tr>\n",
       "      <th>histogram_max</th>\n",
       "      <td>126.0</td>\n",
       "      <td>198.000</td>\n",
       "      <td>198.000</td>\n",
       "      <td>170.000</td>\n",
       "      <td>170.000</td>\n",
       "    </tr>\n",
       "    <tr>\n",
       "      <th>histogram_number_of_peaks</th>\n",
       "      <td>2.0</td>\n",
       "      <td>6.000</td>\n",
       "      <td>5.000</td>\n",
       "      <td>11.000</td>\n",
       "      <td>9.000</td>\n",
       "    </tr>\n",
       "    <tr>\n",
       "      <th>histogram_number_of_zeroes</th>\n",
       "      <td>0.0</td>\n",
       "      <td>1.000</td>\n",
       "      <td>1.000</td>\n",
       "      <td>0.000</td>\n",
       "      <td>0.000</td>\n",
       "    </tr>\n",
       "    <tr>\n",
       "      <th>histogram_mode</th>\n",
       "      <td>120.0</td>\n",
       "      <td>141.000</td>\n",
       "      <td>141.000</td>\n",
       "      <td>137.000</td>\n",
       "      <td>137.000</td>\n",
       "    </tr>\n",
       "    <tr>\n",
       "      <th>histogram_mean</th>\n",
       "      <td>137.0</td>\n",
       "      <td>136.000</td>\n",
       "      <td>135.000</td>\n",
       "      <td>134.000</td>\n",
       "      <td>136.000</td>\n",
       "    </tr>\n",
       "    <tr>\n",
       "      <th>histogram_median</th>\n",
       "      <td>121.0</td>\n",
       "      <td>140.000</td>\n",
       "      <td>138.000</td>\n",
       "      <td>137.000</td>\n",
       "      <td>138.000</td>\n",
       "    </tr>\n",
       "    <tr>\n",
       "      <th>histogram_variance</th>\n",
       "      <td>73.0</td>\n",
       "      <td>12.000</td>\n",
       "      <td>13.000</td>\n",
       "      <td>13.000</td>\n",
       "      <td>11.000</td>\n",
       "    </tr>\n",
       "    <tr>\n",
       "      <th>histogram_tendency</th>\n",
       "      <td>1.0</td>\n",
       "      <td>0.000</td>\n",
       "      <td>0.000</td>\n",
       "      <td>1.000</td>\n",
       "      <td>1.000</td>\n",
       "    </tr>\n",
       "    <tr>\n",
       "      <th>fetal_health</th>\n",
       "      <td>2.0</td>\n",
       "      <td>1.000</td>\n",
       "      <td>1.000</td>\n",
       "      <td>1.000</td>\n",
       "      <td>1.000</td>\n",
       "    </tr>\n",
       "  </tbody>\n",
       "</table>\n",
       "</div>"
      ],
      "text/plain": [
       "                                                        0        1        2  \\\n",
       "baseline value                                      120.0  132.000  133.000   \n",
       "accelerations                                         0.0    0.006    0.003   \n",
       "fetal_movement                                        0.0    0.000    0.000   \n",
       "uterine_contractions                                  0.0    0.006    0.008   \n",
       "light_decelerations                                   0.0    0.003    0.003   \n",
       "severe_decelerations                                  0.0    0.000    0.000   \n",
       "prolongued_decelerations                              0.0    0.000    0.000   \n",
       "abnormal_short_term_variability                      73.0   17.000   16.000   \n",
       "mean_value_of_short_term_variability                  0.5    2.100    2.100   \n",
       "percentage_of_time_with_abnormal_long_term_vari...   43.0    0.000    0.000   \n",
       "mean_value_of_long_term_variability                   2.4   10.400   13.400   \n",
       "histogram_width                                      64.0  130.000  130.000   \n",
       "histogram_min                                        62.0   68.000   68.000   \n",
       "histogram_max                                       126.0  198.000  198.000   \n",
       "histogram_number_of_peaks                             2.0    6.000    5.000   \n",
       "histogram_number_of_zeroes                            0.0    1.000    1.000   \n",
       "histogram_mode                                      120.0  141.000  141.000   \n",
       "histogram_mean                                      137.0  136.000  135.000   \n",
       "histogram_median                                    121.0  140.000  138.000   \n",
       "histogram_variance                                   73.0   12.000   13.000   \n",
       "histogram_tendency                                    1.0    0.000    0.000   \n",
       "fetal_health                                          2.0    1.000    1.000   \n",
       "\n",
       "                                                          3        4  \n",
       "baseline value                                      134.000  132.000  \n",
       "accelerations                                         0.003    0.007  \n",
       "fetal_movement                                        0.000    0.000  \n",
       "uterine_contractions                                  0.008    0.008  \n",
       "light_decelerations                                   0.003    0.000  \n",
       "severe_decelerations                                  0.000    0.000  \n",
       "prolongued_decelerations                              0.000    0.000  \n",
       "abnormal_short_term_variability                      16.000   16.000  \n",
       "mean_value_of_short_term_variability                  2.400    2.400  \n",
       "percentage_of_time_with_abnormal_long_term_vari...    0.000    0.000  \n",
       "mean_value_of_long_term_variability                  23.000   19.900  \n",
       "histogram_width                                     117.000  117.000  \n",
       "histogram_min                                        53.000   53.000  \n",
       "histogram_max                                       170.000  170.000  \n",
       "histogram_number_of_peaks                            11.000    9.000  \n",
       "histogram_number_of_zeroes                            0.000    0.000  \n",
       "histogram_mode                                      137.000  137.000  \n",
       "histogram_mean                                      134.000  136.000  \n",
       "histogram_median                                    137.000  138.000  \n",
       "histogram_variance                                   13.000   11.000  \n",
       "histogram_tendency                                    1.000    1.000  \n",
       "fetal_health                                          1.000    1.000  "
      ]
     },
     "execution_count": 2,
     "metadata": {},
     "output_type": "execute_result"
    }
   ],
   "source": [
    "data = pd.read_csv('fetal_health.csv')\n",
    "data.head().transpose()"
   ]
  },
  {
   "cell_type": "markdown",
   "id": "ae781880",
   "metadata": {},
   "source": [
    "## Create X and y and split into training and testing"
   ]
  },
  {
   "cell_type": "code",
   "execution_count": 3,
   "id": "5960bf01",
   "metadata": {},
   "outputs": [],
   "source": [
    "X = data.drop(columns = 'fetal_health')\n",
    "y = data['fetal_health']"
   ]
  },
  {
   "cell_type": "code",
   "execution_count": 4,
   "id": "26494db2",
   "metadata": {},
   "outputs": [
    {
     "data": {
      "text/plain": [
       "(2126, 21)"
      ]
     },
     "execution_count": 4,
     "metadata": {},
     "output_type": "execute_result"
    }
   ],
   "source": [
    "X.shape"
   ]
  },
  {
   "cell_type": "code",
   "execution_count": 5,
   "id": "346778d4",
   "metadata": {},
   "outputs": [
    {
     "data": {
      "text/plain": [
       "(2126,)"
      ]
     },
     "execution_count": 5,
     "metadata": {},
     "output_type": "execute_result"
    }
   ],
   "source": [
    "y.shape"
   ]
  },
  {
   "cell_type": "code",
   "execution_count": 6,
   "id": "8e8194d5",
   "metadata": {},
   "outputs": [],
   "source": [
    "X_train, X_test, y_train, y_test = train_test_split(X, y, stratify = y, random_state = 42)"
   ]
  },
  {
   "cell_type": "markdown",
   "id": "58da09e4",
   "metadata": {},
   "source": [
    "## Scale X_train and X_test"
   ]
  },
  {
   "cell_type": "code",
   "execution_count": 7,
   "id": "63fda3b4",
   "metadata": {},
   "outputs": [],
   "source": [
    "scaler = StandardScaler()\n",
    "scaler.fit(X_train)\n",
    "X_train_scaled = scaler.transform(X_train)\n",
    "X_test_scaled = scaler.transform(X_test)"
   ]
  },
  {
   "cell_type": "code",
   "execution_count": 8,
   "id": "a4aabca4",
   "metadata": {},
   "outputs": [
    {
     "data": {
      "text/html": [
       "<div>\n",
       "<style scoped>\n",
       "    .dataframe tbody tr th:only-of-type {\n",
       "        vertical-align: middle;\n",
       "    }\n",
       "\n",
       "    .dataframe tbody tr th {\n",
       "        vertical-align: top;\n",
       "    }\n",
       "\n",
       "    .dataframe thead th {\n",
       "        text-align: right;\n",
       "    }\n",
       "</style>\n",
       "<table border=\"1\" class=\"dataframe\">\n",
       "  <thead>\n",
       "    <tr style=\"text-align: right;\">\n",
       "      <th></th>\n",
       "      <th>baseline value</th>\n",
       "      <th>accelerations</th>\n",
       "      <th>fetal_movement</th>\n",
       "      <th>uterine_contractions</th>\n",
       "      <th>light_decelerations</th>\n",
       "      <th>severe_decelerations</th>\n",
       "      <th>prolongued_decelerations</th>\n",
       "      <th>abnormal_short_term_variability</th>\n",
       "      <th>mean_value_of_short_term_variability</th>\n",
       "      <th>percentage_of_time_with_abnormal_long_term_variability</th>\n",
       "      <th>...</th>\n",
       "      <th>histogram_width</th>\n",
       "      <th>histogram_min</th>\n",
       "      <th>histogram_max</th>\n",
       "      <th>histogram_number_of_peaks</th>\n",
       "      <th>histogram_number_of_zeroes</th>\n",
       "      <th>histogram_mode</th>\n",
       "      <th>histogram_mean</th>\n",
       "      <th>histogram_median</th>\n",
       "      <th>histogram_variance</th>\n",
       "      <th>histogram_tendency</th>\n",
       "    </tr>\n",
       "  </thead>\n",
       "  <tbody>\n",
       "    <tr>\n",
       "      <th>0</th>\n",
       "      <td>0.298275</td>\n",
       "      <td>-0.569903</td>\n",
       "      <td>-0.206681</td>\n",
       "      <td>0.221624</td>\n",
       "      <td>-0.635182</td>\n",
       "      <td>-0.050157</td>\n",
       "      <td>-0.273208</td>\n",
       "      <td>-0.564771</td>\n",
       "      <td>-0.495808</td>\n",
       "      <td>0.113372</td>\n",
       "      <td>...</td>\n",
       "      <td>-0.958810</td>\n",
       "      <td>1.035678</td>\n",
       "      <td>-0.380359</td>\n",
       "      <td>-0.360114</td>\n",
       "      <td>-0.472427</td>\n",
       "      <td>0.105212</td>\n",
       "      <td>0.293534</td>\n",
       "      <td>0.142906</td>\n",
       "      <td>-0.605471</td>\n",
       "      <td>-0.524627</td>\n",
       "    </tr>\n",
       "    <tr>\n",
       "      <th>1</th>\n",
       "      <td>-0.009726</td>\n",
       "      <td>-0.311534</td>\n",
       "      <td>-0.206681</td>\n",
       "      <td>0.907582</td>\n",
       "      <td>0.052177</td>\n",
       "      <td>-0.050157</td>\n",
       "      <td>-0.273208</td>\n",
       "      <td>-0.738107</td>\n",
       "      <td>-0.268542</td>\n",
       "      <td>-0.156593</td>\n",
       "      <td>...</td>\n",
       "      <td>-0.034518</td>\n",
       "      <td>-0.083993</td>\n",
       "      <td>-0.213045</td>\n",
       "      <td>-0.020657</td>\n",
       "      <td>-0.472427</td>\n",
       "      <td>-0.077742</td>\n",
       "      <td>0.035884</td>\n",
       "      <td>-0.066398</td>\n",
       "      <td>-0.470621</td>\n",
       "      <td>-0.524627</td>\n",
       "    </tr>\n",
       "    <tr>\n",
       "      <th>2</th>\n",
       "      <td>0.298275</td>\n",
       "      <td>-0.828272</td>\n",
       "      <td>-0.206681</td>\n",
       "      <td>1.593539</td>\n",
       "      <td>-0.635182</td>\n",
       "      <td>-0.050157</td>\n",
       "      <td>-0.273208</td>\n",
       "      <td>1.804144</td>\n",
       "      <td>-1.063973</td>\n",
       "      <td>0.923265</td>\n",
       "      <td>...</td>\n",
       "      <td>-0.702062</td>\n",
       "      <td>0.628525</td>\n",
       "      <td>-0.491902</td>\n",
       "      <td>-0.020657</td>\n",
       "      <td>-0.472427</td>\n",
       "      <td>0.044227</td>\n",
       "      <td>0.164709</td>\n",
       "      <td>0.073138</td>\n",
       "      <td>-0.639183</td>\n",
       "      <td>-0.524627</td>\n",
       "    </tr>\n",
       "    <tr>\n",
       "      <th>3</th>\n",
       "      <td>1.222276</td>\n",
       "      <td>-0.828272</td>\n",
       "      <td>-0.206681</td>\n",
       "      <td>-1.150292</td>\n",
       "      <td>-0.291502</td>\n",
       "      <td>-0.050157</td>\n",
       "      <td>-0.273208</td>\n",
       "      <td>0.764132</td>\n",
       "      <td>-0.950340</td>\n",
       "      <td>-0.264579</td>\n",
       "      <td>...</td>\n",
       "      <td>-0.625038</td>\n",
       "      <td>0.594595</td>\n",
       "      <td>-0.380359</td>\n",
       "      <td>-1.039027</td>\n",
       "      <td>1.030664</td>\n",
       "      <td>0.654072</td>\n",
       "      <td>0.744423</td>\n",
       "      <td>0.701050</td>\n",
       "      <td>-0.504334</td>\n",
       "      <td>1.111881</td>\n",
       "    </tr>\n",
       "    <tr>\n",
       "      <th>4</th>\n",
       "      <td>1.119609</td>\n",
       "      <td>0.721942</td>\n",
       "      <td>-0.082219</td>\n",
       "      <td>-0.464334</td>\n",
       "      <td>-0.635182</td>\n",
       "      <td>-0.050157</td>\n",
       "      <td>-0.273208</td>\n",
       "      <td>-0.738107</td>\n",
       "      <td>0.299623</td>\n",
       "      <td>-0.534543</td>\n",
       "      <td>...</td>\n",
       "      <td>0.864100</td>\n",
       "      <td>-0.762582</td>\n",
       "      <td>0.623529</td>\n",
       "      <td>-0.020657</td>\n",
       "      <td>1.030664</td>\n",
       "      <td>0.654072</td>\n",
       "      <td>0.937661</td>\n",
       "      <td>0.910354</td>\n",
       "      <td>-0.268346</td>\n",
       "      <td>1.111881</td>\n",
       "    </tr>\n",
       "  </tbody>\n",
       "</table>\n",
       "<p>5 rows × 21 columns</p>\n",
       "</div>"
      ],
      "text/plain": [
       "   baseline value  accelerations  fetal_movement  uterine_contractions  \\\n",
       "0        0.298275      -0.569903       -0.206681              0.221624   \n",
       "1       -0.009726      -0.311534       -0.206681              0.907582   \n",
       "2        0.298275      -0.828272       -0.206681              1.593539   \n",
       "3        1.222276      -0.828272       -0.206681             -1.150292   \n",
       "4        1.119609       0.721942       -0.082219             -0.464334   \n",
       "\n",
       "   light_decelerations  severe_decelerations  prolongued_decelerations  \\\n",
       "0            -0.635182             -0.050157                 -0.273208   \n",
       "1             0.052177             -0.050157                 -0.273208   \n",
       "2            -0.635182             -0.050157                 -0.273208   \n",
       "3            -0.291502             -0.050157                 -0.273208   \n",
       "4            -0.635182             -0.050157                 -0.273208   \n",
       "\n",
       "   abnormal_short_term_variability  mean_value_of_short_term_variability  \\\n",
       "0                        -0.564771                             -0.495808   \n",
       "1                        -0.738107                             -0.268542   \n",
       "2                         1.804144                             -1.063973   \n",
       "3                         0.764132                             -0.950340   \n",
       "4                        -0.738107                              0.299623   \n",
       "\n",
       "   percentage_of_time_with_abnormal_long_term_variability  ...  \\\n",
       "0                                           0.113372       ...   \n",
       "1                                          -0.156593       ...   \n",
       "2                                           0.923265       ...   \n",
       "3                                          -0.264579       ...   \n",
       "4                                          -0.534543       ...   \n",
       "\n",
       "   histogram_width  histogram_min  histogram_max  histogram_number_of_peaks  \\\n",
       "0        -0.958810       1.035678      -0.380359                  -0.360114   \n",
       "1        -0.034518      -0.083993      -0.213045                  -0.020657   \n",
       "2        -0.702062       0.628525      -0.491902                  -0.020657   \n",
       "3        -0.625038       0.594595      -0.380359                  -1.039027   \n",
       "4         0.864100      -0.762582       0.623529                  -0.020657   \n",
       "\n",
       "   histogram_number_of_zeroes  histogram_mode  histogram_mean  \\\n",
       "0                   -0.472427        0.105212        0.293534   \n",
       "1                   -0.472427       -0.077742        0.035884   \n",
       "2                   -0.472427        0.044227        0.164709   \n",
       "3                    1.030664        0.654072        0.744423   \n",
       "4                    1.030664        0.654072        0.937661   \n",
       "\n",
       "   histogram_median  histogram_variance  histogram_tendency  \n",
       "0          0.142906           -0.605471           -0.524627  \n",
       "1         -0.066398           -0.470621           -0.524627  \n",
       "2          0.073138           -0.639183           -0.524627  \n",
       "3          0.701050           -0.504334            1.111881  \n",
       "4          0.910354           -0.268346            1.111881  \n",
       "\n",
       "[5 rows x 21 columns]"
      ]
     },
     "execution_count": 8,
     "metadata": {},
     "output_type": "execute_result"
    }
   ],
   "source": [
    "X_train_scaled = pd.DataFrame(X_train_scaled, columns = X_train.columns)\n",
    "X_test_scaled = pd.DataFrame(X_test_scaled, columns = X_test.columns)\n",
    "X_train_scaled.head()"
   ]
  },
  {
   "cell_type": "code",
   "execution_count": 9,
   "id": "3f51b270",
   "metadata": {},
   "outputs": [
    {
     "data": {
      "text/html": [
       "<div>\n",
       "<style scoped>\n",
       "    .dataframe tbody tr th:only-of-type {\n",
       "        vertical-align: middle;\n",
       "    }\n",
       "\n",
       "    .dataframe tbody tr th {\n",
       "        vertical-align: top;\n",
       "    }\n",
       "\n",
       "    .dataframe thead th {\n",
       "        text-align: right;\n",
       "    }\n",
       "</style>\n",
       "<table border=\"1\" class=\"dataframe\">\n",
       "  <thead>\n",
       "    <tr style=\"text-align: right;\">\n",
       "      <th></th>\n",
       "      <th>baseline value</th>\n",
       "      <th>accelerations</th>\n",
       "      <th>fetal_movement</th>\n",
       "      <th>uterine_contractions</th>\n",
       "      <th>light_decelerations</th>\n",
       "      <th>severe_decelerations</th>\n",
       "      <th>prolongued_decelerations</th>\n",
       "      <th>abnormal_short_term_variability</th>\n",
       "      <th>mean_value_of_short_term_variability</th>\n",
       "      <th>percentage_of_time_with_abnormal_long_term_variability</th>\n",
       "      <th>...</th>\n",
       "      <th>histogram_width</th>\n",
       "      <th>histogram_min</th>\n",
       "      <th>histogram_max</th>\n",
       "      <th>histogram_number_of_peaks</th>\n",
       "      <th>histogram_number_of_zeroes</th>\n",
       "      <th>histogram_mode</th>\n",
       "      <th>histogram_mean</th>\n",
       "      <th>histogram_median</th>\n",
       "      <th>histogram_variance</th>\n",
       "      <th>histogram_tendency</th>\n",
       "    </tr>\n",
       "  </thead>\n",
       "  <tbody>\n",
       "    <tr>\n",
       "      <th>0</th>\n",
       "      <td>-2.165728</td>\n",
       "      <td>3.822371</td>\n",
       "      <td>-0.206681</td>\n",
       "      <td>0.907582</td>\n",
       "      <td>-0.635182</td>\n",
       "      <td>-0.050157</td>\n",
       "      <td>-0.273208</td>\n",
       "      <td>-1.258112</td>\n",
       "      <td>0.072357</td>\n",
       "      <td>-0.534543</td>\n",
       "      <td>...</td>\n",
       "      <td>-0.907461</td>\n",
       "      <td>0.526737</td>\n",
       "      <td>-1.105389</td>\n",
       "      <td>-1.378484</td>\n",
       "      <td>-0.472427</td>\n",
       "      <td>-1.297431</td>\n",
       "      <td>-0.930307</td>\n",
       "      <td>-1.322222</td>\n",
       "      <td>-0.436909</td>\n",
       "      <td>-2.161135</td>\n",
       "    </tr>\n",
       "    <tr>\n",
       "      <th>1</th>\n",
       "      <td>0.914275</td>\n",
       "      <td>-0.828272</td>\n",
       "      <td>-0.206681</td>\n",
       "      <td>-0.121355</td>\n",
       "      <td>-0.635182</td>\n",
       "      <td>-0.050157</td>\n",
       "      <td>-0.273208</td>\n",
       "      <td>0.128570</td>\n",
       "      <td>-0.836707</td>\n",
       "      <td>1.085244</td>\n",
       "      <td>...</td>\n",
       "      <td>-1.369607</td>\n",
       "      <td>1.578549</td>\n",
       "      <td>-0.380359</td>\n",
       "      <td>-1.039027</td>\n",
       "      <td>-0.472427</td>\n",
       "      <td>0.776041</td>\n",
       "      <td>0.873249</td>\n",
       "      <td>0.840586</td>\n",
       "      <td>-0.639183</td>\n",
       "      <td>-0.524627</td>\n",
       "    </tr>\n",
       "    <tr>\n",
       "      <th>2</th>\n",
       "      <td>0.606275</td>\n",
       "      <td>1.497050</td>\n",
       "      <td>-0.185937</td>\n",
       "      <td>1.250561</td>\n",
       "      <td>1.426895</td>\n",
       "      <td>-0.050157</td>\n",
       "      <td>-0.273208</td>\n",
       "      <td>0.186348</td>\n",
       "      <td>0.072357</td>\n",
       "      <td>-0.534543</td>\n",
       "      <td>...</td>\n",
       "      <td>0.812751</td>\n",
       "      <td>-0.592935</td>\n",
       "      <td>0.790843</td>\n",
       "      <td>1.337170</td>\n",
       "      <td>-0.472427</td>\n",
       "      <td>1.507854</td>\n",
       "      <td>0.486773</td>\n",
       "      <td>0.631282</td>\n",
       "      <td>1.754402</td>\n",
       "      <td>1.111881</td>\n",
       "    </tr>\n",
       "    <tr>\n",
       "      <th>3</th>\n",
       "      <td>-1.036393</td>\n",
       "      <td>2.272157</td>\n",
       "      <td>-0.206681</td>\n",
       "      <td>-0.807313</td>\n",
       "      <td>-0.635182</td>\n",
       "      <td>-0.050157</td>\n",
       "      <td>-0.273208</td>\n",
       "      <td>-1.431447</td>\n",
       "      <td>0.981421</td>\n",
       "      <td>-0.534543</td>\n",
       "      <td>...</td>\n",
       "      <td>-0.470989</td>\n",
       "      <td>0.221372</td>\n",
       "      <td>-0.659217</td>\n",
       "      <td>-0.699571</td>\n",
       "      <td>-0.472427</td>\n",
       "      <td>-0.382664</td>\n",
       "      <td>-0.157354</td>\n",
       "      <td>-0.345470</td>\n",
       "      <td>-0.504334</td>\n",
       "      <td>-0.524627</td>\n",
       "    </tr>\n",
       "    <tr>\n",
       "      <th>4</th>\n",
       "      <td>-0.009726</td>\n",
       "      <td>-0.311534</td>\n",
       "      <td>-0.185937</td>\n",
       "      <td>1.593539</td>\n",
       "      <td>0.395857</td>\n",
       "      <td>-0.050157</td>\n",
       "      <td>-0.273208</td>\n",
       "      <td>0.533019</td>\n",
       "      <td>0.981421</td>\n",
       "      <td>-0.534543</td>\n",
       "      <td>...</td>\n",
       "      <td>0.504653</td>\n",
       "      <td>-0.762582</td>\n",
       "      <td>-0.157273</td>\n",
       "      <td>-0.699571</td>\n",
       "      <td>1.030664</td>\n",
       "      <td>0.105212</td>\n",
       "      <td>-0.930307</td>\n",
       "      <td>0.073138</td>\n",
       "      <td>0.001354</td>\n",
       "      <td>1.111881</td>\n",
       "    </tr>\n",
       "  </tbody>\n",
       "</table>\n",
       "<p>5 rows × 21 columns</p>\n",
       "</div>"
      ],
      "text/plain": [
       "   baseline value  accelerations  fetal_movement  uterine_contractions  \\\n",
       "0       -2.165728       3.822371       -0.206681              0.907582   \n",
       "1        0.914275      -0.828272       -0.206681             -0.121355   \n",
       "2        0.606275       1.497050       -0.185937              1.250561   \n",
       "3       -1.036393       2.272157       -0.206681             -0.807313   \n",
       "4       -0.009726      -0.311534       -0.185937              1.593539   \n",
       "\n",
       "   light_decelerations  severe_decelerations  prolongued_decelerations  \\\n",
       "0            -0.635182             -0.050157                 -0.273208   \n",
       "1            -0.635182             -0.050157                 -0.273208   \n",
       "2             1.426895             -0.050157                 -0.273208   \n",
       "3            -0.635182             -0.050157                 -0.273208   \n",
       "4             0.395857             -0.050157                 -0.273208   \n",
       "\n",
       "   abnormal_short_term_variability  mean_value_of_short_term_variability  \\\n",
       "0                        -1.258112                              0.072357   \n",
       "1                         0.128570                             -0.836707   \n",
       "2                         0.186348                              0.072357   \n",
       "3                        -1.431447                              0.981421   \n",
       "4                         0.533019                              0.981421   \n",
       "\n",
       "   percentage_of_time_with_abnormal_long_term_variability  ...  \\\n",
       "0                                          -0.534543       ...   \n",
       "1                                           1.085244       ...   \n",
       "2                                          -0.534543       ...   \n",
       "3                                          -0.534543       ...   \n",
       "4                                          -0.534543       ...   \n",
       "\n",
       "   histogram_width  histogram_min  histogram_max  histogram_number_of_peaks  \\\n",
       "0        -0.907461       0.526737      -1.105389                  -1.378484   \n",
       "1        -1.369607       1.578549      -0.380359                  -1.039027   \n",
       "2         0.812751      -0.592935       0.790843                   1.337170   \n",
       "3        -0.470989       0.221372      -0.659217                  -0.699571   \n",
       "4         0.504653      -0.762582      -0.157273                  -0.699571   \n",
       "\n",
       "   histogram_number_of_zeroes  histogram_mode  histogram_mean  \\\n",
       "0                   -0.472427       -1.297431       -0.930307   \n",
       "1                   -0.472427        0.776041        0.873249   \n",
       "2                   -0.472427        1.507854        0.486773   \n",
       "3                   -0.472427       -0.382664       -0.157354   \n",
       "4                    1.030664        0.105212       -0.930307   \n",
       "\n",
       "   histogram_median  histogram_variance  histogram_tendency  \n",
       "0         -1.322222           -0.436909           -2.161135  \n",
       "1          0.840586           -0.639183           -0.524627  \n",
       "2          0.631282            1.754402            1.111881  \n",
       "3         -0.345470           -0.504334           -0.524627  \n",
       "4          0.073138            0.001354            1.111881  \n",
       "\n",
       "[5 rows x 21 columns]"
      ]
     },
     "execution_count": 9,
     "metadata": {},
     "output_type": "execute_result"
    }
   ],
   "source": [
    "X_test_scaled.head()"
   ]
  },
  {
   "cell_type": "markdown",
   "id": "6211a8da",
   "metadata": {},
   "source": [
    "## Visualizing the Scaled Training Data"
   ]
  },
  {
   "cell_type": "code",
   "execution_count": 10,
   "id": "68a51285",
   "metadata": {},
   "outputs": [
    {
     "name": "stderr",
     "output_type": "stream",
     "text": [
      "/var/folders/mw/tgvznz1d6xbdcgxt0rkwdh540000gn/T/ipykernel_31709/1290916488.py:2: UserWarning: To output multiple subplots, the figure containing the passed axes is being cleared.\n",
      "  X_train_scaled.hist(ax = ax)\n"
     ]
    },
    {
     "data": {
      "image/png": "[encoded data removed]",
      "text/plain": [
       "<Figure size 1600x1600 with 25 Axes>"
      ]
     },
     "metadata": {},
     "output_type": "display_data"
    }
   ],
   "source": [
    "fig, ax = plt.subplots(figsize = (16,16))\n",
    "X_train_scaled.hist(ax = ax)\n",
    "plt.subplots_adjust(wspace = 0.5, hspace=0.4);"
   ]
  },
  {
   "cell_type": "code",
   "execution_count": 11,
   "id": "dc0d97d1",
   "metadata": {},
   "outputs": [],
   "source": [
    "X_train_scaled.to_csv('fetal_health_X_train_scaled.csv')\n",
    "X_test_scaled.to_csv('fetal_health_X_test_scaled.csv')\n",
    "y_train.to_csv('fetal_health_y_train.csv')\n",
    "y_test.to_csv('fetal_health_y_test.csv')"
   ]
  },
  {
   "cell_type": "markdown",
   "id": "870fb65a",
   "metadata": {},
   "source": [
    "## Create Dummy Classifier for Baseline "
   ]
  },
  {
   "cell_type": "code",
   "execution_count": 12,
   "id": "625c644f",
   "metadata": {},
   "outputs": [],
   "source": [
    "dummy_clf = DummyClassifier(strategy = 'most_frequent')\n",
    "dummy_clf.fit(X_train_scaled, y_train)\n",
    "preds = dummy_clf.predict(X_test_scaled)\n",
    "score = dummy_clf.score(preds, y_test)"
   ]
  },
  {
   "cell_type": "code",
   "execution_count": 13,
   "id": "3db52e13",
   "metadata": {},
   "outputs": [
    {
     "name": "stdout",
     "output_type": "stream",
     "text": [
      "              precision    recall  f1-score   support\n",
      "\n",
      "         1.0       0.78      1.00      0.88       414\n",
      "         2.0       0.00      0.00      0.00        74\n",
      "         3.0       0.00      0.00      0.00        44\n",
      "\n",
      "    accuracy                           0.78       532\n",
      "   macro avg       0.26      0.33      0.29       532\n",
      "weighted avg       0.61      0.78      0.68       532\n",
      "\n",
      "[[414   0   0]\n",
      " [ 74   0   0]\n",
      " [ 44   0   0]]\n"
     ]
    },
    {
     "name": "stderr",
     "output_type": "stream",
     "text": [
      "/Users/morgansnellgrove/anaconda3/lib/python3.11/site-packages/sklearn/metrics/_classification.py:1469: UndefinedMetricWarning: Precision and F-score are ill-defined and being set to 0.0 in labels with no predicted samples. Use `zero_division` parameter to control this behavior.\n",
      "  _warn_prf(average, modifier, msg_start, len(result))\n",
      "/Users/morgansnellgrove/anaconda3/lib/python3.11/site-packages/sklearn/metrics/_classification.py:1469: UndefinedMetricWarning: Precision and F-score are ill-defined and being set to 0.0 in labels with no predicted samples. Use `zero_division` parameter to control this behavior.\n",
      "  _warn_prf(average, modifier, msg_start, len(result))\n",
      "/Users/morgansnellgrove/anaconda3/lib/python3.11/site-packages/sklearn/metrics/_classification.py:1469: UndefinedMetricWarning: Precision and F-score are ill-defined and being set to 0.0 in labels with no predicted samples. Use `zero_division` parameter to control this behavior.\n",
      "  _warn_prf(average, modifier, msg_start, len(result))\n"
     ]
    }
   ],
   "source": [
    "print(classification_report(y_test, preds))\n",
    "print(confusion_matrix(y_test, preds))"
   ]
  },
  {
   "cell_type": "code",
   "execution_count": 14,
   "id": "cfb87e6b",
   "metadata": {},
   "outputs": [
    {
     "name": "stdout",
     "output_type": "stream",
     "text": [
      "0.7781954887218046\n"
     ]
    }
   ],
   "source": [
    "print(score)"
   ]
  },
  {
   "cell_type": "code",
   "execution_count": 15,
   "id": "92c4f943",
   "metadata": {},
   "outputs": [
    {
     "name": "stdout",
     "output_type": "stream",
     "text": [
      "1.0    0.778545\n",
      "2.0    0.138645\n",
      "3.0    0.082811\n",
      "Name: fetal_health, dtype: float64\n"
     ]
    }
   ],
   "source": [
    "occ = y_train.value_counts()\n",
    "print(occ/len(y_train))"
   ]
  },
  {
   "cell_type": "markdown",
   "id": "78f50fa5",
   "metadata": {},
   "source": [
    "## Imbalance in Classes\n",
    "\n",
    "I may need to use some resampling methods to address the class imbalance. I want to first try modeling with the data as is, and then I might come back and apply try a few resampling ideas on the training data. May try:\n",
    "\n",
    "1) undersampling class 1 and oversampling classes 2 and 3\n",
    "2) leaving class 1 alone and oversampling classes 2 and 3\n",
    "3) learn about imbalanced learn library, RandomOverSampler, and SMOTE.\n"
   ]
  },
  {
   "cell_type": "markdown",
   "id": "204be69c",
   "metadata": {},
   "source": [
    "## Decision Tree Models\n",
    "\n",
    "I decided to play around with some hyperperameters here. I do CV later. "
   ]
  },
  {
   "cell_type": "markdown",
   "id": "8eb55bfd",
   "metadata": {},
   "source": [
    "### Entropy Model, no max depth"
   ]
  },
  {
   "cell_type": "code",
   "execution_count": 16,
   "id": "28d9ec55",
   "metadata": {},
   "outputs": [],
   "source": [
    "entr_dt = DecisionTreeClassifier(criterion=\"entropy\")\n",
    "entr_dt.fit(X_train_scaled, y_train)\n",
    "preds = entr_dt.predict(X_test_scaled)"
   ]
  },
  {
   "cell_type": "code",
   "execution_count": 17,
   "id": "d6d5933c",
   "metadata": {},
   "outputs": [
    {
     "name": "stdout",
     "output_type": "stream",
     "text": [
      "Entropy Tree depth:  14\n"
     ]
    }
   ],
   "source": [
    "tr_depth = entr_dt.get_depth()\n",
    "print('Entropy Tree depth: ', tr_depth)"
   ]
  },
  {
   "cell_type": "code",
   "execution_count": 18,
   "id": "ca76538c",
   "metadata": {},
   "outputs": [
    {
     "name": "stdout",
     "output_type": "stream",
     "text": [
      "              precision    recall  f1-score   support\n",
      "\n",
      "         1.0       0.95      0.95      0.95       414\n",
      "         2.0       0.71      0.74      0.72        74\n",
      "         3.0       0.90      0.84      0.87        44\n",
      "\n",
      "    accuracy                           0.91       532\n",
      "   macro avg       0.85      0.84      0.85       532\n",
      "weighted avg       0.91      0.91      0.91       532\n",
      "\n"
     ]
    }
   ],
   "source": [
    "print(classification_report(y_test, preds))"
   ]
  },
  {
   "cell_type": "code",
   "execution_count": 19,
   "id": "13c4c6b8",
   "metadata": {},
   "outputs": [
    {
     "name": "stdout",
     "output_type": "stream",
     "text": [
      "[[393  19   2]\n",
      " [ 17  55   2]\n",
      " [  3   4  37]]\n"
     ]
    }
   ],
   "source": [
    "print(confusion_matrix(y_test, preds))"
   ]
  },
  {
   "cell_type": "markdown",
   "id": "b7b8e8f4",
   "metadata": {},
   "source": [
    "### Gini Impurity Model, no max depth"
   ]
  },
  {
   "cell_type": "code",
   "execution_count": 20,
   "id": "05e13e2c",
   "metadata": {},
   "outputs": [],
   "source": [
    "gini_dt = DecisionTreeClassifier(criterion = 'gini')\n",
    "gini_dt.fit(X_train_scaled, y_train)\n",
    "preds = gini_dt.predict(X_test_scaled)"
   ]
  },
  {
   "cell_type": "code",
   "execution_count": 21,
   "id": "6d707a42",
   "metadata": {},
   "outputs": [
    {
     "name": "stdout",
     "output_type": "stream",
     "text": [
      "Gini tree depth:  14\n"
     ]
    }
   ],
   "source": [
    "tr_depth = gini_dt.get_depth()\n",
    "print('Gini tree depth: ', tr_depth)"
   ]
  },
  {
   "cell_type": "code",
   "execution_count": 22,
   "id": "aa1ad6db",
   "metadata": {},
   "outputs": [
    {
     "name": "stdout",
     "output_type": "stream",
     "text": [
      "              precision    recall  f1-score   support\n",
      "\n",
      "         1.0       0.94      0.94      0.94       414\n",
      "         2.0       0.68      0.70      0.69        74\n",
      "         3.0       0.90      0.84      0.87        44\n",
      "\n",
      "    accuracy                           0.90       532\n",
      "   macro avg       0.84      0.83      0.83       532\n",
      "weighted avg       0.90      0.90      0.90       532\n",
      "\n"
     ]
    }
   ],
   "source": [
    "print(classification_report(y_test, preds))"
   ]
  },
  {
   "cell_type": "code",
   "execution_count": 23,
   "id": "0016203b",
   "metadata": {},
   "outputs": [
    {
     "name": "stdout",
     "output_type": "stream",
     "text": [
      "[[389  24   1]\n",
      " [ 19  52   3]\n",
      " [  6   1  37]]\n"
     ]
    }
   ],
   "source": [
    "print(confusion_matrix(y_test, preds))"
   ]
  },
  {
   "cell_type": "markdown",
   "id": "b018c2e1",
   "metadata": {},
   "source": [
    "## Observations\n",
    "\n",
    "Looking at these two decision tree models with no max_depth, we see that they both got accuracy 0.94 and 0.91. Class 2 seems to be the hardest to predict for both models, but model 1 does a slightly better job. \n",
    "\n",
    "That's interesting because class 2 is more common than class 3, but the models are seeing class 3 easier. Perhaps the features for class 2 are more subtle, and class 3 stands out more?\n",
    "\n",
    "The class imbalance doesn't seem to be that problematic. Both models performed much better than the dummy classifier. \n",
    "\n",
    "**Since this is a medical problem, false negatives on class 3 are very important as they could be fatal. That makes recall on class 3 the primary metric. Model 2 had better recall on class 3.**"
   ]
  },
  {
   "cell_type": "markdown",
   "id": "8ae9a559",
   "metadata": {},
   "source": [
    "## Let's try limiting the depths and see what happens. "
   ]
  },
  {
   "cell_type": "markdown",
   "id": "261b9d61",
   "metadata": {},
   "source": [
    "## Entropy Model, max_depth = 3"
   ]
  },
  {
   "cell_type": "code",
   "execution_count": 24,
   "id": "23b34d6f",
   "metadata": {},
   "outputs": [
    {
     "name": "stdout",
     "output_type": "stream",
     "text": [
      "              precision    recall  f1-score   support\n",
      "\n",
      "         1.0       0.91      0.96      0.94       414\n",
      "         2.0       0.68      0.61      0.64        74\n",
      "         3.0       0.88      0.64      0.74        44\n",
      "\n",
      "    accuracy                           0.88       532\n",
      "   macro avg       0.82      0.73      0.77       532\n",
      "weighted avg       0.88      0.88      0.88       532\n",
      "\n",
      "[[397  15   2]\n",
      " [ 27  45   2]\n",
      " [ 10   6  28]]\n"
     ]
    }
   ],
   "source": [
    "entr_dt = DecisionTreeClassifier(criterion=\"entropy\", max_depth = 3)\n",
    "entr_dt.fit(X_train_scaled, y_train)\n",
    "preds = entr_dt.predict(X_test_scaled)\n",
    "\n",
    "print(classification_report(y_test, preds))\n",
    "print(confusion_matrix(y_test, preds))"
   ]
  },
  {
   "cell_type": "markdown",
   "id": "1b5409df",
   "metadata": {},
   "source": [
    "## Gini Model, max_depth = 3"
   ]
  },
  {
   "cell_type": "code",
   "execution_count": 25,
   "id": "95223738",
   "metadata": {},
   "outputs": [
    {
     "name": "stdout",
     "output_type": "stream",
     "text": [
      "              precision    recall  f1-score   support\n",
      "\n",
      "         1.0       0.92      0.97      0.94       414\n",
      "         2.0       0.67      0.55      0.61        74\n",
      "         3.0       0.91      0.73      0.81        44\n",
      "\n",
      "    accuracy                           0.89       532\n",
      "   macro avg       0.84      0.75      0.79       532\n",
      "weighted avg       0.88      0.89      0.89       532\n",
      "\n",
      "[[401  12   1]\n",
      " [ 31  41   2]\n",
      " [  4   8  32]]\n"
     ]
    }
   ],
   "source": [
    "gini_dt = DecisionTreeClassifier(criterion = 'gini', max_depth = 3)\n",
    "gini_dt.fit(X_train_scaled, y_train)\n",
    "preds = gini_dt.predict(X_test_scaled)\n",
    "\n",
    "print(classification_report(y_test, preds))\n",
    "print(confusion_matrix(y_test, preds))"
   ]
  },
  {
   "cell_type": "markdown",
   "id": "c4f4df3e",
   "metadata": {},
   "source": [
    "## Random Forest Model"
   ]
  },
  {
   "cell_type": "code",
   "execution_count": 26,
   "id": "a1012c80",
   "metadata": {},
   "outputs": [
    {
     "name": "stdout",
     "output_type": "stream",
     "text": [
      "              precision    recall  f1-score   support\n",
      "\n",
      "         1.0       0.95      0.98      0.96       414\n",
      "         2.0       0.86      0.68      0.76        74\n",
      "         3.0       0.87      0.89      0.88        44\n",
      "\n",
      "    accuracy                           0.93       532\n",
      "   macro avg       0.89      0.85      0.87       532\n",
      "weighted avg       0.93      0.93      0.93       532\n",
      "\n",
      "[[406   6   2]\n",
      " [ 20  50   4]\n",
      " [  3   2  39]]\n"
     ]
    }
   ],
   "source": [
    "rf_clf = RandomForestClassifier()\n",
    "rf_clf.fit(X_train_scaled, y_train)\n",
    "preds = rf_clf.predict(X_test_scaled)\n",
    "\n",
    "print(classification_report(y_test, preds))\n",
    "print(confusion_matrix(y_test, preds))"
   ]
  },
  {
   "cell_type": "markdown",
   "id": "684d6e1f",
   "metadata": {},
   "source": [
    "## Gradient Boosting Classifier"
   ]
  },
  {
   "cell_type": "code",
   "execution_count": 27,
   "id": "4fd6d592",
   "metadata": {},
   "outputs": [
    {
     "name": "stdout",
     "output_type": "stream",
     "text": [
      "              precision    recall  f1-score   support\n",
      "\n",
      "         1.0       0.95      0.98      0.96       414\n",
      "         2.0       0.86      0.68      0.76        74\n",
      "         3.0       0.89      0.93      0.91        44\n",
      "\n",
      "    accuracy                           0.93       532\n",
      "   macro avg       0.90      0.86      0.88       532\n",
      "weighted avg       0.93      0.93      0.93       532\n",
      "\n",
      "[[405   7   2]\n",
      " [ 21  50   3]\n",
      " [  2   1  41]]\n"
     ]
    }
   ],
   "source": [
    "gb_clf = GradientBoostingClassifier()\n",
    "gb_clf.fit(X_train_scaled, y_train)\n",
    "preds = gb_clf.predict(X_test_scaled)\n",
    "\n",
    "print(classification_report(y_test, preds))\n",
    "print(confusion_matrix(y_test, preds))"
   ]
  },
  {
   "cell_type": "markdown",
   "id": "72f56912",
   "metadata": {},
   "source": [
    "## Cross Validation on Decision Tree, Random Forest, and Gradient Boost"
   ]
  },
  {
   "cell_type": "markdown",
   "id": "f16c8127",
   "metadata": {},
   "source": [
    "## Decision Tree 5-Fold CV"
   ]
  },
  {
   "cell_type": "code",
   "execution_count": 28,
   "id": "12e22065",
   "metadata": {},
   "outputs": [
    {
     "name": "stdout",
     "output_type": "stream",
     "text": [
      "Decision Tree best params:  {'criterion': 'gini', 'max_depth': 12}\n",
      "Decision Tree best score:  0.930360205831904\n"
     ]
    }
   ],
   "source": [
    "kf = KFold(n_splits = 5, shuffle = True)\n",
    "param_grid = {'criterion':['entropy', 'gini'], 'max_depth': np.arange(3, 15, 1)}\n",
    "dt = DecisionTreeClassifier()\n",
    "dt_cv = GridSearchCV(dt, param_grid, cv = kf)\n",
    "dt_cv.fit(X_train_scaled, y_train)\n",
    "\n",
    "print('Decision Tree best params: ', dt_cv.best_params_)\n",
    "print('Decision Tree best score: ', dt_cv.best_score_)"
   ]
  },
  {
   "cell_type": "markdown",
   "id": "a6530881",
   "metadata": {},
   "source": [
    "## Random Forest 5-Fold CV"
   ]
  },
  {
   "cell_type": "code",
   "execution_count": 29,
   "id": "0224b8d5",
   "metadata": {},
   "outputs": [
    {
     "name": "stdout",
     "output_type": "stream",
     "text": [
      "Random Forest best params:  {'criterion': 'gini', 'max_depth': 14}\n",
      "Random Forest best score:  0.9423000335166893\n"
     ]
    }
   ],
   "source": [
    "rf = RandomForestClassifier()\n",
    "rf_cv = GridSearchCV(rf, param_grid, cv = kf)\n",
    "rf_cv.fit(X_train_scaled, y_train)\n",
    "\n",
    "print('Random Forest best params: ', rf_cv.best_params_)\n",
    "print('Random Forest best score: ', rf_cv.best_score_)"
   ]
  },
  {
   "cell_type": "markdown",
   "id": "cad67acb",
   "metadata": {},
   "source": [
    "## Gradient Boost 5-Fold CV"
   ]
  },
  {
   "cell_type": "code",
   "execution_count": 30,
   "id": "5405826b",
   "metadata": {},
   "outputs": [
    {
     "name": "stdout",
     "output_type": "stream",
     "text": [
      "Gradient Boost best params:  {'criterion': 'friedman_mse', 'learning_rate': 0.15}\n",
      "Gradient Boost best score:  0.9510695767039292\n"
     ]
    }
   ],
   "source": [
    "param_grid = {'criterion': ['friedman_mse', 'squared_error'], 'learning_rate': [0.1, 0.15, 0.2, 0.25]}\n",
    "gb = GradientBoostingClassifier()\n",
    "gb_cv = GridSearchCV(gb, param_grid, cv = kf)\n",
    "gb_cv.fit(X_train_scaled, y_train)\n",
    "\n",
    "print('Gradient Boost best params: ', gb_cv.best_params_)\n",
    "print('Gradient Boost best score: ', gb_cv.best_score_)"
   ]
  },
  {
   "cell_type": "markdown",
   "id": "4fc3ef12",
   "metadata": {},
   "source": [
    "## Model Selection\n",
    "\n",
    "Looks like Gradient Boost or Random Forest is the way to go. Now I want to train each one with the best parameters and look at the classification report and confusion matrix again. "
   ]
  },
  {
   "cell_type": "markdown",
   "id": "36de95dd",
   "metadata": {},
   "source": [
    "## Final Random Forest Model"
   ]
  },
  {
   "cell_type": "code",
   "execution_count": 31,
   "id": "b4cda710",
   "metadata": {},
   "outputs": [
    {
     "name": "stdout",
     "output_type": "stream",
     "text": [
      "              precision    recall  f1-score   support\n",
      "\n",
      "         1.0       0.95      0.98      0.96       414\n",
      "         2.0       0.83      0.68      0.75        74\n",
      "         3.0       0.90      0.86      0.88        44\n",
      "\n",
      "    accuracy                           0.93       532\n",
      "   macro avg       0.89      0.84      0.86       532\n",
      "weighted avg       0.93      0.93      0.93       532\n",
      "\n",
      "[[407   6   1]\n",
      " [ 21  50   3]\n",
      " [  2   4  38]]\n"
     ]
    }
   ],
   "source": [
    "rf = RandomForestClassifier(criterion = 'entropy', max_depth = 13)\n",
    "rf.fit(X_train_scaled, y_train)\n",
    "preds = rf.predict(X_test_scaled)\n",
    "\n",
    "print(classification_report(y_test, preds))\n",
    "print(confusion_matrix(y_test, preds))"
   ]
  },
  {
   "cell_type": "markdown",
   "id": "6843c98e",
   "metadata": {},
   "source": [
    "## Final Gradient Boost Model"
   ]
  },
  {
   "cell_type": "code",
   "execution_count": 32,
   "id": "f9bb51f1",
   "metadata": {},
   "outputs": [
    {
     "name": "stdout",
     "output_type": "stream",
     "text": [
      "              precision    recall  f1-score   support\n",
      "\n",
      "         1.0       0.95      0.98      0.96       414\n",
      "         2.0       0.87      0.70      0.78        74\n",
      "         3.0       0.89      0.93      0.91        44\n",
      "\n",
      "    accuracy                           0.94       532\n",
      "   macro avg       0.90      0.87      0.88       532\n",
      "weighted avg       0.93      0.94      0.93       532\n",
      "\n",
      "[[405   7   2]\n",
      " [ 19  52   3]\n",
      " [  2   1  41]]\n"
     ]
    }
   ],
   "source": [
    "gb = GradientBoostingClassifier(criterion = 'friedman_mse', learning_rate = 0.25)\n",
    "gb.fit(X_train_scaled, y_train)\n",
    "preds = gb.predict(X_test_scaled)\n",
    "\n",
    "print(classification_report(y_test, preds))\n",
    "print(confusion_matrix(y_test, preds))"
   ]
  },
  {
   "cell_type": "markdown",
   "id": "5940afbf",
   "metadata": {},
   "source": [
    "## Conclusion = Final Gradient Boost is the winner"
   ]
  },
  {
   "cell_type": "markdown",
   "id": "66202ad1",
   "metadata": {},
   "source": [
    "Looking at the recall scores, we see the best scores we have gotten yet. From the confusion maxtrix we can see that we have some false negatives and false positives for class 3. We also see that class 2 continues to be the most difficult to predict, as 8 of those were incorrectly classified as class 1. The 8 and the 2 in the first col of the confusion matrix are the main areas of concern. Overall, 10 cases that needed attention were classified as normal. \n",
    "\n",
    "I wonder if combining classes 2 and 3 into one class with pos label and letting class 1 be the neg label would improve the model. "
   ]
  },
  {
   "cell_type": "markdown",
   "id": "28e42cf6",
   "metadata": {},
   "source": [
    "## Let's reorganize the target into 2 classes. We'll let the positive class be classes 2,  3 and the negative class be class 1. "
   ]
  },
  {
   "cell_type": "markdown",
   "id": "2e689247",
   "metadata": {},
   "source": [
    "First I'm going to make a copy of my orginal dataframe, data. \n",
    "\n",
    "Then I'll create a new column called \"binary_target\". \n"
   ]
  },
  {
   "cell_type": "code",
   "execution_count": 33,
   "id": "56b76c28",
   "metadata": {},
   "outputs": [
    {
     "data": {
      "text/html": [
       "<div>\n",
       "<style scoped>\n",
       "    .dataframe tbody tr th:only-of-type {\n",
       "        vertical-align: middle;\n",
       "    }\n",
       "\n",
       "    .dataframe tbody tr th {\n",
       "        vertical-align: top;\n",
       "    }\n",
       "\n",
       "    .dataframe thead th {\n",
       "        text-align: right;\n",
       "    }\n",
       "</style>\n",
       "<table border=\"1\" class=\"dataframe\">\n",
       "  <thead>\n",
       "    <tr style=\"text-align: right;\">\n",
       "      <th></th>\n",
       "      <th>baseline value</th>\n",
       "      <th>accelerations</th>\n",
       "      <th>fetal_movement</th>\n",
       "      <th>uterine_contractions</th>\n",
       "      <th>light_decelerations</th>\n",
       "      <th>severe_decelerations</th>\n",
       "      <th>prolongued_decelerations</th>\n",
       "      <th>abnormal_short_term_variability</th>\n",
       "      <th>mean_value_of_short_term_variability</th>\n",
       "      <th>percentage_of_time_with_abnormal_long_term_variability</th>\n",
       "      <th>...</th>\n",
       "      <th>histogram_min</th>\n",
       "      <th>histogram_max</th>\n",
       "      <th>histogram_number_of_peaks</th>\n",
       "      <th>histogram_number_of_zeroes</th>\n",
       "      <th>histogram_mode</th>\n",
       "      <th>histogram_mean</th>\n",
       "      <th>histogram_median</th>\n",
       "      <th>histogram_variance</th>\n",
       "      <th>histogram_tendency</th>\n",
       "      <th>fetal_health</th>\n",
       "    </tr>\n",
       "  </thead>\n",
       "  <tbody>\n",
       "    <tr>\n",
       "      <th>0</th>\n",
       "      <td>120.0</td>\n",
       "      <td>0.000</td>\n",
       "      <td>0.0</td>\n",
       "      <td>0.000</td>\n",
       "      <td>0.000</td>\n",
       "      <td>0.0</td>\n",
       "      <td>0.0</td>\n",
       "      <td>73.0</td>\n",
       "      <td>0.5</td>\n",
       "      <td>43.0</td>\n",
       "      <td>...</td>\n",
       "      <td>62.0</td>\n",
       "      <td>126.0</td>\n",
       "      <td>2.0</td>\n",
       "      <td>0.0</td>\n",
       "      <td>120.0</td>\n",
       "      <td>137.0</td>\n",
       "      <td>121.0</td>\n",
       "      <td>73.0</td>\n",
       "      <td>1.0</td>\n",
       "      <td>2.0</td>\n",
       "    </tr>\n",
       "    <tr>\n",
       "      <th>1</th>\n",
       "      <td>132.0</td>\n",
       "      <td>0.006</td>\n",
       "      <td>0.0</td>\n",
       "      <td>0.006</td>\n",
       "      <td>0.003</td>\n",
       "      <td>0.0</td>\n",
       "      <td>0.0</td>\n",
       "      <td>17.0</td>\n",
       "      <td>2.1</td>\n",
       "      <td>0.0</td>\n",
       "      <td>...</td>\n",
       "      <td>68.0</td>\n",
       "      <td>198.0</td>\n",
       "      <td>6.0</td>\n",
       "      <td>1.0</td>\n",
       "      <td>141.0</td>\n",
       "      <td>136.0</td>\n",
       "      <td>140.0</td>\n",
       "      <td>12.0</td>\n",
       "      <td>0.0</td>\n",
       "      <td>1.0</td>\n",
       "    </tr>\n",
       "    <tr>\n",
       "      <th>2</th>\n",
       "      <td>133.0</td>\n",
       "      <td>0.003</td>\n",
       "      <td>0.0</td>\n",
       "      <td>0.008</td>\n",
       "      <td>0.003</td>\n",
       "      <td>0.0</td>\n",
       "      <td>0.0</td>\n",
       "      <td>16.0</td>\n",
       "      <td>2.1</td>\n",
       "      <td>0.0</td>\n",
       "      <td>...</td>\n",
       "      <td>68.0</td>\n",
       "      <td>198.0</td>\n",
       "      <td>5.0</td>\n",
       "      <td>1.0</td>\n",
       "      <td>141.0</td>\n",
       "      <td>135.0</td>\n",
       "      <td>138.0</td>\n",
       "      <td>13.0</td>\n",
       "      <td>0.0</td>\n",
       "      <td>1.0</td>\n",
       "    </tr>\n",
       "    <tr>\n",
       "      <th>3</th>\n",
       "      <td>134.0</td>\n",
       "      <td>0.003</td>\n",
       "      <td>0.0</td>\n",
       "      <td>0.008</td>\n",
       "      <td>0.003</td>\n",
       "      <td>0.0</td>\n",
       "      <td>0.0</td>\n",
       "      <td>16.0</td>\n",
       "      <td>2.4</td>\n",
       "      <td>0.0</td>\n",
       "      <td>...</td>\n",
       "      <td>53.0</td>\n",
       "      <td>170.0</td>\n",
       "      <td>11.0</td>\n",
       "      <td>0.0</td>\n",
       "      <td>137.0</td>\n",
       "      <td>134.0</td>\n",
       "      <td>137.0</td>\n",
       "      <td>13.0</td>\n",
       "      <td>1.0</td>\n",
       "      <td>1.0</td>\n",
       "    </tr>\n",
       "    <tr>\n",
       "      <th>4</th>\n",
       "      <td>132.0</td>\n",
       "      <td>0.007</td>\n",
       "      <td>0.0</td>\n",
       "      <td>0.008</td>\n",
       "      <td>0.000</td>\n",
       "      <td>0.0</td>\n",
       "      <td>0.0</td>\n",
       "      <td>16.0</td>\n",
       "      <td>2.4</td>\n",
       "      <td>0.0</td>\n",
       "      <td>...</td>\n",
       "      <td>53.0</td>\n",
       "      <td>170.0</td>\n",
       "      <td>9.0</td>\n",
       "      <td>0.0</td>\n",
       "      <td>137.0</td>\n",
       "      <td>136.0</td>\n",
       "      <td>138.0</td>\n",
       "      <td>11.0</td>\n",
       "      <td>1.0</td>\n",
       "      <td>1.0</td>\n",
       "    </tr>\n",
       "  </tbody>\n",
       "</table>\n",
       "<p>5 rows × 22 columns</p>\n",
       "</div>"
      ],
      "text/plain": [
       "   baseline value  accelerations  fetal_movement  uterine_contractions  \\\n",
       "0           120.0          0.000             0.0                 0.000   \n",
       "1           132.0          0.006             0.0                 0.006   \n",
       "2           133.0          0.003             0.0                 0.008   \n",
       "3           134.0          0.003             0.0                 0.008   \n",
       "4           132.0          0.007             0.0                 0.008   \n",
       "\n",
       "   light_decelerations  severe_decelerations  prolongued_decelerations  \\\n",
       "0                0.000                   0.0                       0.0   \n",
       "1                0.003                   0.0                       0.0   \n",
       "2                0.003                   0.0                       0.0   \n",
       "3                0.003                   0.0                       0.0   \n",
       "4                0.000                   0.0                       0.0   \n",
       "\n",
       "   abnormal_short_term_variability  mean_value_of_short_term_variability  \\\n",
       "0                             73.0                                   0.5   \n",
       "1                             17.0                                   2.1   \n",
       "2                             16.0                                   2.1   \n",
       "3                             16.0                                   2.4   \n",
       "4                             16.0                                   2.4   \n",
       "\n",
       "   percentage_of_time_with_abnormal_long_term_variability  ...  histogram_min  \\\n",
       "0                                               43.0       ...           62.0   \n",
       "1                                                0.0       ...           68.0   \n",
       "2                                                0.0       ...           68.0   \n",
       "3                                                0.0       ...           53.0   \n",
       "4                                                0.0       ...           53.0   \n",
       "\n",
       "   histogram_max  histogram_number_of_peaks  histogram_number_of_zeroes  \\\n",
       "0          126.0                        2.0                         0.0   \n",
       "1          198.0                        6.0                         1.0   \n",
       "2          198.0                        5.0                         1.0   \n",
       "3          170.0                       11.0                         0.0   \n",
       "4          170.0                        9.0                         0.0   \n",
       "\n",
       "   histogram_mode  histogram_mean  histogram_median  histogram_variance  \\\n",
       "0           120.0           137.0             121.0                73.0   \n",
       "1           141.0           136.0             140.0                12.0   \n",
       "2           141.0           135.0             138.0                13.0   \n",
       "3           137.0           134.0             137.0                13.0   \n",
       "4           137.0           136.0             138.0                11.0   \n",
       "\n",
       "   histogram_tendency  fetal_health  \n",
       "0                 1.0           2.0  \n",
       "1                 0.0           1.0  \n",
       "2                 0.0           1.0  \n",
       "3                 1.0           1.0  \n",
       "4                 1.0           1.0  \n",
       "\n",
       "[5 rows x 22 columns]"
      ]
     },
     "execution_count": 33,
     "metadata": {},
     "output_type": "execute_result"
    }
   ],
   "source": [
    "binary_df = data.copy(deep = True)\n",
    "binary_df.head()"
   ]
  },
  {
   "cell_type": "code",
   "execution_count": 34,
   "id": "d5a686d9",
   "metadata": {},
   "outputs": [],
   "source": [
    "binary_df['binary_target'] = [1 if x in [2.0, 3.0] else 0 for x in binary_df['fetal_health']]"
   ]
  },
  {
   "cell_type": "code",
   "execution_count": 35,
   "id": "c49a3aff",
   "metadata": {},
   "outputs": [
    {
     "data": {
      "text/html": [
       "<div>\n",
       "<style scoped>\n",
       "    .dataframe tbody tr th:only-of-type {\n",
       "        vertical-align: middle;\n",
       "    }\n",
       "\n",
       "    .dataframe tbody tr th {\n",
       "        vertical-align: top;\n",
       "    }\n",
       "\n",
       "    .dataframe thead th {\n",
       "        text-align: right;\n",
       "    }\n",
       "</style>\n",
       "<table border=\"1\" class=\"dataframe\">\n",
       "  <thead>\n",
       "    <tr style=\"text-align: right;\">\n",
       "      <th></th>\n",
       "      <th>fetal_health</th>\n",
       "      <th>binary_target</th>\n",
       "    </tr>\n",
       "  </thead>\n",
       "  <tbody>\n",
       "    <tr>\n",
       "      <th>0</th>\n",
       "      <td>2.0</td>\n",
       "      <td>1</td>\n",
       "    </tr>\n",
       "    <tr>\n",
       "      <th>1</th>\n",
       "      <td>1.0</td>\n",
       "      <td>0</td>\n",
       "    </tr>\n",
       "    <tr>\n",
       "      <th>2</th>\n",
       "      <td>1.0</td>\n",
       "      <td>0</td>\n",
       "    </tr>\n",
       "    <tr>\n",
       "      <th>3</th>\n",
       "      <td>1.0</td>\n",
       "      <td>0</td>\n",
       "    </tr>\n",
       "    <tr>\n",
       "      <th>4</th>\n",
       "      <td>1.0</td>\n",
       "      <td>0</td>\n",
       "    </tr>\n",
       "    <tr>\n",
       "      <th>5</th>\n",
       "      <td>3.0</td>\n",
       "      <td>1</td>\n",
       "    </tr>\n",
       "    <tr>\n",
       "      <th>6</th>\n",
       "      <td>3.0</td>\n",
       "      <td>1</td>\n",
       "    </tr>\n",
       "    <tr>\n",
       "      <th>7</th>\n",
       "      <td>3.0</td>\n",
       "      <td>1</td>\n",
       "    </tr>\n",
       "    <tr>\n",
       "      <th>8</th>\n",
       "      <td>3.0</td>\n",
       "      <td>1</td>\n",
       "    </tr>\n",
       "    <tr>\n",
       "      <th>9</th>\n",
       "      <td>3.0</td>\n",
       "      <td>1</td>\n",
       "    </tr>\n",
       "  </tbody>\n",
       "</table>\n",
       "</div>"
      ],
      "text/plain": [
       "   fetal_health  binary_target\n",
       "0           2.0              1\n",
       "1           1.0              0\n",
       "2           1.0              0\n",
       "3           1.0              0\n",
       "4           1.0              0\n",
       "5           3.0              1\n",
       "6           3.0              1\n",
       "7           3.0              1\n",
       "8           3.0              1\n",
       "9           3.0              1"
      ]
     },
     "execution_count": 35,
     "metadata": {},
     "output_type": "execute_result"
    }
   ],
   "source": [
    "binary_df[['fetal_health', 'binary_target']].head(10)"
   ]
  },
  {
   "cell_type": "code",
   "execution_count": 36,
   "id": "696da911",
   "metadata": {},
   "outputs": [
    {
     "data": {
      "text/plain": [
       "0    1655\n",
       "1     471\n",
       "Name: binary_target, dtype: int64"
      ]
     },
     "execution_count": 36,
     "metadata": {},
     "output_type": "execute_result"
    }
   ],
   "source": [
    "binary_df['binary_target'].value_counts()"
   ]
  },
  {
   "cell_type": "markdown",
   "id": "9d66dffb",
   "metadata": {},
   "source": [
    "## Create new X and y"
   ]
  },
  {
   "cell_type": "code",
   "execution_count": 37,
   "id": "1f25bb58",
   "metadata": {},
   "outputs": [],
   "source": [
    "X = binary_df.drop(columns = ['fetal_health', 'binary_target'])\n",
    "y = binary_df['binary_target']"
   ]
  },
  {
   "cell_type": "code",
   "execution_count": 38,
   "id": "d467698a",
   "metadata": {},
   "outputs": [
    {
     "data": {
      "text/plain": [
       "(2126, 21)"
      ]
     },
     "execution_count": 38,
     "metadata": {},
     "output_type": "execute_result"
    }
   ],
   "source": [
    "X.shape"
   ]
  },
  {
   "cell_type": "code",
   "execution_count": 39,
   "id": "d6bf5299",
   "metadata": {},
   "outputs": [
    {
     "data": {
      "text/plain": [
       "(2126,)"
      ]
     },
     "execution_count": 39,
     "metadata": {},
     "output_type": "execute_result"
    }
   ],
   "source": [
    "y.shape"
   ]
  },
  {
   "cell_type": "markdown",
   "id": "c6e27ebf",
   "metadata": {},
   "source": [
    "## Train test split for new X and y"
   ]
  },
  {
   "cell_type": "code",
   "execution_count": 40,
   "id": "550a97cb",
   "metadata": {},
   "outputs": [],
   "source": [
    "X_train, X_test, y_train, y_test = train_test_split(X, y, stratify = y, random_state = 42)"
   ]
  },
  {
   "cell_type": "markdown",
   "id": "a1401b94",
   "metadata": {},
   "source": [
    "## Scale X_train and X_test"
   ]
  },
  {
   "cell_type": "code",
   "execution_count": 41,
   "id": "e73049de",
   "metadata": {},
   "outputs": [],
   "source": [
    "scaler = StandardScaler()\n",
    "scaler.fit(X_train)\n",
    "X_train_scaled = scaler.transform(X_train)\n",
    "X_test_scaled = scaler.transform(X_test)"
   ]
  },
  {
   "cell_type": "code",
   "execution_count": 42,
   "id": "8f2f80ea",
   "metadata": {},
   "outputs": [
    {
     "data": {
      "text/html": [
       "<div>\n",
       "<style scoped>\n",
       "    .dataframe tbody tr th:only-of-type {\n",
       "        vertical-align: middle;\n",
       "    }\n",
       "\n",
       "    .dataframe tbody tr th {\n",
       "        vertical-align: top;\n",
       "    }\n",
       "\n",
       "    .dataframe thead th {\n",
       "        text-align: right;\n",
       "    }\n",
       "</style>\n",
       "<table border=\"1\" class=\"dataframe\">\n",
       "  <thead>\n",
       "    <tr style=\"text-align: right;\">\n",
       "      <th></th>\n",
       "      <th>baseline value</th>\n",
       "      <th>accelerations</th>\n",
       "      <th>fetal_movement</th>\n",
       "      <th>uterine_contractions</th>\n",
       "      <th>light_decelerations</th>\n",
       "      <th>severe_decelerations</th>\n",
       "      <th>prolongued_decelerations</th>\n",
       "      <th>abnormal_short_term_variability</th>\n",
       "      <th>mean_value_of_short_term_variability</th>\n",
       "      <th>percentage_of_time_with_abnormal_long_term_variability</th>\n",
       "      <th>...</th>\n",
       "      <th>histogram_width</th>\n",
       "      <th>histogram_min</th>\n",
       "      <th>histogram_max</th>\n",
       "      <th>histogram_number_of_peaks</th>\n",
       "      <th>histogram_number_of_zeroes</th>\n",
       "      <th>histogram_mode</th>\n",
       "      <th>histogram_mean</th>\n",
       "      <th>histogram_median</th>\n",
       "      <th>histogram_variance</th>\n",
       "      <th>histogram_tendency</th>\n",
       "    </tr>\n",
       "  </thead>\n",
       "  <tbody>\n",
       "    <tr>\n",
       "      <th>0</th>\n",
       "      <td>0.282775</td>\n",
       "      <td>-0.567532</td>\n",
       "      <td>-0.20626</td>\n",
       "      <td>0.218961</td>\n",
       "      <td>-0.629701</td>\n",
       "      <td>-0.056095</td>\n",
       "      <td>-0.268545</td>\n",
       "      <td>-0.558548</td>\n",
       "      <td>-0.486077</td>\n",
       "      <td>0.102294</td>\n",
       "      <td>...</td>\n",
       "      <td>-0.959135</td>\n",
       "      <td>1.030214</td>\n",
       "      <td>-0.387419</td>\n",
       "      <td>-0.360748</td>\n",
       "      <td>-0.469258</td>\n",
       "      <td>0.088649</td>\n",
       "      <td>0.276821</td>\n",
       "      <td>0.125907</td>\n",
       "      <td>-0.598872</td>\n",
       "      <td>-0.541369</td>\n",
       "    </tr>\n",
       "    <tr>\n",
       "      <th>1</th>\n",
       "      <td>-0.023853</td>\n",
       "      <td>-0.309283</td>\n",
       "      <td>-0.20626</td>\n",
       "      <td>0.906691</td>\n",
       "      <td>0.051265</td>\n",
       "      <td>-0.056095</td>\n",
       "      <td>-0.268545</td>\n",
       "      <td>-0.731752</td>\n",
       "      <td>-0.261723</td>\n",
       "      <td>-0.163704</td>\n",
       "      <td>...</td>\n",
       "      <td>-0.035491</td>\n",
       "      <td>-0.086764</td>\n",
       "      <td>-0.220108</td>\n",
       "      <td>-0.023683</td>\n",
       "      <td>-0.469258</td>\n",
       "      <td>-0.094866</td>\n",
       "      <td>0.017451</td>\n",
       "      <td>-0.083442</td>\n",
       "      <td>-0.464864</td>\n",
       "      <td>-0.541369</td>\n",
       "    </tr>\n",
       "    <tr>\n",
       "      <th>2</th>\n",
       "      <td>0.282775</td>\n",
       "      <td>-0.825781</td>\n",
       "      <td>-0.20626</td>\n",
       "      <td>1.594421</td>\n",
       "      <td>-0.629701</td>\n",
       "      <td>-0.056095</td>\n",
       "      <td>-0.268545</td>\n",
       "      <td>1.808573</td>\n",
       "      <td>-1.046961</td>\n",
       "      <td>0.900288</td>\n",
       "      <td>...</td>\n",
       "      <td>-0.702567</td>\n",
       "      <td>0.624040</td>\n",
       "      <td>-0.498960</td>\n",
       "      <td>-0.023683</td>\n",
       "      <td>-0.469258</td>\n",
       "      <td>0.027477</td>\n",
       "      <td>0.147136</td>\n",
       "      <td>0.056124</td>\n",
       "      <td>-0.632373</td>\n",
       "      <td>-0.541369</td>\n",
       "    </tr>\n",
       "    <tr>\n",
       "      <th>3</th>\n",
       "      <td>1.304869</td>\n",
       "      <td>-0.825781</td>\n",
       "      <td>-0.14407</td>\n",
       "      <td>-1.500365</td>\n",
       "      <td>-0.629701</td>\n",
       "      <td>-0.056095</td>\n",
       "      <td>-0.268545</td>\n",
       "      <td>1.981777</td>\n",
       "      <td>-1.271315</td>\n",
       "      <td>3.028272</td>\n",
       "      <td>...</td>\n",
       "      <td>-1.472271</td>\n",
       "      <td>1.470236</td>\n",
       "      <td>-0.777812</td>\n",
       "      <td>-1.034878</td>\n",
       "      <td>-0.469258</td>\n",
       "      <td>0.516853</td>\n",
       "      <td>0.601034</td>\n",
       "      <td>0.544603</td>\n",
       "      <td>-0.598872</td>\n",
       "      <td>-0.541369</td>\n",
       "    </tr>\n",
       "    <tr>\n",
       "      <th>4</th>\n",
       "      <td>1.100450</td>\n",
       "      <td>0.723712</td>\n",
       "      <td>-0.08188</td>\n",
       "      <td>-0.468770</td>\n",
       "      <td>-0.629701</td>\n",
       "      <td>-0.056095</td>\n",
       "      <td>-0.268545</td>\n",
       "      <td>-0.731752</td>\n",
       "      <td>0.299162</td>\n",
       "      <td>-0.536101</td>\n",
       "      <td>...</td>\n",
       "      <td>0.862496</td>\n",
       "      <td>-0.763721</td>\n",
       "      <td>0.616448</td>\n",
       "      <td>-0.023683</td>\n",
       "      <td>0.969197</td>\n",
       "      <td>0.639197</td>\n",
       "      <td>0.925246</td>\n",
       "      <td>0.893517</td>\n",
       "      <td>-0.263853</td>\n",
       "      <td>1.105466</td>\n",
       "    </tr>\n",
       "  </tbody>\n",
       "</table>\n",
       "<p>5 rows × 21 columns</p>\n",
       "</div>"
      ],
      "text/plain": [
       "   baseline value  accelerations  fetal_movement  uterine_contractions  \\\n",
       "0        0.282775      -0.567532        -0.20626              0.218961   \n",
       "1       -0.023853      -0.309283        -0.20626              0.906691   \n",
       "2        0.282775      -0.825781        -0.20626              1.594421   \n",
       "3        1.304869      -0.825781        -0.14407             -1.500365   \n",
       "4        1.100450       0.723712        -0.08188             -0.468770   \n",
       "\n",
       "   light_decelerations  severe_decelerations  prolongued_decelerations  \\\n",
       "0            -0.629701             -0.056095                 -0.268545   \n",
       "1             0.051265             -0.056095                 -0.268545   \n",
       "2            -0.629701             -0.056095                 -0.268545   \n",
       "3            -0.629701             -0.056095                 -0.268545   \n",
       "4            -0.629701             -0.056095                 -0.268545   \n",
       "\n",
       "   abnormal_short_term_variability  mean_value_of_short_term_variability  \\\n",
       "0                        -0.558548                             -0.486077   \n",
       "1                        -0.731752                             -0.261723   \n",
       "2                         1.808573                             -1.046961   \n",
       "3                         1.981777                             -1.271315   \n",
       "4                        -0.731752                              0.299162   \n",
       "\n",
       "   percentage_of_time_with_abnormal_long_term_variability  ...  \\\n",
       "0                                           0.102294       ...   \n",
       "1                                          -0.163704       ...   \n",
       "2                                           0.900288       ...   \n",
       "3                                           3.028272       ...   \n",
       "4                                          -0.536101       ...   \n",
       "\n",
       "   histogram_width  histogram_min  histogram_max  histogram_number_of_peaks  \\\n",
       "0        -0.959135       1.030214      -0.387419                  -0.360748   \n",
       "1        -0.035491      -0.086764      -0.220108                  -0.023683   \n",
       "2        -0.702567       0.624040      -0.498960                  -0.023683   \n",
       "3        -1.472271       1.470236      -0.777812                  -1.034878   \n",
       "4         0.862496      -0.763721       0.616448                  -0.023683   \n",
       "\n",
       "   histogram_number_of_zeroes  histogram_mode  histogram_mean  \\\n",
       "0                   -0.469258        0.088649        0.276821   \n",
       "1                   -0.469258       -0.094866        0.017451   \n",
       "2                   -0.469258        0.027477        0.147136   \n",
       "3                   -0.469258        0.516853        0.601034   \n",
       "4                    0.969197        0.639197        0.925246   \n",
       "\n",
       "   histogram_median  histogram_variance  histogram_tendency  \n",
       "0          0.125907           -0.598872           -0.541369  \n",
       "1         -0.083442           -0.464864           -0.541369  \n",
       "2          0.056124           -0.632373           -0.541369  \n",
       "3          0.544603           -0.598872           -0.541369  \n",
       "4          0.893517           -0.263853            1.105466  \n",
       "\n",
       "[5 rows x 21 columns]"
      ]
     },
     "execution_count": 42,
     "metadata": {},
     "output_type": "execute_result"
    }
   ],
   "source": [
    "X_train_scaled = pd.DataFrame(X_train_scaled, columns = X_train.columns)\n",
    "X_test_scaled = pd.DataFrame(X_test_scaled, columns = X_test.columns)\n",
    "X_train_scaled.head()"
   ]
  },
  {
   "cell_type": "markdown",
   "id": "ed143674",
   "metadata": {},
   "source": [
    "## Now, let's create a new dummy classifier"
   ]
  },
  {
   "cell_type": "code",
   "execution_count": 43,
   "id": "9dcba160",
   "metadata": {},
   "outputs": [],
   "source": [
    "dummy_clf = DummyClassifier(strategy = 'most_frequent')\n",
    "dummy_clf.fit(X_train_scaled, y_train)\n",
    "preds = dummy_clf.predict(X_test_scaled)\n",
    "score = dummy_clf.score(preds, y_test)"
   ]
  },
  {
   "cell_type": "code",
   "execution_count": 44,
   "id": "f30931c6",
   "metadata": {},
   "outputs": [
    {
     "name": "stdout",
     "output_type": "stream",
     "text": [
      "              precision    recall  f1-score   support\n",
      "\n",
      "           0       0.78      1.00      0.88       414\n",
      "           1       0.00      0.00      0.00       118\n",
      "\n",
      "    accuracy                           0.78       532\n",
      "   macro avg       0.39      0.50      0.44       532\n",
      "weighted avg       0.61      0.78      0.68       532\n",
      "\n",
      "[[414   0]\n",
      " [118   0]]\n"
     ]
    },
    {
     "name": "stderr",
     "output_type": "stream",
     "text": [
      "/Users/morgansnellgrove/anaconda3/lib/python3.11/site-packages/sklearn/metrics/_classification.py:1469: UndefinedMetricWarning: Precision and F-score are ill-defined and being set to 0.0 in labels with no predicted samples. Use `zero_division` parameter to control this behavior.\n",
      "  _warn_prf(average, modifier, msg_start, len(result))\n",
      "/Users/morgansnellgrove/anaconda3/lib/python3.11/site-packages/sklearn/metrics/_classification.py:1469: UndefinedMetricWarning: Precision and F-score are ill-defined and being set to 0.0 in labels with no predicted samples. Use `zero_division` parameter to control this behavior.\n",
      "  _warn_prf(average, modifier, msg_start, len(result))\n",
      "/Users/morgansnellgrove/anaconda3/lib/python3.11/site-packages/sklearn/metrics/_classification.py:1469: UndefinedMetricWarning: Precision and F-score are ill-defined and being set to 0.0 in labels with no predicted samples. Use `zero_division` parameter to control this behavior.\n",
      "  _warn_prf(average, modifier, msg_start, len(result))\n"
     ]
    }
   ],
   "source": [
    "print(classification_report(y_test, preds))\n",
    "print(confusion_matrix(y_test, preds))"
   ]
  },
  {
   "cell_type": "markdown",
   "id": "f73c31c1",
   "metadata": {},
   "source": [
    "## Decision Tree CV using binary target"
   ]
  },
  {
   "cell_type": "code",
   "execution_count": 45,
   "id": "357ec0d5",
   "metadata": {},
   "outputs": [
    {
     "name": "stdout",
     "output_type": "stream",
     "text": [
      "Decision Tree best params:  {'criterion': 'entropy', 'max_depth': 10}\n",
      "Decision Tree best score:  0.9341377338774866\n"
     ]
    }
   ],
   "source": [
    "kf = KFold(n_splits = 5, shuffle = True)\n",
    "param_grid = {'criterion':['entropy', 'gini'], 'max_depth': np.arange(3, 15, 1)}\n",
    "dt = DecisionTreeClassifier()\n",
    "dt_cv = GridSearchCV(dt, param_grid, cv = kf)\n",
    "dt_cv.fit(X_train_scaled, y_train)\n",
    "\n",
    "print('Decision Tree best params: ', dt_cv.best_params_)\n",
    "print('Decision Tree best score: ', dt_cv.best_score_)"
   ]
  },
  {
   "cell_type": "markdown",
   "id": "ce739049",
   "metadata": {},
   "source": [
    "## Random Forest CV using binary target"
   ]
  },
  {
   "cell_type": "code",
   "execution_count": 46,
   "id": "27b52ba4",
   "metadata": {},
   "outputs": [
    {
     "name": "stdout",
     "output_type": "stream",
     "text": [
      "Random Forest best params:  {'criterion': 'entropy', 'max_depth': 11}\n",
      "Random Forest best score:  0.9466670609806588\n"
     ]
    }
   ],
   "source": [
    "rf = RandomForestClassifier()\n",
    "rf_cv = GridSearchCV(rf, param_grid, cv = kf)\n",
    "rf_cv.fit(X_train_scaled, y_train)\n",
    "\n",
    "print('Random Forest best params: ', rf_cv.best_params_)\n",
    "print('Random Forest best score: ', rf_cv.best_score_)"
   ]
  },
  {
   "cell_type": "markdown",
   "id": "36f81e28",
   "metadata": {},
   "source": [
    "## Gradient Boost CV using binary target"
   ]
  },
  {
   "cell_type": "code",
   "execution_count": 47,
   "id": "3af5013b",
   "metadata": {},
   "outputs": [
    {
     "name": "stdout",
     "output_type": "stream",
     "text": [
      "Gradient Boost best params:  {'criterion': 'friedman_mse', 'learning_rate': 0.25}\n",
      "Gradient Boost best score:  0.9567122099327694\n"
     ]
    }
   ],
   "source": [
    "param_grid = {'criterion': ['friedman_mse', 'squared_error'], 'learning_rate': [0.1, 0.15, 0.2, 0.25]}\n",
    "gb = GradientBoostingClassifier()\n",
    "gb_cv = GridSearchCV(gb, param_grid, cv = kf)\n",
    "gb_cv.fit(X_train_scaled, y_train)\n",
    "\n",
    "print('Gradient Boost best params: ', gb_cv.best_params_)\n",
    "print('Gradient Boost best score: ', gb_cv.best_score_)"
   ]
  },
  {
   "cell_type": "markdown",
   "id": "248e59dd",
   "metadata": {},
   "source": [
    "## Logistic Regression CV using binary target"
   ]
  },
  {
   "cell_type": "code",
   "execution_count": 48,
   "id": "be0295e0",
   "metadata": {},
   "outputs": [
    {
     "name": "stdout",
     "output_type": "stream",
     "text": [
      "Logistic Regression best params:  {'C': 100}\n",
      "Logistic Regression best score:  0.9084126890242701\n"
     ]
    }
   ],
   "source": [
    "param_grid = {'C': [0.1, 1.0, 10, 100]}\n",
    "logreg = LogisticRegression()\n",
    "logreg_cv = GridSearchCV(logreg, param_grid, cv=kf)\n",
    "logreg_cv.fit(X_train_scaled, y_train)\n",
    "\n",
    "print('Logistic Regression best params: ', logreg_cv.best_params_)\n",
    "print('Logistic Regression best score: ', logreg_cv.best_score_)"
   ]
  },
  {
   "cell_type": "markdown",
   "id": "2cef5375",
   "metadata": {},
   "source": [
    "## Right now it still looks like Gradient Boost is working the best. Let's create a GB model using the best params and the binary target. "
   ]
  },
  {
   "cell_type": "code",
   "execution_count": 49,
   "id": "628a66ef",
   "metadata": {},
   "outputs": [
    {
     "name": "stdout",
     "output_type": "stream",
     "text": [
      "              precision    recall  f1-score   support\n",
      "\n",
      "           0       0.97      0.98      0.97       414\n",
      "           1       0.92      0.88      0.90       118\n",
      "\n",
      "    accuracy                           0.96       532\n",
      "   macro avg       0.94      0.93      0.94       532\n",
      "weighted avg       0.96      0.96      0.96       532\n",
      "\n",
      "[[405   9]\n",
      " [ 14 104]]\n"
     ]
    }
   ],
   "source": [
    "gb = GradientBoostingClassifier(criterion = 'friedman_mse', learning_rate = 0.25)\n",
    "gb.fit(X_train_scaled, y_train)\n",
    "preds = gb.predict(X_test_scaled)\n",
    "\n",
    "print(classification_report(y_test, preds))\n",
    "print(confusion_matrix(y_test, preds))"
   ]
  },
  {
   "cell_type": "markdown",
   "id": "30210be3",
   "metadata": {},
   "source": [
    "## Looking at the metrics...\n",
    "\n",
    "+ We see that we got 0.92 recall for class 1. Our best GB model for the multiclass target had class 2 recall of 0.84 and class 3 recall of 0.98. \n",
    "\n",
    "+ From the confusion matrix, we see that 9 class 1 examples were misclassified as 0. This is an improvement from the 13 combined misclassifications we got on the other GB model. \n",
    "\n",
    "+ Now I wonder how many of the 9 were class 2 or class 3... I don't want to miss more class 3 than before. "
   ]
  }
 ],
 "metadata": {
  "kernelspec": {
   "display_name": "Python 3 (ipykernel)",
   "language": "python",
   "name": "python3"
  },
  "language_info": {
   "codemirror_mode": {
    "name": "ipython",
    "version": 3
   },
   "file_extension": ".py",
   "mimetype": "text/x-python",
   "name": "python",
   "nbconvert_exporter": "python",
   "pygments_lexer": "ipython3",
   "version": "3.11.4"
  }
 },
 "nbformat": 4,
 "nbformat_minor": 5
}
