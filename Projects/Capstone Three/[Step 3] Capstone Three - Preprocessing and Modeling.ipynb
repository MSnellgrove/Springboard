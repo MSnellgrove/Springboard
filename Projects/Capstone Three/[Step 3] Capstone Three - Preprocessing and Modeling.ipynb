{
 "cells": [
  {
   "cell_type": "markdown",
   "id": "5afaf061",
   "metadata": {},
   "source": [
    "# Capstone Three: Preprocessing and Modeling [Step 3]\n",
    "\n",
    "## By Morgan Snellgrove\n",
    "\n",
    "Our dataset is already all numeric so we do not need to create dummy variables. However, we do need to scale the features becuase we have very different ranges across the predictor variables. \n",
    "\n",
    "Steps for preprocessing:\n",
    "\n",
    "1) Create X-feature dataframe and y-the target dataframe.\n",
    "2) Split X and y into training and testing sets.\n",
    "3) Scale X_train and X_test. \n",
    "\n",
    "\n",
    "Steps for modeling:\n",
    "\n",
    "1) Make dummy classifier that always predicts class 1\n",
    "2) Try some un-tuned models: Decision Tree, Random Forest, and Gradient Boost\n",
    "3) Tune hyperparamters using GridSearchCV\n",
    "4) Build final models with best parameters from CV\n",
    "5) Select winning model"
   ]
  },
  {
   "cell_type": "markdown",
   "id": "b4d67926",
   "metadata": {},
   "source": [
    "## Import libraries and packages"
   ]
  },
  {
   "cell_type": "code",
   "execution_count": 1,
   "id": "5f5e968f",
   "metadata": {},
   "outputs": [],
   "source": [
    "import pandas as pd\n",
    "import numpy as np\n",
    "from sklearn.preprocessing import StandardScaler\n",
    "from sklearn.model_selection import train_test_split\n",
    "import matplotlib.pyplot as plt\n",
    "import seaborn as sns\n",
    "from sklearn.dummy import DummyClassifier\n",
    "from sklearn.tree import DecisionTreeClassifier\n",
    "from sklearn.ensemble import RandomForestClassifier, GradientBoostingClassifier\n",
    "from sklearn.metrics import accuracy_score, classification_report, confusion_matrix, roc_curve, roc_auc_score\n",
    "from sklearn.model_selection import GridSearchCV, KFold"
   ]
  },
  {
   "cell_type": "markdown",
   "id": "d4a6440a",
   "metadata": {},
   "source": [
    "## Read in data"
   ]
  },
  {
   "cell_type": "code",
   "execution_count": 2,
   "id": "b4de690e",
   "metadata": {},
   "outputs": [
    {
     "data": {
      "text/html": [
       "<div>\n",
       "<style scoped>\n",
       "    .dataframe tbody tr th:only-of-type {\n",
       "        vertical-align: middle;\n",
       "    }\n",
       "\n",
       "    .dataframe tbody tr th {\n",
       "        vertical-align: top;\n",
       "    }\n",
       "\n",
       "    .dataframe thead th {\n",
       "        text-align: right;\n",
       "    }\n",
       "</style>\n",
       "<table border=\"1\" class=\"dataframe\">\n",
       "  <thead>\n",
       "    <tr style=\"text-align: right;\">\n",
       "      <th></th>\n",
       "      <th>0</th>\n",
       "      <th>1</th>\n",
       "      <th>2</th>\n",
       "      <th>3</th>\n",
       "      <th>4</th>\n",
       "    </tr>\n",
       "  </thead>\n",
       "  <tbody>\n",
       "    <tr>\n",
       "      <th>baseline value</th>\n",
       "      <td>120.0</td>\n",
       "      <td>132.000</td>\n",
       "      <td>133.000</td>\n",
       "      <td>134.000</td>\n",
       "      <td>132.000</td>\n",
       "    </tr>\n",
       "    <tr>\n",
       "      <th>accelerations</th>\n",
       "      <td>0.0</td>\n",
       "      <td>0.006</td>\n",
       "      <td>0.003</td>\n",
       "      <td>0.003</td>\n",
       "      <td>0.007</td>\n",
       "    </tr>\n",
       "    <tr>\n",
       "      <th>fetal_movement</th>\n",
       "      <td>0.0</td>\n",
       "      <td>0.000</td>\n",
       "      <td>0.000</td>\n",
       "      <td>0.000</td>\n",
       "      <td>0.000</td>\n",
       "    </tr>\n",
       "    <tr>\n",
       "      <th>uterine_contractions</th>\n",
       "      <td>0.0</td>\n",
       "      <td>0.006</td>\n",
       "      <td>0.008</td>\n",
       "      <td>0.008</td>\n",
       "      <td>0.008</td>\n",
       "    </tr>\n",
       "    <tr>\n",
       "      <th>light_decelerations</th>\n",
       "      <td>0.0</td>\n",
       "      <td>0.003</td>\n",
       "      <td>0.003</td>\n",
       "      <td>0.003</td>\n",
       "      <td>0.000</td>\n",
       "    </tr>\n",
       "    <tr>\n",
       "      <th>severe_decelerations</th>\n",
       "      <td>0.0</td>\n",
       "      <td>0.000</td>\n",
       "      <td>0.000</td>\n",
       "      <td>0.000</td>\n",
       "      <td>0.000</td>\n",
       "    </tr>\n",
       "    <tr>\n",
       "      <th>prolongued_decelerations</th>\n",
       "      <td>0.0</td>\n",
       "      <td>0.000</td>\n",
       "      <td>0.000</td>\n",
       "      <td>0.000</td>\n",
       "      <td>0.000</td>\n",
       "    </tr>\n",
       "    <tr>\n",
       "      <th>abnormal_short_term_variability</th>\n",
       "      <td>73.0</td>\n",
       "      <td>17.000</td>\n",
       "      <td>16.000</td>\n",
       "      <td>16.000</td>\n",
       "      <td>16.000</td>\n",
       "    </tr>\n",
       "    <tr>\n",
       "      <th>mean_value_of_short_term_variability</th>\n",
       "      <td>0.5</td>\n",
       "      <td>2.100</td>\n",
       "      <td>2.100</td>\n",
       "      <td>2.400</td>\n",
       "      <td>2.400</td>\n",
       "    </tr>\n",
       "    <tr>\n",
       "      <th>percentage_of_time_with_abnormal_long_term_variability</th>\n",
       "      <td>43.0</td>\n",
       "      <td>0.000</td>\n",
       "      <td>0.000</td>\n",
       "      <td>0.000</td>\n",
       "      <td>0.000</td>\n",
       "    </tr>\n",
       "    <tr>\n",
       "      <th>mean_value_of_long_term_variability</th>\n",
       "      <td>2.4</td>\n",
       "      <td>10.400</td>\n",
       "      <td>13.400</td>\n",
       "      <td>23.000</td>\n",
       "      <td>19.900</td>\n",
       "    </tr>\n",
       "    <tr>\n",
       "      <th>histogram_width</th>\n",
       "      <td>64.0</td>\n",
       "      <td>130.000</td>\n",
       "      <td>130.000</td>\n",
       "      <td>117.000</td>\n",
       "      <td>117.000</td>\n",
       "    </tr>\n",
       "    <tr>\n",
       "      <th>histogram_min</th>\n",
       "      <td>62.0</td>\n",
       "      <td>68.000</td>\n",
       "      <td>68.000</td>\n",
       "      <td>53.000</td>\n",
       "      <td>53.000</td>\n",
       "    </tr>\n",
       "    <tr>\n",
       "      <th>histogram_max</th>\n",
       "      <td>126.0</td>\n",
       "      <td>198.000</td>\n",
       "      <td>198.000</td>\n",
       "      <td>170.000</td>\n",
       "      <td>170.000</td>\n",
       "    </tr>\n",
       "    <tr>\n",
       "      <th>histogram_number_of_peaks</th>\n",
       "      <td>2.0</td>\n",
       "      <td>6.000</td>\n",
       "      <td>5.000</td>\n",
       "      <td>11.000</td>\n",
       "      <td>9.000</td>\n",
       "    </tr>\n",
       "    <tr>\n",
       "      <th>histogram_number_of_zeroes</th>\n",
       "      <td>0.0</td>\n",
       "      <td>1.000</td>\n",
       "      <td>1.000</td>\n",
       "      <td>0.000</td>\n",
       "      <td>0.000</td>\n",
       "    </tr>\n",
       "    <tr>\n",
       "      <th>histogram_mode</th>\n",
       "      <td>120.0</td>\n",
       "      <td>141.000</td>\n",
       "      <td>141.000</td>\n",
       "      <td>137.000</td>\n",
       "      <td>137.000</td>\n",
       "    </tr>\n",
       "    <tr>\n",
       "      <th>histogram_mean</th>\n",
       "      <td>137.0</td>\n",
       "      <td>136.000</td>\n",
       "      <td>135.000</td>\n",
       "      <td>134.000</td>\n",
       "      <td>136.000</td>\n",
       "    </tr>\n",
       "    <tr>\n",
       "      <th>histogram_median</th>\n",
       "      <td>121.0</td>\n",
       "      <td>140.000</td>\n",
       "      <td>138.000</td>\n",
       "      <td>137.000</td>\n",
       "      <td>138.000</td>\n",
       "    </tr>\n",
       "    <tr>\n",
       "      <th>histogram_variance</th>\n",
       "      <td>73.0</td>\n",
       "      <td>12.000</td>\n",
       "      <td>13.000</td>\n",
       "      <td>13.000</td>\n",
       "      <td>11.000</td>\n",
       "    </tr>\n",
       "    <tr>\n",
       "      <th>histogram_tendency</th>\n",
       "      <td>1.0</td>\n",
       "      <td>0.000</td>\n",
       "      <td>0.000</td>\n",
       "      <td>1.000</td>\n",
       "      <td>1.000</td>\n",
       "    </tr>\n",
       "    <tr>\n",
       "      <th>fetal_health</th>\n",
       "      <td>2.0</td>\n",
       "      <td>1.000</td>\n",
       "      <td>1.000</td>\n",
       "      <td>1.000</td>\n",
       "      <td>1.000</td>\n",
       "    </tr>\n",
       "  </tbody>\n",
       "</table>\n",
       "</div>"
      ],
      "text/plain": [
       "                                                        0        1        2  \\\n",
       "baseline value                                      120.0  132.000  133.000   \n",
       "accelerations                                         0.0    0.006    0.003   \n",
       "fetal_movement                                        0.0    0.000    0.000   \n",
       "uterine_contractions                                  0.0    0.006    0.008   \n",
       "light_decelerations                                   0.0    0.003    0.003   \n",
       "severe_decelerations                                  0.0    0.000    0.000   \n",
       "prolongued_decelerations                              0.0    0.000    0.000   \n",
       "abnormal_short_term_variability                      73.0   17.000   16.000   \n",
       "mean_value_of_short_term_variability                  0.5    2.100    2.100   \n",
       "percentage_of_time_with_abnormal_long_term_vari...   43.0    0.000    0.000   \n",
       "mean_value_of_long_term_variability                   2.4   10.400   13.400   \n",
       "histogram_width                                      64.0  130.000  130.000   \n",
       "histogram_min                                        62.0   68.000   68.000   \n",
       "histogram_max                                       126.0  198.000  198.000   \n",
       "histogram_number_of_peaks                             2.0    6.000    5.000   \n",
       "histogram_number_of_zeroes                            0.0    1.000    1.000   \n",
       "histogram_mode                                      120.0  141.000  141.000   \n",
       "histogram_mean                                      137.0  136.000  135.000   \n",
       "histogram_median                                    121.0  140.000  138.000   \n",
       "histogram_variance                                   73.0   12.000   13.000   \n",
       "histogram_tendency                                    1.0    0.000    0.000   \n",
       "fetal_health                                          2.0    1.000    1.000   \n",
       "\n",
       "                                                          3        4  \n",
       "baseline value                                      134.000  132.000  \n",
       "accelerations                                         0.003    0.007  \n",
       "fetal_movement                                        0.000    0.000  \n",
       "uterine_contractions                                  0.008    0.008  \n",
       "light_decelerations                                   0.003    0.000  \n",
       "severe_decelerations                                  0.000    0.000  \n",
       "prolongued_decelerations                              0.000    0.000  \n",
       "abnormal_short_term_variability                      16.000   16.000  \n",
       "mean_value_of_short_term_variability                  2.400    2.400  \n",
       "percentage_of_time_with_abnormal_long_term_vari...    0.000    0.000  \n",
       "mean_value_of_long_term_variability                  23.000   19.900  \n",
       "histogram_width                                     117.000  117.000  \n",
       "histogram_min                                        53.000   53.000  \n",
       "histogram_max                                       170.000  170.000  \n",
       "histogram_number_of_peaks                            11.000    9.000  \n",
       "histogram_number_of_zeroes                            0.000    0.000  \n",
       "histogram_mode                                      137.000  137.000  \n",
       "histogram_mean                                      134.000  136.000  \n",
       "histogram_median                                    137.000  138.000  \n",
       "histogram_variance                                   13.000   11.000  \n",
       "histogram_tendency                                    1.000    1.000  \n",
       "fetal_health                                          1.000    1.000  "
      ]
     },
     "execution_count": 2,
     "metadata": {},
     "output_type": "execute_result"
    }
   ],
   "source": [
    "data = pd.read_csv('fetal_health.csv')\n",
    "data.head().transpose()"
   ]
  },
  {
   "cell_type": "markdown",
   "id": "aafe2b30",
   "metadata": {},
   "source": [
    "## Create X and y and split into training and testing"
   ]
  },
  {
   "cell_type": "code",
   "execution_count": 3,
   "id": "d6296cfb",
   "metadata": {},
   "outputs": [],
   "source": [
    "X = data.drop(columns = 'fetal_health')\n",
    "y = data['fetal_health']"
   ]
  },
  {
   "cell_type": "code",
   "execution_count": 4,
   "id": "4bb89305",
   "metadata": {},
   "outputs": [
    {
     "data": {
      "text/plain": [
       "(2126, 21)"
      ]
     },
     "execution_count": 4,
     "metadata": {},
     "output_type": "execute_result"
    }
   ],
   "source": [
    "X.shape"
   ]
  },
  {
   "cell_type": "code",
   "execution_count": 5,
   "id": "95d45eca",
   "metadata": {},
   "outputs": [
    {
     "data": {
      "text/plain": [
       "(2126,)"
      ]
     },
     "execution_count": 5,
     "metadata": {},
     "output_type": "execute_result"
    }
   ],
   "source": [
    "y.shape"
   ]
  },
  {
   "cell_type": "code",
   "execution_count": 6,
   "id": "b041ddd7",
   "metadata": {},
   "outputs": [],
   "source": [
    "X_train, X_test, y_train, y_test = train_test_split(X, y, stratify = y)"
   ]
  },
  {
   "cell_type": "markdown",
   "id": "bab131a7",
   "metadata": {},
   "source": [
    "## Scale X_train and X_test"
   ]
  },
  {
   "cell_type": "code",
   "execution_count": 7,
   "id": "f0a16ff8",
   "metadata": {},
   "outputs": [],
   "source": [
    "scaler = StandardScaler()\n",
    "scaler.fit(X_train)\n",
    "X_train_scaled = scaler.transform(X_train)\n",
    "X_test_scaled = scaler.transform(X_test)"
   ]
  },
  {
   "cell_type": "code",
   "execution_count": 8,
   "id": "da47292b",
   "metadata": {},
   "outputs": [
    {
     "data": {
      "text/html": [
       "<div>\n",
       "<style scoped>\n",
       "    .dataframe tbody tr th:only-of-type {\n",
       "        vertical-align: middle;\n",
       "    }\n",
       "\n",
       "    .dataframe tbody tr th {\n",
       "        vertical-align: top;\n",
       "    }\n",
       "\n",
       "    .dataframe thead th {\n",
       "        text-align: right;\n",
       "    }\n",
       "</style>\n",
       "<table border=\"1\" class=\"dataframe\">\n",
       "  <thead>\n",
       "    <tr style=\"text-align: right;\">\n",
       "      <th></th>\n",
       "      <th>baseline value</th>\n",
       "      <th>accelerations</th>\n",
       "      <th>fetal_movement</th>\n",
       "      <th>uterine_contractions</th>\n",
       "      <th>light_decelerations</th>\n",
       "      <th>severe_decelerations</th>\n",
       "      <th>prolongued_decelerations</th>\n",
       "      <th>abnormal_short_term_variability</th>\n",
       "      <th>mean_value_of_short_term_variability</th>\n",
       "      <th>percentage_of_time_with_abnormal_long_term_variability</th>\n",
       "      <th>...</th>\n",
       "      <th>histogram_width</th>\n",
       "      <th>histogram_min</th>\n",
       "      <th>histogram_max</th>\n",
       "      <th>histogram_number_of_peaks</th>\n",
       "      <th>histogram_number_of_zeroes</th>\n",
       "      <th>histogram_mode</th>\n",
       "      <th>histogram_mean</th>\n",
       "      <th>histogram_median</th>\n",
       "      <th>histogram_variance</th>\n",
       "      <th>histogram_tendency</th>\n",
       "    </tr>\n",
       "  </thead>\n",
       "  <tbody>\n",
       "    <tr>\n",
       "      <th>0</th>\n",
       "      <td>-0.835652</td>\n",
       "      <td>0.225903</td>\n",
       "      <td>0.368443</td>\n",
       "      <td>-0.471369</td>\n",
       "      <td>0.687291</td>\n",
       "      <td>-0.056095</td>\n",
       "      <td>-0.2745</td>\n",
       "      <td>-1.442274</td>\n",
       "      <td>1.638867</td>\n",
       "      <td>-0.529633</td>\n",
       "      <td>...</td>\n",
       "      <td>1.467426</td>\n",
       "      <td>-1.263328</td>\n",
       "      <td>1.109203</td>\n",
       "      <td>0.298080</td>\n",
       "      <td>1.017643</td>\n",
       "      <td>-0.745449</td>\n",
       "      <td>-0.728611</td>\n",
       "      <td>-0.822145</td>\n",
       "      <td>-0.107536</td>\n",
       "      <td>-0.52638</td>\n",
       "    </tr>\n",
       "    <tr>\n",
       "      <th>1</th>\n",
       "      <td>1.209847</td>\n",
       "      <td>-0.300543</td>\n",
       "      <td>-0.048461</td>\n",
       "      <td>-0.471369</td>\n",
       "      <td>-0.635828</td>\n",
       "      <td>-0.056095</td>\n",
       "      <td>-0.2745</td>\n",
       "      <td>-0.394662</td>\n",
       "      <td>0.056239</td>\n",
       "      <td>-0.529633</td>\n",
       "      <td>...</td>\n",
       "      <td>1.776398</td>\n",
       "      <td>-1.263328</td>\n",
       "      <td>1.778926</td>\n",
       "      <td>1.649826</td>\n",
       "      <td>1.017643</td>\n",
       "      <td>0.658880</td>\n",
       "      <td>0.871122</td>\n",
       "      <td>0.764415</td>\n",
       "      <td>-0.412419</td>\n",
       "      <td>-0.52638</td>\n",
       "    </tr>\n",
       "    <tr>\n",
       "      <th>2</th>\n",
       "      <td>1.516672</td>\n",
       "      <td>-0.826990</td>\n",
       "      <td>-0.207281</td>\n",
       "      <td>0.884881</td>\n",
       "      <td>-0.635828</td>\n",
       "      <td>-0.056095</td>\n",
       "      <td>-0.2745</td>\n",
       "      <td>0.245546</td>\n",
       "      <td>-0.848120</td>\n",
       "      <td>2.589738</td>\n",
       "      <td>...</td>\n",
       "      <td>-1.493561</td>\n",
       "      <td>2.004080</td>\n",
       "      <td>0.048808</td>\n",
       "      <td>-0.715730</td>\n",
       "      <td>-0.482933</td>\n",
       "      <td>1.391573</td>\n",
       "      <td>1.575005</td>\n",
       "      <td>1.592186</td>\n",
       "      <td>-0.649550</td>\n",
       "      <td>-0.52638</td>\n",
       "    </tr>\n",
       "    <tr>\n",
       "      <th>3</th>\n",
       "      <td>0.391648</td>\n",
       "      <td>-0.826990</td>\n",
       "      <td>-0.187428</td>\n",
       "      <td>0.545818</td>\n",
       "      <td>0.687291</td>\n",
       "      <td>-0.056095</td>\n",
       "      <td>-0.2745</td>\n",
       "      <td>0.711151</td>\n",
       "      <td>0.621463</td>\n",
       "      <td>-0.529633</td>\n",
       "      <td>...</td>\n",
       "      <td>0.797985</td>\n",
       "      <td>-0.991044</td>\n",
       "      <td>0.104618</td>\n",
       "      <td>0.298080</td>\n",
       "      <td>1.017643</td>\n",
       "      <td>0.109360</td>\n",
       "      <td>-0.088718</td>\n",
       "      <td>0.143588</td>\n",
       "      <td>-0.175288</td>\n",
       "      <td>1.11239</td>\n",
       "    </tr>\n",
       "    <tr>\n",
       "      <th>4</th>\n",
       "      <td>-1.551577</td>\n",
       "      <td>-0.826990</td>\n",
       "      <td>-0.207281</td>\n",
       "      <td>-0.810432</td>\n",
       "      <td>0.025732</td>\n",
       "      <td>-0.056095</td>\n",
       "      <td>-0.2745</td>\n",
       "      <td>-1.325873</td>\n",
       "      <td>0.169284</td>\n",
       "      <td>-0.529633</td>\n",
       "      <td>...</td>\n",
       "      <td>-0.412157</td>\n",
       "      <td>-0.140156</td>\n",
       "      <td>-1.123208</td>\n",
       "      <td>-1.053667</td>\n",
       "      <td>1.017643</td>\n",
       "      <td>-0.745449</td>\n",
       "      <td>-1.048558</td>\n",
       "      <td>-1.167049</td>\n",
       "      <td>-0.310791</td>\n",
       "      <td>-0.52638</td>\n",
       "    </tr>\n",
       "  </tbody>\n",
       "</table>\n",
       "<p>5 rows × 21 columns</p>\n",
       "</div>"
      ],
      "text/plain": [
       "   baseline value  accelerations  fetal_movement  uterine_contractions  \\\n",
       "0       -0.835652       0.225903        0.368443             -0.471369   \n",
       "1        1.209847      -0.300543       -0.048461             -0.471369   \n",
       "2        1.516672      -0.826990       -0.207281              0.884881   \n",
       "3        0.391648      -0.826990       -0.187428              0.545818   \n",
       "4       -1.551577      -0.826990       -0.207281             -0.810432   \n",
       "\n",
       "   light_decelerations  severe_decelerations  prolongued_decelerations  \\\n",
       "0             0.687291             -0.056095                   -0.2745   \n",
       "1            -0.635828             -0.056095                   -0.2745   \n",
       "2            -0.635828             -0.056095                   -0.2745   \n",
       "3             0.687291             -0.056095                   -0.2745   \n",
       "4             0.025732             -0.056095                   -0.2745   \n",
       "\n",
       "   abnormal_short_term_variability  mean_value_of_short_term_variability  \\\n",
       "0                        -1.442274                              1.638867   \n",
       "1                        -0.394662                              0.056239   \n",
       "2                         0.245546                             -0.848120   \n",
       "3                         0.711151                              0.621463   \n",
       "4                        -1.325873                              0.169284   \n",
       "\n",
       "   percentage_of_time_with_abnormal_long_term_variability  ...  \\\n",
       "0                                          -0.529633       ...   \n",
       "1                                          -0.529633       ...   \n",
       "2                                           2.589738       ...   \n",
       "3                                          -0.529633       ...   \n",
       "4                                          -0.529633       ...   \n",
       "\n",
       "   histogram_width  histogram_min  histogram_max  histogram_number_of_peaks  \\\n",
       "0         1.467426      -1.263328       1.109203                   0.298080   \n",
       "1         1.776398      -1.263328       1.778926                   1.649826   \n",
       "2        -1.493561       2.004080       0.048808                  -0.715730   \n",
       "3         0.797985      -0.991044       0.104618                   0.298080   \n",
       "4        -0.412157      -0.140156      -1.123208                  -1.053667   \n",
       "\n",
       "   histogram_number_of_zeroes  histogram_mode  histogram_mean  \\\n",
       "0                    1.017643       -0.745449       -0.728611   \n",
       "1                    1.017643        0.658880        0.871122   \n",
       "2                   -0.482933        1.391573        1.575005   \n",
       "3                    1.017643        0.109360       -0.088718   \n",
       "4                    1.017643       -0.745449       -1.048558   \n",
       "\n",
       "   histogram_median  histogram_variance  histogram_tendency  \n",
       "0         -0.822145           -0.107536            -0.52638  \n",
       "1          0.764415           -0.412419            -0.52638  \n",
       "2          1.592186           -0.649550            -0.52638  \n",
       "3          0.143588           -0.175288             1.11239  \n",
       "4         -1.167049           -0.310791            -0.52638  \n",
       "\n",
       "[5 rows x 21 columns]"
      ]
     },
     "execution_count": 8,
     "metadata": {},
     "output_type": "execute_result"
    }
   ],
   "source": [
    "X_train_scaled = pd.DataFrame(X_train_scaled, columns = X_train.columns)\n",
    "X_test_scaled = pd.DataFrame(X_test_scaled, columns = X_test.columns)\n",
    "X_train_scaled.head()"
   ]
  },
  {
   "cell_type": "code",
   "execution_count": 9,
   "id": "b5e326f0",
   "metadata": {},
   "outputs": [
    {
     "data": {
      "text/html": [
       "<div>\n",
       "<style scoped>\n",
       "    .dataframe tbody tr th:only-of-type {\n",
       "        vertical-align: middle;\n",
       "    }\n",
       "\n",
       "    .dataframe tbody tr th {\n",
       "        vertical-align: top;\n",
       "    }\n",
       "\n",
       "    .dataframe thead th {\n",
       "        text-align: right;\n",
       "    }\n",
       "</style>\n",
       "<table border=\"1\" class=\"dataframe\">\n",
       "  <thead>\n",
       "    <tr style=\"text-align: right;\">\n",
       "      <th></th>\n",
       "      <th>baseline value</th>\n",
       "      <th>accelerations</th>\n",
       "      <th>fetal_movement</th>\n",
       "      <th>uterine_contractions</th>\n",
       "      <th>light_decelerations</th>\n",
       "      <th>severe_decelerations</th>\n",
       "      <th>prolongued_decelerations</th>\n",
       "      <th>abnormal_short_term_variability</th>\n",
       "      <th>mean_value_of_short_term_variability</th>\n",
       "      <th>percentage_of_time_with_abnormal_long_term_variability</th>\n",
       "      <th>...</th>\n",
       "      <th>histogram_width</th>\n",
       "      <th>histogram_min</th>\n",
       "      <th>histogram_max</th>\n",
       "      <th>histogram_number_of_peaks</th>\n",
       "      <th>histogram_number_of_zeroes</th>\n",
       "      <th>histogram_mode</th>\n",
       "      <th>histogram_mean</th>\n",
       "      <th>histogram_median</th>\n",
       "      <th>histogram_variance</th>\n",
       "      <th>histogram_tendency</th>\n",
       "    </tr>\n",
       "  </thead>\n",
       "  <tbody>\n",
       "    <tr>\n",
       "      <th>0</th>\n",
       "      <td>1.618947</td>\n",
       "      <td>-0.826990</td>\n",
       "      <td>-0.207281</td>\n",
       "      <td>0.206756</td>\n",
       "      <td>-0.635828</td>\n",
       "      <td>-0.056095</td>\n",
       "      <td>-0.2745</td>\n",
       "      <td>0.943954</td>\n",
       "      <td>-1.074210</td>\n",
       "      <td>3.091066</td>\n",
       "      <td>...</td>\n",
       "      <td>-1.519309</td>\n",
       "      <td>1.799867</td>\n",
       "      <td>-0.341864</td>\n",
       "      <td>-1.053667</td>\n",
       "      <td>-0.482933</td>\n",
       "      <td>0.964169</td>\n",
       "      <td>1.191069</td>\n",
       "      <td>1.178300</td>\n",
       "      <td>-0.649550</td>\n",
       "      <td>1.11239</td>\n",
       "    </tr>\n",
       "    <tr>\n",
       "      <th>1</th>\n",
       "      <td>-0.324277</td>\n",
       "      <td>-0.563766</td>\n",
       "      <td>-0.167576</td>\n",
       "      <td>-1.488557</td>\n",
       "      <td>-0.635828</td>\n",
       "      <td>-0.056095</td>\n",
       "      <td>-0.2745</td>\n",
       "      <td>0.536549</td>\n",
       "      <td>-0.961165</td>\n",
       "      <td>1.364271</td>\n",
       "      <td>...</td>\n",
       "      <td>-0.412157</td>\n",
       "      <td>1.085122</td>\n",
       "      <td>0.885962</td>\n",
       "      <td>-0.039857</td>\n",
       "      <td>-0.482933</td>\n",
       "      <td>-0.501218</td>\n",
       "      <td>-0.152707</td>\n",
       "      <td>-0.408259</td>\n",
       "      <td>-0.547923</td>\n",
       "      <td>-2.16515</td>\n",
       "    </tr>\n",
       "    <tr>\n",
       "      <th>2</th>\n",
       "      <td>-1.142477</td>\n",
       "      <td>-0.826990</td>\n",
       "      <td>-0.207281</td>\n",
       "      <td>0.884881</td>\n",
       "      <td>0.356512</td>\n",
       "      <td>-0.056095</td>\n",
       "      <td>-0.2745</td>\n",
       "      <td>-0.918468</td>\n",
       "      <td>-0.395941</td>\n",
       "      <td>-0.139712</td>\n",
       "      <td>...</td>\n",
       "      <td>-1.004355</td>\n",
       "      <td>0.268270</td>\n",
       "      <td>-1.737120</td>\n",
       "      <td>-0.715730</td>\n",
       "      <td>-0.482933</td>\n",
       "      <td>-0.867564</td>\n",
       "      <td>-0.792601</td>\n",
       "      <td>-0.960106</td>\n",
       "      <td>-0.547923</td>\n",
       "      <td>1.11239</td>\n",
       "    </tr>\n",
       "    <tr>\n",
       "      <th>3</th>\n",
       "      <td>1.516672</td>\n",
       "      <td>-0.826990</td>\n",
       "      <td>-0.207281</td>\n",
       "      <td>1.223943</td>\n",
       "      <td>-0.635828</td>\n",
       "      <td>-0.056095</td>\n",
       "      <td>-0.2745</td>\n",
       "      <td>-0.161859</td>\n",
       "      <td>-0.848120</td>\n",
       "      <td>0.528725</td>\n",
       "      <td>...</td>\n",
       "      <td>-1.339075</td>\n",
       "      <td>1.936009</td>\n",
       "      <td>0.272049</td>\n",
       "      <td>-1.053667</td>\n",
       "      <td>-0.482933</td>\n",
       "      <td>1.574746</td>\n",
       "      <td>1.702983</td>\n",
       "      <td>1.730147</td>\n",
       "      <td>-0.649550</td>\n",
       "      <td>-0.52638</td>\n",
       "    </tr>\n",
       "    <tr>\n",
       "      <th>4</th>\n",
       "      <td>2.437147</td>\n",
       "      <td>1.542018</td>\n",
       "      <td>-0.127871</td>\n",
       "      <td>-1.149494</td>\n",
       "      <td>-0.635828</td>\n",
       "      <td>-0.056095</td>\n",
       "      <td>-0.2745</td>\n",
       "      <td>0.070943</td>\n",
       "      <td>-0.735075</td>\n",
       "      <td>-0.529633</td>\n",
       "      <td>...</td>\n",
       "      <td>-0.824121</td>\n",
       "      <td>2.038116</td>\n",
       "      <td>1.555685</td>\n",
       "      <td>-1.053667</td>\n",
       "      <td>-0.482933</td>\n",
       "      <td>1.574746</td>\n",
       "      <td>2.086919</td>\n",
       "      <td>1.937090</td>\n",
       "      <td>-0.446295</td>\n",
       "      <td>-2.16515</td>\n",
       "    </tr>\n",
       "  </tbody>\n",
       "</table>\n",
       "<p>5 rows × 21 columns</p>\n",
       "</div>"
      ],
      "text/plain": [
       "   baseline value  accelerations  fetal_movement  uterine_contractions  \\\n",
       "0        1.618947      -0.826990       -0.207281              0.206756   \n",
       "1       -0.324277      -0.563766       -0.167576             -1.488557   \n",
       "2       -1.142477      -0.826990       -0.207281              0.884881   \n",
       "3        1.516672      -0.826990       -0.207281              1.223943   \n",
       "4        2.437147       1.542018       -0.127871             -1.149494   \n",
       "\n",
       "   light_decelerations  severe_decelerations  prolongued_decelerations  \\\n",
       "0            -0.635828             -0.056095                   -0.2745   \n",
       "1            -0.635828             -0.056095                   -0.2745   \n",
       "2             0.356512             -0.056095                   -0.2745   \n",
       "3            -0.635828             -0.056095                   -0.2745   \n",
       "4            -0.635828             -0.056095                   -0.2745   \n",
       "\n",
       "   abnormal_short_term_variability  mean_value_of_short_term_variability  \\\n",
       "0                         0.943954                             -1.074210   \n",
       "1                         0.536549                             -0.961165   \n",
       "2                        -0.918468                             -0.395941   \n",
       "3                        -0.161859                             -0.848120   \n",
       "4                         0.070943                             -0.735075   \n",
       "\n",
       "   percentage_of_time_with_abnormal_long_term_variability  ...  \\\n",
       "0                                           3.091066       ...   \n",
       "1                                           1.364271       ...   \n",
       "2                                          -0.139712       ...   \n",
       "3                                           0.528725       ...   \n",
       "4                                          -0.529633       ...   \n",
       "\n",
       "   histogram_width  histogram_min  histogram_max  histogram_number_of_peaks  \\\n",
       "0        -1.519309       1.799867      -0.341864                  -1.053667   \n",
       "1        -0.412157       1.085122       0.885962                  -0.039857   \n",
       "2        -1.004355       0.268270      -1.737120                  -0.715730   \n",
       "3        -1.339075       1.936009       0.272049                  -1.053667   \n",
       "4        -0.824121       2.038116       1.555685                  -1.053667   \n",
       "\n",
       "   histogram_number_of_zeroes  histogram_mode  histogram_mean  \\\n",
       "0                   -0.482933        0.964169        1.191069   \n",
       "1                   -0.482933       -0.501218       -0.152707   \n",
       "2                   -0.482933       -0.867564       -0.792601   \n",
       "3                   -0.482933        1.574746        1.702983   \n",
       "4                   -0.482933        1.574746        2.086919   \n",
       "\n",
       "   histogram_median  histogram_variance  histogram_tendency  \n",
       "0          1.178300           -0.649550             1.11239  \n",
       "1         -0.408259           -0.547923            -2.16515  \n",
       "2         -0.960106           -0.547923             1.11239  \n",
       "3          1.730147           -0.649550            -0.52638  \n",
       "4          1.937090           -0.446295            -2.16515  \n",
       "\n",
       "[5 rows x 21 columns]"
      ]
     },
     "execution_count": 9,
     "metadata": {},
     "output_type": "execute_result"
    }
   ],
   "source": [
    "X_test_scaled.head()"
   ]
  },
  {
   "cell_type": "markdown",
   "id": "a98e3d9c",
   "metadata": {},
   "source": [
    "## Visualizing the Scaled Training Data"
   ]
  },
  {
   "cell_type": "code",
   "execution_count": 10,
   "id": "ee576b90",
   "metadata": {},
   "outputs": [
    {
     "name": "stderr",
     "output_type": "stream",
     "text": [
      "/var/folders/mw/tgvznz1d6xbdcgxt0rkwdh540000gn/T/ipykernel_11149/1290916488.py:2: UserWarning: To output multiple subplots, the figure containing the passed axes is being cleared.\n",
      "  X_train_scaled.hist(ax = ax)\n"
     ]
    },
    {
     "data": {
      "image/png": "[encoded data removed]",
      "text/plain": [
       "<Figure size 1600x1600 with 25 Axes>"
      ]
     },
     "metadata": {},
     "output_type": "display_data"
    }
   ],
   "source": [
    "fig, ax = plt.subplots(figsize = (16,16))\n",
    "X_train_scaled.hist(ax = ax)\n",
    "plt.subplots_adjust(wspace = 0.5, hspace=0.4);"
   ]
  },
  {
   "cell_type": "code",
   "execution_count": 11,
   "id": "d5a87365",
   "metadata": {},
   "outputs": [],
   "source": [
    "X_train_scaled.to_csv('fetal_health_X_train_scaled.csv')\n",
    "X_test_scaled.to_csv('fetal_health_X_test_scaled.csv')\n",
    "y_train.to_csv('fetal_health_y_train.csv')\n",
    "y_test.to_csv('fetal_health_y_test.csv')"
   ]
  },
  {
   "cell_type": "markdown",
   "id": "8e5ef4b1",
   "metadata": {},
   "source": [
    "## Create Dummy Classifier for Baseline "
   ]
  },
  {
   "cell_type": "code",
   "execution_count": 12,
   "id": "f3228c4b",
   "metadata": {},
   "outputs": [],
   "source": [
    "dummy_clf = DummyClassifier(strategy = 'most_frequent')\n",
    "dummy_clf.fit(X_train_scaled, y_train)\n",
    "preds = dummy_clf.predict(X_test_scaled)\n",
    "score = dummy_clf.score(preds, y_test)"
   ]
  },
  {
   "cell_type": "code",
   "execution_count": 13,
   "id": "da4b27f9",
   "metadata": {},
   "outputs": [
    {
     "name": "stdout",
     "output_type": "stream",
     "text": [
      "              precision    recall  f1-score   support\n",
      "\n",
      "         1.0       0.78      1.00      0.88       414\n",
      "         2.0       0.00      0.00      0.00        74\n",
      "         3.0       0.00      0.00      0.00        44\n",
      "\n",
      "    accuracy                           0.78       532\n",
      "   macro avg       0.26      0.33      0.29       532\n",
      "weighted avg       0.61      0.78      0.68       532\n",
      "\n",
      "[[414   0   0]\n",
      " [ 74   0   0]\n",
      " [ 44   0   0]]\n"
     ]
    },
    {
     "name": "stderr",
     "output_type": "stream",
     "text": [
      "/Users/morgansnellgrove/anaconda3/lib/python3.11/site-packages/sklearn/metrics/_classification.py:1469: UndefinedMetricWarning: Precision and F-score are ill-defined and being set to 0.0 in labels with no predicted samples. Use `zero_division` parameter to control this behavior.\n",
      "  _warn_prf(average, modifier, msg_start, len(result))\n",
      "/Users/morgansnellgrove/anaconda3/lib/python3.11/site-packages/sklearn/metrics/_classification.py:1469: UndefinedMetricWarning: Precision and F-score are ill-defined and being set to 0.0 in labels with no predicted samples. Use `zero_division` parameter to control this behavior.\n",
      "  _warn_prf(average, modifier, msg_start, len(result))\n",
      "/Users/morgansnellgrove/anaconda3/lib/python3.11/site-packages/sklearn/metrics/_classification.py:1469: UndefinedMetricWarning: Precision and F-score are ill-defined and being set to 0.0 in labels with no predicted samples. Use `zero_division` parameter to control this behavior.\n",
      "  _warn_prf(average, modifier, msg_start, len(result))\n"
     ]
    }
   ],
   "source": [
    "print(classification_report(y_test, preds))\n",
    "print(confusion_matrix(y_test, preds))"
   ]
  },
  {
   "cell_type": "code",
   "execution_count": 14,
   "id": "49cf346a",
   "metadata": {},
   "outputs": [
    {
     "name": "stdout",
     "output_type": "stream",
     "text": [
      "0.7781954887218046\n"
     ]
    }
   ],
   "source": [
    "print(score)"
   ]
  },
  {
   "cell_type": "code",
   "execution_count": 15,
   "id": "c34a1e44",
   "metadata": {},
   "outputs": [
    {
     "name": "stdout",
     "output_type": "stream",
     "text": [
      "1.0    0.778545\n",
      "2.0    0.138645\n",
      "3.0    0.082811\n",
      "Name: fetal_health, dtype: float64\n"
     ]
    }
   ],
   "source": [
    "occ = y_train.value_counts()\n",
    "print(occ/len(y_train))"
   ]
  },
  {
   "cell_type": "markdown",
   "id": "9bac1293",
   "metadata": {},
   "source": [
    "## Imbalance in Classes\n",
    "\n",
    "I may need to use some resampling methods to address the class imbalance. I want to first try modeling with the data as is, and then I might come back and apply try a few resampling ideas on the training data. May try:\n",
    "\n",
    "1) undersampling class 1 and oversampling classes 2 and 3\n",
    "2) leaving class 1 alone and oversampling classes 2 and 3\n",
    "3) learn about imbalanced learn library, RandomOverSampler, and SMOTE.\n"
   ]
  },
  {
   "cell_type": "markdown",
   "id": "c071ed38",
   "metadata": {},
   "source": [
    "## Decision Tree Models\n",
    "\n",
    "I decided to play around with some hyperperameters here. I do CV later. "
   ]
  },
  {
   "cell_type": "markdown",
   "id": "e0c44d1a",
   "metadata": {},
   "source": [
    "### Entropy Model, no max depth"
   ]
  },
  {
   "cell_type": "code",
   "execution_count": 16,
   "id": "e51bc852",
   "metadata": {},
   "outputs": [],
   "source": [
    "entr_dt = DecisionTreeClassifier(criterion=\"entropy\")\n",
    "entr_dt.fit(X_train_scaled, y_train)\n",
    "preds = entr_dt.predict(X_test_scaled)"
   ]
  },
  {
   "cell_type": "code",
   "execution_count": 17,
   "id": "d1b23469",
   "metadata": {},
   "outputs": [
    {
     "name": "stdout",
     "output_type": "stream",
     "text": [
      "Entropy Tree depth:  14\n"
     ]
    }
   ],
   "source": [
    "tr_depth = entr_dt.get_depth()\n",
    "print('Entropy Tree depth: ', tr_depth)"
   ]
  },
  {
   "cell_type": "code",
   "execution_count": 18,
   "id": "7fd812b5",
   "metadata": {},
   "outputs": [
    {
     "name": "stdout",
     "output_type": "stream",
     "text": [
      "              precision    recall  f1-score   support\n",
      "\n",
      "         1.0       0.97      0.96      0.96       414\n",
      "         2.0       0.79      0.78      0.79        74\n",
      "         3.0       0.83      0.86      0.84        44\n",
      "\n",
      "    accuracy                           0.93       532\n",
      "   macro avg       0.86      0.87      0.87       532\n",
      "weighted avg       0.93      0.93      0.93       532\n",
      "\n"
     ]
    }
   ],
   "source": [
    "print(classification_report(y_test, preds))"
   ]
  },
  {
   "cell_type": "code",
   "execution_count": 19,
   "id": "3e21dd95",
   "metadata": {},
   "outputs": [
    {
     "name": "stdout",
     "output_type": "stream",
     "text": [
      "[[399  11   4]\n",
      " [ 12  58   4]\n",
      " [  2   4  38]]\n"
     ]
    }
   ],
   "source": [
    "print(confusion_matrix(y_test, preds))"
   ]
  },
  {
   "cell_type": "markdown",
   "id": "323e8024",
   "metadata": {},
   "source": [
    "### Gini Impurity Model, no max depth"
   ]
  },
  {
   "cell_type": "code",
   "execution_count": 20,
   "id": "cce64909",
   "metadata": {},
   "outputs": [],
   "source": [
    "gini_dt = DecisionTreeClassifier(criterion = 'gini')\n",
    "gini_dt.fit(X_train_scaled, y_train)\n",
    "preds = gini_dt.predict(X_test_scaled)"
   ]
  },
  {
   "cell_type": "code",
   "execution_count": 21,
   "id": "73a54850",
   "metadata": {},
   "outputs": [
    {
     "name": "stdout",
     "output_type": "stream",
     "text": [
      "Gini tree depth:  18\n"
     ]
    }
   ],
   "source": [
    "tr_depth = gini_dt.get_depth()\n",
    "print('Gini tree depth: ', tr_depth)"
   ]
  },
  {
   "cell_type": "code",
   "execution_count": 22,
   "id": "90049f04",
   "metadata": {},
   "outputs": [
    {
     "name": "stdout",
     "output_type": "stream",
     "text": [
      "              precision    recall  f1-score   support\n",
      "\n",
      "         1.0       0.96      0.95      0.96       414\n",
      "         2.0       0.79      0.80      0.79        74\n",
      "         3.0       0.87      0.89      0.88        44\n",
      "\n",
      "    accuracy                           0.93       532\n",
      "   macro avg       0.87      0.88      0.87       532\n",
      "weighted avg       0.93      0.93      0.93       532\n",
      "\n"
     ]
    }
   ],
   "source": [
    "print(classification_report(y_test, preds))"
   ]
  },
  {
   "cell_type": "code",
   "execution_count": 23,
   "id": "2b146e34",
   "metadata": {},
   "outputs": [
    {
     "name": "stdout",
     "output_type": "stream",
     "text": [
      "[[395  15   4]\n",
      " [ 13  59   2]\n",
      " [  4   1  39]]\n"
     ]
    }
   ],
   "source": [
    "print(confusion_matrix(y_test, preds))"
   ]
  },
  {
   "cell_type": "markdown",
   "id": "eece6aaf",
   "metadata": {},
   "source": [
    "## Observations\n",
    "\n",
    "Looking at these two decision tree models with no max_depth, we see that they both got accuracy 0.94 and 0.91. Class 2 seems to be the hardest to predict for both models, but model 1 does a slightly better job. \n",
    "\n",
    "That's interesting because class 2 is more common than class 3, but the models are seeing class 3 easier. Perhaps the features for class 2 are more subtle, and class 3 stands out more?\n",
    "\n",
    "The class imbalance doesn't seem to be that problematic. Both models performed much better than the dummy classifier. \n",
    "\n",
    "**Since this is a medical problem, false negatives on class 3 are very important as they could be fatal. That makes recall on class 3 the primary metric. Model 2 had better recall on class 3.**"
   ]
  },
  {
   "cell_type": "markdown",
   "id": "70eb35f7",
   "metadata": {},
   "source": [
    "## Let's try limiting the depths and see what happens. "
   ]
  },
  {
   "cell_type": "markdown",
   "id": "b6278005",
   "metadata": {},
   "source": [
    "## Entropy Model, max_depth = 3"
   ]
  },
  {
   "cell_type": "code",
   "execution_count": 24,
   "id": "1b255a2b",
   "metadata": {},
   "outputs": [
    {
     "name": "stdout",
     "output_type": "stream",
     "text": [
      "              precision    recall  f1-score   support\n",
      "\n",
      "         1.0       0.93      0.96      0.94       414\n",
      "         2.0       0.70      0.62      0.66        74\n",
      "         3.0       0.81      0.68      0.74        44\n",
      "\n",
      "    accuracy                           0.89       532\n",
      "   macro avg       0.81      0.75      0.78       532\n",
      "weighted avg       0.88      0.89      0.89       532\n",
      "\n",
      "[[397  12   5]\n",
      " [ 26  46   2]\n",
      " [  6   8  30]]\n"
     ]
    }
   ],
   "source": [
    "entr_dt = DecisionTreeClassifier(criterion=\"entropy\", max_depth = 3)\n",
    "entr_dt.fit(X_train_scaled, y_train)\n",
    "preds = entr_dt.predict(X_test_scaled)\n",
    "\n",
    "print(classification_report(y_test, preds))\n",
    "print(confusion_matrix(y_test, preds))"
   ]
  },
  {
   "cell_type": "markdown",
   "id": "02526090",
   "metadata": {},
   "source": [
    "## Gini Model, max_depth = 3"
   ]
  },
  {
   "cell_type": "code",
   "execution_count": 25,
   "id": "bd3bcd3f",
   "metadata": {},
   "outputs": [
    {
     "name": "stdout",
     "output_type": "stream",
     "text": [
      "              precision    recall  f1-score   support\n",
      "\n",
      "         1.0       0.92      0.97      0.94       414\n",
      "         2.0       0.65      0.58      0.61        74\n",
      "         3.0       0.91      0.66      0.76        44\n",
      "\n",
      "    accuracy                           0.89       532\n",
      "   macro avg       0.83      0.74      0.77       532\n",
      "weighted avg       0.88      0.89      0.88       532\n",
      "\n",
      "[[400  13   1]\n",
      " [ 29  43   2]\n",
      " [  5  10  29]]\n"
     ]
    }
   ],
   "source": [
    "gini_dt = DecisionTreeClassifier(criterion = 'gini', max_depth = 3)\n",
    "gini_dt.fit(X_train_scaled, y_train)\n",
    "preds = gini_dt.predict(X_test_scaled)\n",
    "\n",
    "print(classification_report(y_test, preds))\n",
    "print(confusion_matrix(y_test, preds))"
   ]
  },
  {
   "cell_type": "markdown",
   "id": "b6ad8a37",
   "metadata": {},
   "source": [
    "## Random Forest Model"
   ]
  },
  {
   "cell_type": "code",
   "execution_count": 26,
   "id": "96d0120d",
   "metadata": {},
   "outputs": [
    {
     "name": "stdout",
     "output_type": "stream",
     "text": [
      "              precision    recall  f1-score   support\n",
      "\n",
      "         1.0       0.95      0.99      0.97       414\n",
      "         2.0       0.87      0.73      0.79        74\n",
      "         3.0       0.90      0.86      0.88        44\n",
      "\n",
      "    accuracy                           0.94       532\n",
      "   macro avg       0.91      0.86      0.88       532\n",
      "weighted avg       0.94      0.94      0.94       532\n",
      "\n",
      "[[408   3   3]\n",
      " [ 19  54   1]\n",
      " [  1   5  38]]\n"
     ]
    }
   ],
   "source": [
    "rf_clf = RandomForestClassifier()\n",
    "rf_clf.fit(X_train_scaled, y_train)\n",
    "preds = rf_clf.predict(X_test_scaled)\n",
    "\n",
    "print(classification_report(y_test, preds))\n",
    "print(confusion_matrix(y_test, preds))"
   ]
  },
  {
   "cell_type": "markdown",
   "id": "8fa6b490",
   "metadata": {},
   "source": [
    "## Gradient Boosting Classifier"
   ]
  },
  {
   "cell_type": "code",
   "execution_count": 27,
   "id": "b9a4d384",
   "metadata": {},
   "outputs": [
    {
     "name": "stdout",
     "output_type": "stream",
     "text": [
      "              precision    recall  f1-score   support\n",
      "\n",
      "         1.0       0.96      0.99      0.98       414\n",
      "         2.0       0.98      0.80      0.88        74\n",
      "         3.0       0.93      0.98      0.96        44\n",
      "\n",
      "    accuracy                           0.96       532\n",
      "   macro avg       0.96      0.92      0.94       532\n",
      "weighted avg       0.96      0.96      0.96       532\n",
      "\n",
      "[[410   1   3]\n",
      " [ 15  59   0]\n",
      " [  1   0  43]]\n"
     ]
    }
   ],
   "source": [
    "gb_clf = GradientBoostingClassifier()\n",
    "gb_clf.fit(X_train_scaled, y_train)\n",
    "preds = gb_clf.predict(X_test_scaled)\n",
    "\n",
    "print(classification_report(y_test, preds))\n",
    "print(confusion_matrix(y_test, preds))"
   ]
  },
  {
   "cell_type": "markdown",
   "id": "12143ec2",
   "metadata": {},
   "source": [
    "## Cross Validation on Decision Tree, Random Forest, and Gradient Boost"
   ]
  },
  {
   "cell_type": "markdown",
   "id": "7bf9e572",
   "metadata": {},
   "source": [
    "## Decision Tree 5-Fold CV"
   ]
  },
  {
   "cell_type": "code",
   "execution_count": 28,
   "id": "ccba2658",
   "metadata": {},
   "outputs": [
    {
     "name": "stdout",
     "output_type": "stream",
     "text": [
      "Decision Tree best params:  {'criterion': 'entropy', 'max_depth': 9}\n",
      "Decision Tree best score:  0.9228288085802724\n"
     ]
    }
   ],
   "source": [
    "kf = KFold(n_splits = 5, shuffle = True)\n",
    "param_grid = {'criterion':['entropy', 'gini'], 'max_depth': np.arange(3, 15, 1)}\n",
    "dt = DecisionTreeClassifier()\n",
    "dt_cv = GridSearchCV(dt, param_grid, cv = kf)\n",
    "dt_cv.fit(X_train_scaled, y_train)\n",
    "\n",
    "print('Decision Tree best params: ', dt_cv.best_params_)\n",
    "print('Decision Tree best score: ', dt_cv.best_score_)"
   ]
  },
  {
   "cell_type": "markdown",
   "id": "74658271",
   "metadata": {},
   "source": [
    "## Random Forest 5-Fold CV"
   ]
  },
  {
   "cell_type": "code",
   "execution_count": 29,
   "id": "c150afd7",
   "metadata": {},
   "outputs": [
    {
     "name": "stdout",
     "output_type": "stream",
     "text": [
      "Random Forest best params:  {'criterion': 'gini', 'max_depth': 14}\n",
      "Random Forest best score:  0.9416553301393901\n"
     ]
    }
   ],
   "source": [
    "rf = RandomForestClassifier()\n",
    "rf_cv = GridSearchCV(rf, param_grid, cv = kf)\n",
    "rf_cv.fit(X_train_scaled, y_train)\n",
    "\n",
    "print('Random Forest best params: ', rf_cv.best_params_)\n",
    "print('Random Forest best score: ', rf_cv.best_score_)"
   ]
  },
  {
   "cell_type": "markdown",
   "id": "142fee79",
   "metadata": {},
   "source": [
    "## Gradient Boost 5-Fold CV"
   ]
  },
  {
   "cell_type": "code",
   "execution_count": 30,
   "id": "a2eb0b4d",
   "metadata": {},
   "outputs": [
    {
     "name": "stdout",
     "output_type": "stream",
     "text": [
      "Gradient Boost best params:  {'criterion': 'friedman_mse', 'learning_rate': 0.2}\n",
      "Gradient Boost best score:  0.939153407858678\n"
     ]
    }
   ],
   "source": [
    "param_grid = {'criterion': ['friedman_mse', 'squared_error'], 'learning_rate': [0.1, 0.15, 0.2, 0.25]}\n",
    "gb = GradientBoostingClassifier()\n",
    "gb_cv = GridSearchCV(gb, param_grid, cv = kf)\n",
    "gb_cv.fit(X_train_scaled, y_train)\n",
    "\n",
    "print('Gradient Boost best params: ', gb_cv.best_params_)\n",
    "print('Gradient Boost best score: ', gb_cv.best_score_)"
   ]
  },
  {
   "cell_type": "markdown",
   "id": "30312e29",
   "metadata": {},
   "source": [
    "## Model Selection\n",
    "\n",
    "Looks like Gradient Boost or Random Forest is the way to go. Now I want to train each one with the best parameters and look at the classification report and confusion matrix again. "
   ]
  },
  {
   "cell_type": "markdown",
   "id": "7ec0b1d6",
   "metadata": {},
   "source": [
    "## Final Random Forest Model"
   ]
  },
  {
   "cell_type": "code",
   "execution_count": 31,
   "id": "817c6fe0",
   "metadata": {},
   "outputs": [
    {
     "name": "stdout",
     "output_type": "stream",
     "text": [
      "              precision    recall  f1-score   support\n",
      "\n",
      "         1.0       0.95      0.99      0.97       414\n",
      "         2.0       0.89      0.73      0.80        74\n",
      "         3.0       0.88      0.86      0.87        44\n",
      "\n",
      "    accuracy                           0.94       532\n",
      "   macro avg       0.91      0.86      0.88       532\n",
      "weighted avg       0.94      0.94      0.94       532\n",
      "\n",
      "[[408   2   4]\n",
      " [ 19  54   1]\n",
      " [  1   5  38]]\n"
     ]
    }
   ],
   "source": [
    "rf = RandomForestClassifier(criterion = 'entropy', max_depth = 13)\n",
    "rf.fit(X_train_scaled, y_train)\n",
    "preds = rf.predict(X_test_scaled)\n",
    "\n",
    "print(classification_report(y_test, preds))\n",
    "print(confusion_matrix(y_test, preds))"
   ]
  },
  {
   "cell_type": "markdown",
   "id": "a9401abe",
   "metadata": {},
   "source": [
    "## Final Gradient Boost Model"
   ]
  },
  {
   "cell_type": "code",
   "execution_count": 32,
   "id": "3c0da032",
   "metadata": {},
   "outputs": [
    {
     "name": "stdout",
     "output_type": "stream",
     "text": [
      "              precision    recall  f1-score   support\n",
      "\n",
      "         1.0       0.97      0.99      0.98       414\n",
      "         2.0       0.98      0.84      0.91        74\n",
      "         3.0       0.93      0.98      0.96        44\n",
      "\n",
      "    accuracy                           0.97       532\n",
      "   macro avg       0.96      0.94      0.95       532\n",
      "weighted avg       0.97      0.97      0.97       532\n",
      "\n",
      "[[410   1   3]\n",
      " [ 12  62   0]\n",
      " [  1   0  43]]\n"
     ]
    }
   ],
   "source": [
    "gb = GradientBoostingClassifier(criterion = 'squared_error', learning_rate = 0.2)\n",
    "gb.fit(X_train_scaled, y_train)\n",
    "preds = gb.predict(X_test_scaled)\n",
    "\n",
    "print(classification_report(y_test, preds))\n",
    "print(confusion_matrix(y_test, preds))"
   ]
  },
  {
   "cell_type": "markdown",
   "id": "27d57562",
   "metadata": {},
   "source": [
    "## Conclusion = Final Gradient Boost is the winner"
   ]
  },
  {
   "cell_type": "code",
   "execution_count": null,
   "id": "5a614221",
   "metadata": {},
   "outputs": [],
   "source": []
  }
 ],
 "metadata": {
  "kernelspec": {
   "display_name": "Python 3 (ipykernel)",
   "language": "python",
   "name": "python3"
  },
  "language_info": {
   "codemirror_mode": {
    "name": "ipython",
    "version": 3
   },
   "file_extension": ".py",
   "mimetype": "text/x-python",
   "name": "python",
   "nbconvert_exporter": "python",
   "pygments_lexer": "ipython3",
   "version": "3.11.4"
  }
 },
 "nbformat": 4,
 "nbformat_minor": 5
}
