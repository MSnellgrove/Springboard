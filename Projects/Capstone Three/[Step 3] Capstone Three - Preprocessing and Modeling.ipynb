{
 "cells": [
  {
   "cell_type": "markdown",
   "id": "922b93b2",
   "metadata": {},
   "source": [
    "# Capstone Three: Preprocessing and Modeling [Step 3]\n",
    "\n",
    "## By Morgan Snellgrove\n",
    "\n",
    "Our dataset is already all numeric so we do not need to create dummy variables. However, we do need to scale the features becuase we have very different ranges across the predictor variables. \n",
    "\n",
    "Steps for preprocessing:\n",
    "\n",
    "1) Create X-feature dataframe and y-the target dataframe.\n",
    "2) Split X and y into training and testing sets.\n",
    "3) Scale X_train and X_test. \n",
    "\n",
    "\n",
    "Steps for modeling:\n",
    "\n",
    "1) Make dummy classifier that always predicts class 1\n",
    "2) Try some un-tuned models: Decision Tree, Random Forest, and Gradient Boost\n",
    "3) Tune hyperparamters using GridSearchCV\n",
    "4) Build final models with best parameters from CV\n",
    "5) Select winning model"
   ]
  },
  {
   "cell_type": "markdown",
   "id": "55ea298d",
   "metadata": {},
   "source": [
    "## Import libraries and packages"
   ]
  },
  {
   "cell_type": "code",
   "execution_count": 1,
   "id": "c2501d8b",
   "metadata": {},
   "outputs": [],
   "source": [
    "import pandas as pd\n",
    "import numpy as np\n",
    "from sklearn.preprocessing import StandardScaler\n",
    "from sklearn.model_selection import train_test_split\n",
    "import matplotlib.pyplot as plt\n",
    "import seaborn as sns\n",
    "from sklearn.dummy import DummyClassifier\n",
    "from sklearn.tree import DecisionTreeClassifier\n",
    "from sklearn.ensemble import RandomForestClassifier, GradientBoostingClassifier\n",
    "from sklearn.metrics import accuracy_score, classification_report, confusion_matrix, roc_curve, roc_auc_score\n",
    "from sklearn.model_selection import GridSearchCV, KFold"
   ]
  },
  {
   "cell_type": "markdown",
   "id": "aa52701f",
   "metadata": {},
   "source": [
    "## Read in data"
   ]
  },
  {
   "cell_type": "code",
   "execution_count": 2,
   "id": "b8e2cbf3",
   "metadata": {},
   "outputs": [
    {
     "data": {
      "text/html": [
       "<div>\n",
       "<style scoped>\n",
       "    .dataframe tbody tr th:only-of-type {\n",
       "        vertical-align: middle;\n",
       "    }\n",
       "\n",
       "    .dataframe tbody tr th {\n",
       "        vertical-align: top;\n",
       "    }\n",
       "\n",
       "    .dataframe thead th {\n",
       "        text-align: right;\n",
       "    }\n",
       "</style>\n",
       "<table border=\"1\" class=\"dataframe\">\n",
       "  <thead>\n",
       "    <tr style=\"text-align: right;\">\n",
       "      <th></th>\n",
       "      <th>0</th>\n",
       "      <th>1</th>\n",
       "      <th>2</th>\n",
       "      <th>3</th>\n",
       "      <th>4</th>\n",
       "    </tr>\n",
       "  </thead>\n",
       "  <tbody>\n",
       "    <tr>\n",
       "      <th>baseline value</th>\n",
       "      <td>120.0</td>\n",
       "      <td>132.000</td>\n",
       "      <td>133.000</td>\n",
       "      <td>134.000</td>\n",
       "      <td>132.000</td>\n",
       "    </tr>\n",
       "    <tr>\n",
       "      <th>accelerations</th>\n",
       "      <td>0.0</td>\n",
       "      <td>0.006</td>\n",
       "      <td>0.003</td>\n",
       "      <td>0.003</td>\n",
       "      <td>0.007</td>\n",
       "    </tr>\n",
       "    <tr>\n",
       "      <th>fetal_movement</th>\n",
       "      <td>0.0</td>\n",
       "      <td>0.000</td>\n",
       "      <td>0.000</td>\n",
       "      <td>0.000</td>\n",
       "      <td>0.000</td>\n",
       "    </tr>\n",
       "    <tr>\n",
       "      <th>uterine_contractions</th>\n",
       "      <td>0.0</td>\n",
       "      <td>0.006</td>\n",
       "      <td>0.008</td>\n",
       "      <td>0.008</td>\n",
       "      <td>0.008</td>\n",
       "    </tr>\n",
       "    <tr>\n",
       "      <th>light_decelerations</th>\n",
       "      <td>0.0</td>\n",
       "      <td>0.003</td>\n",
       "      <td>0.003</td>\n",
       "      <td>0.003</td>\n",
       "      <td>0.000</td>\n",
       "    </tr>\n",
       "    <tr>\n",
       "      <th>severe_decelerations</th>\n",
       "      <td>0.0</td>\n",
       "      <td>0.000</td>\n",
       "      <td>0.000</td>\n",
       "      <td>0.000</td>\n",
       "      <td>0.000</td>\n",
       "    </tr>\n",
       "    <tr>\n",
       "      <th>prolongued_decelerations</th>\n",
       "      <td>0.0</td>\n",
       "      <td>0.000</td>\n",
       "      <td>0.000</td>\n",
       "      <td>0.000</td>\n",
       "      <td>0.000</td>\n",
       "    </tr>\n",
       "    <tr>\n",
       "      <th>abnormal_short_term_variability</th>\n",
       "      <td>73.0</td>\n",
       "      <td>17.000</td>\n",
       "      <td>16.000</td>\n",
       "      <td>16.000</td>\n",
       "      <td>16.000</td>\n",
       "    </tr>\n",
       "    <tr>\n",
       "      <th>mean_value_of_short_term_variability</th>\n",
       "      <td>0.5</td>\n",
       "      <td>2.100</td>\n",
       "      <td>2.100</td>\n",
       "      <td>2.400</td>\n",
       "      <td>2.400</td>\n",
       "    </tr>\n",
       "    <tr>\n",
       "      <th>percentage_of_time_with_abnormal_long_term_variability</th>\n",
       "      <td>43.0</td>\n",
       "      <td>0.000</td>\n",
       "      <td>0.000</td>\n",
       "      <td>0.000</td>\n",
       "      <td>0.000</td>\n",
       "    </tr>\n",
       "    <tr>\n",
       "      <th>mean_value_of_long_term_variability</th>\n",
       "      <td>2.4</td>\n",
       "      <td>10.400</td>\n",
       "      <td>13.400</td>\n",
       "      <td>23.000</td>\n",
       "      <td>19.900</td>\n",
       "    </tr>\n",
       "    <tr>\n",
       "      <th>histogram_width</th>\n",
       "      <td>64.0</td>\n",
       "      <td>130.000</td>\n",
       "      <td>130.000</td>\n",
       "      <td>117.000</td>\n",
       "      <td>117.000</td>\n",
       "    </tr>\n",
       "    <tr>\n",
       "      <th>histogram_min</th>\n",
       "      <td>62.0</td>\n",
       "      <td>68.000</td>\n",
       "      <td>68.000</td>\n",
       "      <td>53.000</td>\n",
       "      <td>53.000</td>\n",
       "    </tr>\n",
       "    <tr>\n",
       "      <th>histogram_max</th>\n",
       "      <td>126.0</td>\n",
       "      <td>198.000</td>\n",
       "      <td>198.000</td>\n",
       "      <td>170.000</td>\n",
       "      <td>170.000</td>\n",
       "    </tr>\n",
       "    <tr>\n",
       "      <th>histogram_number_of_peaks</th>\n",
       "      <td>2.0</td>\n",
       "      <td>6.000</td>\n",
       "      <td>5.000</td>\n",
       "      <td>11.000</td>\n",
       "      <td>9.000</td>\n",
       "    </tr>\n",
       "    <tr>\n",
       "      <th>histogram_number_of_zeroes</th>\n",
       "      <td>0.0</td>\n",
       "      <td>1.000</td>\n",
       "      <td>1.000</td>\n",
       "      <td>0.000</td>\n",
       "      <td>0.000</td>\n",
       "    </tr>\n",
       "    <tr>\n",
       "      <th>histogram_mode</th>\n",
       "      <td>120.0</td>\n",
       "      <td>141.000</td>\n",
       "      <td>141.000</td>\n",
       "      <td>137.000</td>\n",
       "      <td>137.000</td>\n",
       "    </tr>\n",
       "    <tr>\n",
       "      <th>histogram_mean</th>\n",
       "      <td>137.0</td>\n",
       "      <td>136.000</td>\n",
       "      <td>135.000</td>\n",
       "      <td>134.000</td>\n",
       "      <td>136.000</td>\n",
       "    </tr>\n",
       "    <tr>\n",
       "      <th>histogram_median</th>\n",
       "      <td>121.0</td>\n",
       "      <td>140.000</td>\n",
       "      <td>138.000</td>\n",
       "      <td>137.000</td>\n",
       "      <td>138.000</td>\n",
       "    </tr>\n",
       "    <tr>\n",
       "      <th>histogram_variance</th>\n",
       "      <td>73.0</td>\n",
       "      <td>12.000</td>\n",
       "      <td>13.000</td>\n",
       "      <td>13.000</td>\n",
       "      <td>11.000</td>\n",
       "    </tr>\n",
       "    <tr>\n",
       "      <th>histogram_tendency</th>\n",
       "      <td>1.0</td>\n",
       "      <td>0.000</td>\n",
       "      <td>0.000</td>\n",
       "      <td>1.000</td>\n",
       "      <td>1.000</td>\n",
       "    </tr>\n",
       "    <tr>\n",
       "      <th>fetal_health</th>\n",
       "      <td>2.0</td>\n",
       "      <td>1.000</td>\n",
       "      <td>1.000</td>\n",
       "      <td>1.000</td>\n",
       "      <td>1.000</td>\n",
       "    </tr>\n",
       "  </tbody>\n",
       "</table>\n",
       "</div>"
      ],
      "text/plain": [
       "                                                        0        1        2  \\\n",
       "baseline value                                      120.0  132.000  133.000   \n",
       "accelerations                                         0.0    0.006    0.003   \n",
       "fetal_movement                                        0.0    0.000    0.000   \n",
       "uterine_contractions                                  0.0    0.006    0.008   \n",
       "light_decelerations                                   0.0    0.003    0.003   \n",
       "severe_decelerations                                  0.0    0.000    0.000   \n",
       "prolongued_decelerations                              0.0    0.000    0.000   \n",
       "abnormal_short_term_variability                      73.0   17.000   16.000   \n",
       "mean_value_of_short_term_variability                  0.5    2.100    2.100   \n",
       "percentage_of_time_with_abnormal_long_term_vari...   43.0    0.000    0.000   \n",
       "mean_value_of_long_term_variability                   2.4   10.400   13.400   \n",
       "histogram_width                                      64.0  130.000  130.000   \n",
       "histogram_min                                        62.0   68.000   68.000   \n",
       "histogram_max                                       126.0  198.000  198.000   \n",
       "histogram_number_of_peaks                             2.0    6.000    5.000   \n",
       "histogram_number_of_zeroes                            0.0    1.000    1.000   \n",
       "histogram_mode                                      120.0  141.000  141.000   \n",
       "histogram_mean                                      137.0  136.000  135.000   \n",
       "histogram_median                                    121.0  140.000  138.000   \n",
       "histogram_variance                                   73.0   12.000   13.000   \n",
       "histogram_tendency                                    1.0    0.000    0.000   \n",
       "fetal_health                                          2.0    1.000    1.000   \n",
       "\n",
       "                                                          3        4  \n",
       "baseline value                                      134.000  132.000  \n",
       "accelerations                                         0.003    0.007  \n",
       "fetal_movement                                        0.000    0.000  \n",
       "uterine_contractions                                  0.008    0.008  \n",
       "light_decelerations                                   0.003    0.000  \n",
       "severe_decelerations                                  0.000    0.000  \n",
       "prolongued_decelerations                              0.000    0.000  \n",
       "abnormal_short_term_variability                      16.000   16.000  \n",
       "mean_value_of_short_term_variability                  2.400    2.400  \n",
       "percentage_of_time_with_abnormal_long_term_vari...    0.000    0.000  \n",
       "mean_value_of_long_term_variability                  23.000   19.900  \n",
       "histogram_width                                     117.000  117.000  \n",
       "histogram_min                                        53.000   53.000  \n",
       "histogram_max                                       170.000  170.000  \n",
       "histogram_number_of_peaks                            11.000    9.000  \n",
       "histogram_number_of_zeroes                            0.000    0.000  \n",
       "histogram_mode                                      137.000  137.000  \n",
       "histogram_mean                                      134.000  136.000  \n",
       "histogram_median                                    137.000  138.000  \n",
       "histogram_variance                                   13.000   11.000  \n",
       "histogram_tendency                                    1.000    1.000  \n",
       "fetal_health                                          1.000    1.000  "
      ]
     },
     "execution_count": 2,
     "metadata": {},
     "output_type": "execute_result"
    }
   ],
   "source": [
    "data = pd.read_csv('fetal_health.csv')\n",
    "data.head().transpose()"
   ]
  },
  {
   "cell_type": "markdown",
   "id": "bbef0a61",
   "metadata": {},
   "source": [
    "## Create X and y and split into training and testing"
   ]
  },
  {
   "cell_type": "code",
   "execution_count": 3,
   "id": "649635b1",
   "metadata": {},
   "outputs": [],
   "source": [
    "X = data.drop(columns = 'fetal_health')\n",
    "y = data['fetal_health']"
   ]
  },
  {
   "cell_type": "code",
   "execution_count": 4,
   "id": "c97c0a6a",
   "metadata": {},
   "outputs": [
    {
     "data": {
      "text/plain": [
       "(2126, 21)"
      ]
     },
     "execution_count": 4,
     "metadata": {},
     "output_type": "execute_result"
    }
   ],
   "source": [
    "X.shape"
   ]
  },
  {
   "cell_type": "code",
   "execution_count": 5,
   "id": "142e455b",
   "metadata": {},
   "outputs": [
    {
     "data": {
      "text/plain": [
       "(2126,)"
      ]
     },
     "execution_count": 5,
     "metadata": {},
     "output_type": "execute_result"
    }
   ],
   "source": [
    "y.shape"
   ]
  },
  {
   "cell_type": "code",
   "execution_count": 6,
   "id": "137ae7ac",
   "metadata": {},
   "outputs": [],
   "source": [
    "X_train, X_test, y_train, y_test = train_test_split(X, y, stratify = y)"
   ]
  },
  {
   "cell_type": "markdown",
   "id": "d84309f7",
   "metadata": {},
   "source": [
    "## Scale X_train and X_test"
   ]
  },
  {
   "cell_type": "code",
   "execution_count": 7,
   "id": "6d916edf",
   "metadata": {},
   "outputs": [],
   "source": [
    "scaler = StandardScaler()\n",
    "scaler.fit(X_train)\n",
    "X_train_scaled = scaler.transform(X_train)\n",
    "X_test_scaled = scaler.transform(X_test)"
   ]
  },
  {
   "cell_type": "code",
   "execution_count": 8,
   "id": "198393a2",
   "metadata": {},
   "outputs": [
    {
     "data": {
      "text/html": [
       "<div>\n",
       "<style scoped>\n",
       "    .dataframe tbody tr th:only-of-type {\n",
       "        vertical-align: middle;\n",
       "    }\n",
       "\n",
       "    .dataframe tbody tr th {\n",
       "        vertical-align: top;\n",
       "    }\n",
       "\n",
       "    .dataframe thead th {\n",
       "        text-align: right;\n",
       "    }\n",
       "</style>\n",
       "<table border=\"1\" class=\"dataframe\">\n",
       "  <thead>\n",
       "    <tr style=\"text-align: right;\">\n",
       "      <th></th>\n",
       "      <th>baseline value</th>\n",
       "      <th>accelerations</th>\n",
       "      <th>fetal_movement</th>\n",
       "      <th>uterine_contractions</th>\n",
       "      <th>light_decelerations</th>\n",
       "      <th>severe_decelerations</th>\n",
       "      <th>prolongued_decelerations</th>\n",
       "      <th>abnormal_short_term_variability</th>\n",
       "      <th>mean_value_of_short_term_variability</th>\n",
       "      <th>percentage_of_time_with_abnormal_long_term_variability</th>\n",
       "      <th>...</th>\n",
       "      <th>histogram_width</th>\n",
       "      <th>histogram_min</th>\n",
       "      <th>histogram_max</th>\n",
       "      <th>histogram_number_of_peaks</th>\n",
       "      <th>histogram_number_of_zeroes</th>\n",
       "      <th>histogram_mode</th>\n",
       "      <th>histogram_mean</th>\n",
       "      <th>histogram_median</th>\n",
       "      <th>histogram_variance</th>\n",
       "      <th>histogram_tendency</th>\n",
       "    </tr>\n",
       "  </thead>\n",
       "  <tbody>\n",
       "    <tr>\n",
       "      <th>0</th>\n",
       "      <td>1.271641</td>\n",
       "      <td>-0.810436</td>\n",
       "      <td>0.203961</td>\n",
       "      <td>-1.468543</td>\n",
       "      <td>-0.633432</td>\n",
       "      <td>-0.061468</td>\n",
       "      <td>-0.266745</td>\n",
       "      <td>1.584406</td>\n",
       "      <td>-0.934572</td>\n",
       "      <td>2.618800</td>\n",
       "      <td>...</td>\n",
       "      <td>1.041150</td>\n",
       "      <td>-0.647637</td>\n",
       "      <td>1.203741</td>\n",
       "      <td>-0.041199</td>\n",
       "      <td>-0.463948</td>\n",
       "      <td>0.572275</td>\n",
       "      <td>0.780189</td>\n",
       "      <td>0.670937</td>\n",
       "      <td>-0.589634</td>\n",
       "      <td>-0.549364</td>\n",
       "    </tr>\n",
       "    <tr>\n",
       "      <th>1</th>\n",
       "      <td>1.475247</td>\n",
       "      <td>-0.810436</td>\n",
       "      <td>-0.198075</td>\n",
       "      <td>-0.455623</td>\n",
       "      <td>-0.633432</td>\n",
       "      <td>-0.061468</td>\n",
       "      <td>-0.266745</td>\n",
       "      <td>0.585958</td>\n",
       "      <td>-0.934572</td>\n",
       "      <td>0.531402</td>\n",
       "      <td>...</td>\n",
       "      <td>-0.582895</td>\n",
       "      <td>0.732038</td>\n",
       "      <td>-0.048827</td>\n",
       "      <td>0.297313</td>\n",
       "      <td>-0.463948</td>\n",
       "      <td>0.937888</td>\n",
       "      <td>1.099771</td>\n",
       "      <td>1.014026</td>\n",
       "      <td>-0.624799</td>\n",
       "      <td>1.099763</td>\n",
       "    </tr>\n",
       "    <tr>\n",
       "      <th>2</th>\n",
       "      <td>1.068035</td>\n",
       "      <td>-0.810436</td>\n",
       "      <td>-0.175740</td>\n",
       "      <td>-1.130903</td>\n",
       "      <td>-0.633432</td>\n",
       "      <td>-0.061468</td>\n",
       "      <td>-0.266745</td>\n",
       "      <td>2.112995</td>\n",
       "      <td>-1.160251</td>\n",
       "      <td>1.120155</td>\n",
       "      <td>...</td>\n",
       "      <td>-0.840679</td>\n",
       "      <td>1.304098</td>\n",
       "      <td>0.349718</td>\n",
       "      <td>-0.718224</td>\n",
       "      <td>-0.463948</td>\n",
       "      <td>0.389468</td>\n",
       "      <td>0.588440</td>\n",
       "      <td>0.465085</td>\n",
       "      <td>-0.659965</td>\n",
       "      <td>-2.198492</td>\n",
       "    </tr>\n",
       "    <tr>\n",
       "      <th>3</th>\n",
       "      <td>-2.393260</td>\n",
       "      <td>0.469623</td>\n",
       "      <td>-0.175740</td>\n",
       "      <td>1.232577</td>\n",
       "      <td>-0.298098</td>\n",
       "      <td>-0.061468</td>\n",
       "      <td>-0.266745</td>\n",
       "      <td>0.938352</td>\n",
       "      <td>0.306663</td>\n",
       "      <td>-0.539058</td>\n",
       "      <td>...</td>\n",
       "      <td>0.448245</td>\n",
       "      <td>-0.109227</td>\n",
       "      <td>0.805197</td>\n",
       "      <td>-0.379711</td>\n",
       "      <td>-0.463948</td>\n",
       "      <td>-1.743277</td>\n",
       "      <td>-1.329052</td>\n",
       "      <td>-1.799297</td>\n",
       "      <td>0.535671</td>\n",
       "      <td>-2.198492</td>\n",
       "    </tr>\n",
       "    <tr>\n",
       "      <th>4</th>\n",
       "      <td>-0.662612</td>\n",
       "      <td>-0.810436</td>\n",
       "      <td>-0.198075</td>\n",
       "      <td>0.219657</td>\n",
       "      <td>-0.633432</td>\n",
       "      <td>-0.061468</td>\n",
       "      <td>-0.266745</td>\n",
       "      <td>-1.469668</td>\n",
       "      <td>0.193823</td>\n",
       "      <td>-0.539058</td>\n",
       "      <td>...</td>\n",
       "      <td>0.525580</td>\n",
       "      <td>0.462833</td>\n",
       "      <td>1.943895</td>\n",
       "      <td>0.297313</td>\n",
       "      <td>0.908099</td>\n",
       "      <td>-0.158952</td>\n",
       "      <td>-0.178557</td>\n",
       "      <td>-0.289709</td>\n",
       "      <td>-0.554468</td>\n",
       "      <td>-2.198492</td>\n",
       "    </tr>\n",
       "  </tbody>\n",
       "</table>\n",
       "<p>5 rows × 21 columns</p>\n",
       "</div>"
      ],
      "text/plain": [
       "   baseline value  accelerations  fetal_movement  uterine_contractions  \\\n",
       "0        1.271641      -0.810436        0.203961             -1.468543   \n",
       "1        1.475247      -0.810436       -0.198075             -0.455623   \n",
       "2        1.068035      -0.810436       -0.175740             -1.130903   \n",
       "3       -2.393260       0.469623       -0.175740              1.232577   \n",
       "4       -0.662612      -0.810436       -0.198075              0.219657   \n",
       "\n",
       "   light_decelerations  severe_decelerations  prolongued_decelerations  \\\n",
       "0            -0.633432             -0.061468                 -0.266745   \n",
       "1            -0.633432             -0.061468                 -0.266745   \n",
       "2            -0.633432             -0.061468                 -0.266745   \n",
       "3            -0.298098             -0.061468                 -0.266745   \n",
       "4            -0.633432             -0.061468                 -0.266745   \n",
       "\n",
       "   abnormal_short_term_variability  mean_value_of_short_term_variability  \\\n",
       "0                         1.584406                             -0.934572   \n",
       "1                         0.585958                             -0.934572   \n",
       "2                         2.112995                             -1.160251   \n",
       "3                         0.938352                              0.306663   \n",
       "4                        -1.469668                              0.193823   \n",
       "\n",
       "   percentage_of_time_with_abnormal_long_term_variability  ...  \\\n",
       "0                                           2.618800       ...   \n",
       "1                                           0.531402       ...   \n",
       "2                                           1.120155       ...   \n",
       "3                                          -0.539058       ...   \n",
       "4                                          -0.539058       ...   \n",
       "\n",
       "   histogram_width  histogram_min  histogram_max  histogram_number_of_peaks  \\\n",
       "0         1.041150      -0.647637       1.203741                  -0.041199   \n",
       "1        -0.582895       0.732038      -0.048827                   0.297313   \n",
       "2        -0.840679       1.304098       0.349718                  -0.718224   \n",
       "3         0.448245      -0.109227       0.805197                  -0.379711   \n",
       "4         0.525580       0.462833       1.943895                   0.297313   \n",
       "\n",
       "   histogram_number_of_zeroes  histogram_mode  histogram_mean  \\\n",
       "0                   -0.463948        0.572275        0.780189   \n",
       "1                   -0.463948        0.937888        1.099771   \n",
       "2                   -0.463948        0.389468        0.588440   \n",
       "3                   -0.463948       -1.743277       -1.329052   \n",
       "4                    0.908099       -0.158952       -0.178557   \n",
       "\n",
       "   histogram_median  histogram_variance  histogram_tendency  \n",
       "0          0.670937           -0.589634           -0.549364  \n",
       "1          1.014026           -0.624799            1.099763  \n",
       "2          0.465085           -0.659965           -2.198492  \n",
       "3         -1.799297            0.535671           -2.198492  \n",
       "4         -0.289709           -0.554468           -2.198492  \n",
       "\n",
       "[5 rows x 21 columns]"
      ]
     },
     "execution_count": 8,
     "metadata": {},
     "output_type": "execute_result"
    }
   ],
   "source": [
    "X_train_scaled = pd.DataFrame(X_train_scaled, columns = X_train.columns)\n",
    "X_test_scaled = pd.DataFrame(X_test_scaled, columns = X_test.columns)\n",
    "X_train_scaled.head()"
   ]
  },
  {
   "cell_type": "code",
   "execution_count": 9,
   "id": "85f6b273",
   "metadata": {},
   "outputs": [
    {
     "data": {
      "text/html": [
       "<div>\n",
       "<style scoped>\n",
       "    .dataframe tbody tr th:only-of-type {\n",
       "        vertical-align: middle;\n",
       "    }\n",
       "\n",
       "    .dataframe tbody tr th {\n",
       "        vertical-align: top;\n",
       "    }\n",
       "\n",
       "    .dataframe thead th {\n",
       "        text-align: right;\n",
       "    }\n",
       "</style>\n",
       "<table border=\"1\" class=\"dataframe\">\n",
       "  <thead>\n",
       "    <tr style=\"text-align: right;\">\n",
       "      <th></th>\n",
       "      <th>baseline value</th>\n",
       "      <th>accelerations</th>\n",
       "      <th>fetal_movement</th>\n",
       "      <th>uterine_contractions</th>\n",
       "      <th>light_decelerations</th>\n",
       "      <th>severe_decelerations</th>\n",
       "      <th>prolongued_decelerations</th>\n",
       "      <th>abnormal_short_term_variability</th>\n",
       "      <th>mean_value_of_short_term_variability</th>\n",
       "      <th>percentage_of_time_with_abnormal_long_term_variability</th>\n",
       "      <th>...</th>\n",
       "      <th>histogram_width</th>\n",
       "      <th>histogram_min</th>\n",
       "      <th>histogram_max</th>\n",
       "      <th>histogram_number_of_peaks</th>\n",
       "      <th>histogram_number_of_zeroes</th>\n",
       "      <th>histogram_mode</th>\n",
       "      <th>histogram_mean</th>\n",
       "      <th>histogram_median</th>\n",
       "      <th>histogram_variance</th>\n",
       "      <th>histogram_tendency</th>\n",
       "    </tr>\n",
       "  </thead>\n",
       "  <tbody>\n",
       "    <tr>\n",
       "      <th>0</th>\n",
       "      <td>0.151810</td>\n",
       "      <td>-0.810436</td>\n",
       "      <td>-0.198075</td>\n",
       "      <td>0.894937</td>\n",
       "      <td>-0.298098</td>\n",
       "      <td>-0.061468</td>\n",
       "      <td>-0.266745</td>\n",
       "      <td>0.409762</td>\n",
       "      <td>-0.934572</td>\n",
       "      <td>0.103218</td>\n",
       "      <td>...</td>\n",
       "      <td>-0.995350</td>\n",
       "      <td>0.799339</td>\n",
       "      <td>-0.845916</td>\n",
       "      <td>-0.718224</td>\n",
       "      <td>-0.463948</td>\n",
       "      <td>0.145725</td>\n",
       "      <td>0.141025</td>\n",
       "      <td>0.121996</td>\n",
       "      <td>-0.589634</td>\n",
       "      <td>1.099763</td>\n",
       "    </tr>\n",
       "    <tr>\n",
       "      <th>1</th>\n",
       "      <td>0.559021</td>\n",
       "      <td>0.213611</td>\n",
       "      <td>-0.198075</td>\n",
       "      <td>0.894937</td>\n",
       "      <td>-0.633432</td>\n",
       "      <td>-0.061468</td>\n",
       "      <td>-0.266745</td>\n",
       "      <td>0.644691</td>\n",
       "      <td>-0.934572</td>\n",
       "      <td>-0.539058</td>\n",
       "      <td>...</td>\n",
       "      <td>-0.247774</td>\n",
       "      <td>0.462833</td>\n",
       "      <td>0.235848</td>\n",
       "      <td>-0.379711</td>\n",
       "      <td>-0.463948</td>\n",
       "      <td>0.937888</td>\n",
       "      <td>1.099771</td>\n",
       "      <td>1.082643</td>\n",
       "      <td>-0.554468</td>\n",
       "      <td>1.099763</td>\n",
       "    </tr>\n",
       "    <tr>\n",
       "      <th>2</th>\n",
       "      <td>-1.171627</td>\n",
       "      <td>-0.554424</td>\n",
       "      <td>-0.198075</td>\n",
       "      <td>-0.793263</td>\n",
       "      <td>-0.633432</td>\n",
       "      <td>-0.061468</td>\n",
       "      <td>-0.266745</td>\n",
       "      <td>-1.176007</td>\n",
       "      <td>-0.031856</td>\n",
       "      <td>-0.539058</td>\n",
       "      <td>...</td>\n",
       "      <td>-1.124243</td>\n",
       "      <td>0.664737</td>\n",
       "      <td>-1.358330</td>\n",
       "      <td>-1.056736</td>\n",
       "      <td>-0.463948</td>\n",
       "      <td>-0.768308</td>\n",
       "      <td>-0.625972</td>\n",
       "      <td>-0.838650</td>\n",
       "      <td>-0.624799</td>\n",
       "      <td>-0.549364</td>\n",
       "    </tr>\n",
       "    <tr>\n",
       "      <th>3</th>\n",
       "      <td>-0.459007</td>\n",
       "      <td>0.981646</td>\n",
       "      <td>-0.198075</td>\n",
       "      <td>0.557297</td>\n",
       "      <td>-0.633432</td>\n",
       "      <td>-0.061468</td>\n",
       "      <td>-0.266745</td>\n",
       "      <td>-1.410936</td>\n",
       "      <td>0.193823</td>\n",
       "      <td>-0.539058</td>\n",
       "      <td>...</td>\n",
       "      <td>-0.686009</td>\n",
       "      <td>0.732038</td>\n",
       "      <td>-0.276567</td>\n",
       "      <td>-1.056736</td>\n",
       "      <td>-0.463948</td>\n",
       "      <td>-0.280824</td>\n",
       "      <td>0.268858</td>\n",
       "      <td>0.190614</td>\n",
       "      <td>-0.273142</td>\n",
       "      <td>-0.549364</td>\n",
       "    </tr>\n",
       "    <tr>\n",
       "      <th>4</th>\n",
       "      <td>-1.069824</td>\n",
       "      <td>-0.042401</td>\n",
       "      <td>-0.131069</td>\n",
       "      <td>-1.468543</td>\n",
       "      <td>-0.633432</td>\n",
       "      <td>-0.061468</td>\n",
       "      <td>-0.266745</td>\n",
       "      <td>0.292298</td>\n",
       "      <td>-0.596053</td>\n",
       "      <td>-0.378489</td>\n",
       "      <td>...</td>\n",
       "      <td>0.164682</td>\n",
       "      <td>-1.017794</td>\n",
       "      <td>-1.358330</td>\n",
       "      <td>0.974338</td>\n",
       "      <td>-0.463948</td>\n",
       "      <td>-0.646437</td>\n",
       "      <td>-0.434222</td>\n",
       "      <td>-0.564180</td>\n",
       "      <td>-0.484136</td>\n",
       "      <td>1.099763</td>\n",
       "    </tr>\n",
       "  </tbody>\n",
       "</table>\n",
       "<p>5 rows × 21 columns</p>\n",
       "</div>"
      ],
      "text/plain": [
       "   baseline value  accelerations  fetal_movement  uterine_contractions  \\\n",
       "0        0.151810      -0.810436       -0.198075              0.894937   \n",
       "1        0.559021       0.213611       -0.198075              0.894937   \n",
       "2       -1.171627      -0.554424       -0.198075             -0.793263   \n",
       "3       -0.459007       0.981646       -0.198075              0.557297   \n",
       "4       -1.069824      -0.042401       -0.131069             -1.468543   \n",
       "\n",
       "   light_decelerations  severe_decelerations  prolongued_decelerations  \\\n",
       "0            -0.298098             -0.061468                 -0.266745   \n",
       "1            -0.633432             -0.061468                 -0.266745   \n",
       "2            -0.633432             -0.061468                 -0.266745   \n",
       "3            -0.633432             -0.061468                 -0.266745   \n",
       "4            -0.633432             -0.061468                 -0.266745   \n",
       "\n",
       "   abnormal_short_term_variability  mean_value_of_short_term_variability  \\\n",
       "0                         0.409762                             -0.934572   \n",
       "1                         0.644691                             -0.934572   \n",
       "2                        -1.176007                             -0.031856   \n",
       "3                        -1.410936                              0.193823   \n",
       "4                         0.292298                             -0.596053   \n",
       "\n",
       "   percentage_of_time_with_abnormal_long_term_variability  ...  \\\n",
       "0                                           0.103218       ...   \n",
       "1                                          -0.539058       ...   \n",
       "2                                          -0.539058       ...   \n",
       "3                                          -0.539058       ...   \n",
       "4                                          -0.378489       ...   \n",
       "\n",
       "   histogram_width  histogram_min  histogram_max  histogram_number_of_peaks  \\\n",
       "0        -0.995350       0.799339      -0.845916                  -0.718224   \n",
       "1        -0.247774       0.462833       0.235848                  -0.379711   \n",
       "2        -1.124243       0.664737      -1.358330                  -1.056736   \n",
       "3        -0.686009       0.732038      -0.276567                  -1.056736   \n",
       "4         0.164682      -1.017794      -1.358330                   0.974338   \n",
       "\n",
       "   histogram_number_of_zeroes  histogram_mode  histogram_mean  \\\n",
       "0                   -0.463948        0.145725        0.141025   \n",
       "1                   -0.463948        0.937888        1.099771   \n",
       "2                   -0.463948       -0.768308       -0.625972   \n",
       "3                   -0.463948       -0.280824        0.268858   \n",
       "4                   -0.463948       -0.646437       -0.434222   \n",
       "\n",
       "   histogram_median  histogram_variance  histogram_tendency  \n",
       "0          0.121996           -0.589634            1.099763  \n",
       "1          1.082643           -0.554468            1.099763  \n",
       "2         -0.838650           -0.624799           -0.549364  \n",
       "3          0.190614           -0.273142           -0.549364  \n",
       "4         -0.564180           -0.484136            1.099763  \n",
       "\n",
       "[5 rows x 21 columns]"
      ]
     },
     "execution_count": 9,
     "metadata": {},
     "output_type": "execute_result"
    }
   ],
   "source": [
    "X_test_scaled.head()"
   ]
  },
  {
   "cell_type": "markdown",
   "id": "dd484cea",
   "metadata": {},
   "source": [
    "## Visualizing the Scaled Training Data"
   ]
  },
  {
   "cell_type": "code",
   "execution_count": 10,
   "id": "697f1cca",
   "metadata": {},
   "outputs": [
    {
     "name": "stderr",
     "output_type": "stream",
     "text": [
      "/var/folders/mw/tgvznz1d6xbdcgxt0rkwdh540000gn/T/ipykernel_11000/1290916488.py:2: UserWarning: To output multiple subplots, the figure containing the passed axes is being cleared.\n",
      "  X_train_scaled.hist(ax = ax)\n"
     ]
    },
    {
     "data": {
      "image/png": "[encoded data removed]",
      "text/plain": [
       "<Figure size 1600x1600 with 25 Axes>"
      ]
     },
     "metadata": {},
     "output_type": "display_data"
    }
   ],
   "source": [
    "fig, ax = plt.subplots(figsize = (16,16))\n",
    "X_train_scaled.hist(ax = ax)\n",
    "plt.subplots_adjust(wspace = 0.5, hspace=0.4);"
   ]
  },
  {
   "cell_type": "code",
   "execution_count": 11,
   "id": "5a0e9774",
   "metadata": {},
   "outputs": [],
   "source": [
    "X_train_scaled.to_csv('fetal_health_X_train_scaled.csv')\n",
    "X_test_scaled.to_csv('fetal_health_X_test_scaled.csv')\n",
    "y_train.to_csv('fetal_health_y_train.csv')\n",
    "y_test.to_csv('fetal_health_y_test.csv')"
   ]
  },
  {
   "cell_type": "markdown",
   "id": "7dbd6449",
   "metadata": {},
   "source": [
    "## Create Dummy Classifier for Baseline "
   ]
  },
  {
   "cell_type": "code",
   "execution_count": 12,
   "id": "d93aa269",
   "metadata": {},
   "outputs": [],
   "source": [
    "dummy_clf = DummyClassifier(strategy = 'most_frequent')\n",
    "dummy_clf.fit(X_train_scaled, y_train)\n",
    "preds = dummy_clf.predict(X_test_scaled)\n",
    "score = dummy_clf.score(preds, y_test)"
   ]
  },
  {
   "cell_type": "code",
   "execution_count": 13,
   "id": "7af13923",
   "metadata": {},
   "outputs": [
    {
     "name": "stdout",
     "output_type": "stream",
     "text": [
      "[1. 1. 1. 1. 1.]\n"
     ]
    }
   ],
   "source": [
    "print(preds[:5])"
   ]
  },
  {
   "cell_type": "code",
   "execution_count": 14,
   "id": "47244415",
   "metadata": {},
   "outputs": [
    {
     "name": "stdout",
     "output_type": "stream",
     "text": [
      "0.7781954887218046\n"
     ]
    }
   ],
   "source": [
    "print(score)"
   ]
  },
  {
   "cell_type": "code",
   "execution_count": 15,
   "id": "d7d590c1",
   "metadata": {},
   "outputs": [
    {
     "name": "stdout",
     "output_type": "stream",
     "text": [
      "1.0    0.778545\n",
      "2.0    0.138645\n",
      "3.0    0.082811\n",
      "Name: fetal_health, dtype: float64\n"
     ]
    }
   ],
   "source": [
    "occ = y_train.value_counts()\n",
    "print(occ/len(y_train))"
   ]
  },
  {
   "cell_type": "markdown",
   "id": "4bc74f2d",
   "metadata": {},
   "source": [
    "## Imbalance in Classes\n",
    "\n",
    "I may need to use some resampling methods to address the class imbalance. I want to first try modeling with the data as is, and then I might come back and apply try a few resampling ideas on the training data. May try:\n",
    "\n",
    "1) undersampling class 1 and oversampling classes 2 and 3\n",
    "2) leaving class 1 alone and oversampling classes 2 and 3\n",
    "3) learn about imbalanced learn library, RandomOverSampler, and SMOTE.\n"
   ]
  },
  {
   "cell_type": "markdown",
   "id": "762643cd",
   "metadata": {},
   "source": [
    "## Decision Tree Models\n",
    "\n",
    "I decided to play around with some hyperperameters here. I do CV later. "
   ]
  },
  {
   "cell_type": "markdown",
   "id": "f09a7083",
   "metadata": {},
   "source": [
    "### Entropy Model, no max depth"
   ]
  },
  {
   "cell_type": "code",
   "execution_count": 16,
   "id": "581f5e0b",
   "metadata": {},
   "outputs": [],
   "source": [
    "entr_dt = DecisionTreeClassifier(criterion=\"entropy\")\n",
    "entr_dt.fit(X_train_scaled, y_train)\n",
    "preds = entr_dt.predict(X_test_scaled)"
   ]
  },
  {
   "cell_type": "code",
   "execution_count": 17,
   "id": "0d6f483e",
   "metadata": {},
   "outputs": [
    {
     "name": "stdout",
     "output_type": "stream",
     "text": [
      "Entropy Tree depth:  14\n"
     ]
    }
   ],
   "source": [
    "tr_depth = entr_dt.get_depth()\n",
    "print('Entropy Tree depth: ', tr_depth)"
   ]
  },
  {
   "cell_type": "code",
   "execution_count": 18,
   "id": "cd4cfa8c",
   "metadata": {},
   "outputs": [
    {
     "name": "stdout",
     "output_type": "stream",
     "text": [
      "              precision    recall  f1-score   support\n",
      "\n",
      "         1.0       0.95      0.96      0.96       414\n",
      "         2.0       0.77      0.76      0.76        74\n",
      "         3.0       0.89      0.89      0.89        44\n",
      "\n",
      "    accuracy                           0.92       532\n",
      "   macro avg       0.87      0.87      0.87       532\n",
      "weighted avg       0.92      0.92      0.92       532\n",
      "\n"
     ]
    }
   ],
   "source": [
    "print(classification_report(y_test, preds))"
   ]
  },
  {
   "cell_type": "code",
   "execution_count": 19,
   "id": "59e8f936",
   "metadata": {},
   "outputs": [
    {
     "name": "stdout",
     "output_type": "stream",
     "text": [
      "[[396  16   2]\n",
      " [ 15  56   3]\n",
      " [  4   1  39]]\n"
     ]
    }
   ],
   "source": [
    "print(confusion_matrix(y_test, preds))"
   ]
  },
  {
   "cell_type": "markdown",
   "id": "714eaa9b",
   "metadata": {},
   "source": [
    "### Gini Impurity Model, no max depth"
   ]
  },
  {
   "cell_type": "code",
   "execution_count": 20,
   "id": "f51bbb30",
   "metadata": {},
   "outputs": [],
   "source": [
    "gini_dt = DecisionTreeClassifier(criterion = 'gini')\n",
    "gini_dt.fit(X_train_scaled, y_train)\n",
    "preds = gini_dt.predict(X_test_scaled)"
   ]
  },
  {
   "cell_type": "code",
   "execution_count": 21,
   "id": "7b256c1f",
   "metadata": {},
   "outputs": [
    {
     "name": "stdout",
     "output_type": "stream",
     "text": [
      "Gini tree depth:  17\n"
     ]
    }
   ],
   "source": [
    "tr_depth = gini_dt.get_depth()\n",
    "print('Gini tree depth: ', tr_depth)"
   ]
  },
  {
   "cell_type": "code",
   "execution_count": 22,
   "id": "a4664d8d",
   "metadata": {},
   "outputs": [
    {
     "name": "stdout",
     "output_type": "stream",
     "text": [
      "              precision    recall  f1-score   support\n",
      "\n",
      "         1.0       0.94      0.97      0.95       414\n",
      "         2.0       0.78      0.69      0.73        74\n",
      "         3.0       0.93      0.89      0.91        44\n",
      "\n",
      "    accuracy                           0.92       532\n",
      "   macro avg       0.88      0.85      0.86       532\n",
      "weighted avg       0.92      0.92      0.92       532\n",
      "\n"
     ]
    }
   ],
   "source": [
    "print(classification_report(y_test, preds))"
   ]
  },
  {
   "cell_type": "code",
   "execution_count": 23,
   "id": "fbee70b3",
   "metadata": {},
   "outputs": [
    {
     "name": "stdout",
     "output_type": "stream",
     "text": [
      "[[400  13   1]\n",
      " [ 21  51   2]\n",
      " [  4   1  39]]\n"
     ]
    }
   ],
   "source": [
    "print(confusion_matrix(y_test, preds))"
   ]
  },
  {
   "cell_type": "markdown",
   "id": "6c377c13",
   "metadata": {},
   "source": [
    "## Observations\n",
    "\n",
    "Looking at these two decision tree models with no max_depth, we see that they both got accuracy 0.94 and 0.91. Class 2 seems to be the hardest to predict for both models, but model 1 does a slightly better job. \n",
    "\n",
    "That's interesting because class 2 is more common than class 3, but the models are seeing class 3 easier. Perhaps the features for class 2 are more subtle, and class 3 stands out more?\n",
    "\n",
    "The class imbalance doesn't seem to be that problematic. Both models performed much better than the dummy classifier. \n",
    "\n",
    "**Since this is a medical problem, false negatives on class 3 are very important as they could be fatal. That makes recall on class 3 the primary metric. Model 2 had better recall on class 3.**"
   ]
  },
  {
   "cell_type": "markdown",
   "id": "c496a0d2",
   "metadata": {},
   "source": [
    "## Let's try limiting the depths and see what happens. "
   ]
  },
  {
   "cell_type": "markdown",
   "id": "539e7605",
   "metadata": {},
   "source": [
    "## Entropy Model, max_depth = 3"
   ]
  },
  {
   "cell_type": "code",
   "execution_count": 24,
   "id": "cfac7780",
   "metadata": {},
   "outputs": [
    {
     "name": "stdout",
     "output_type": "stream",
     "text": [
      "              precision    recall  f1-score   support\n",
      "\n",
      "         1.0       0.93      0.95      0.94       414\n",
      "         2.0       0.75      0.74      0.75        74\n",
      "         3.0       0.84      0.61      0.71        44\n",
      "\n",
      "    accuracy                           0.90       532\n",
      "   macro avg       0.84      0.77      0.80       532\n",
      "weighted avg       0.89      0.90      0.89       532\n",
      "\n",
      "[[395  14   5]\n",
      " [ 19  55   0]\n",
      " [ 13   4  27]]\n"
     ]
    }
   ],
   "source": [
    "entr_dt = DecisionTreeClassifier(criterion=\"entropy\", max_depth = 3)\n",
    "entr_dt.fit(X_train_scaled, y_train)\n",
    "preds = entr_dt.predict(X_test_scaled)\n",
    "\n",
    "print(classification_report(y_test, preds))\n",
    "print(confusion_matrix(y_test, preds))"
   ]
  },
  {
   "cell_type": "markdown",
   "id": "399d0c8e",
   "metadata": {},
   "source": [
    "## Gini Model, max_depth = 3"
   ]
  },
  {
   "cell_type": "code",
   "execution_count": 25,
   "id": "a9ee8c47",
   "metadata": {},
   "outputs": [
    {
     "name": "stdout",
     "output_type": "stream",
     "text": [
      "              precision    recall  f1-score   support\n",
      "\n",
      "         1.0       0.94      0.94      0.94       414\n",
      "         2.0       0.68      0.74      0.71        74\n",
      "         3.0       0.97      0.84      0.90        44\n",
      "\n",
      "    accuracy                           0.90       532\n",
      "   macro avg       0.86      0.84      0.85       532\n",
      "weighted avg       0.91      0.90      0.91       532\n",
      "\n",
      "[[389  24   1]\n",
      " [ 19  55   0]\n",
      " [  5   2  37]]\n"
     ]
    }
   ],
   "source": [
    "gini_dt = DecisionTreeClassifier(criterion = 'gini', max_depth = 3)\n",
    "gini_dt.fit(X_train_scaled, y_train)\n",
    "preds = gini_dt.predict(X_test_scaled)\n",
    "\n",
    "print(classification_report(y_test, preds))\n",
    "print(confusion_matrix(y_test, preds))"
   ]
  },
  {
   "cell_type": "markdown",
   "id": "bf67857c",
   "metadata": {},
   "source": [
    "## Random Forest Model"
   ]
  },
  {
   "cell_type": "code",
   "execution_count": 26,
   "id": "30de39b3",
   "metadata": {},
   "outputs": [
    {
     "name": "stdout",
     "output_type": "stream",
     "text": [
      "              precision    recall  f1-score   support\n",
      "\n",
      "         1.0       0.95      0.99      0.97       414\n",
      "         2.0       0.90      0.74      0.81        74\n",
      "         3.0       0.95      0.89      0.92        44\n",
      "\n",
      "    accuracy                           0.95       532\n",
      "   macro avg       0.93      0.87      0.90       532\n",
      "weighted avg       0.94      0.95      0.94       532\n",
      "\n",
      "[[409   5   0]\n",
      " [ 17  55   2]\n",
      " [  4   1  39]]\n"
     ]
    }
   ],
   "source": [
    "rf_clf = RandomForestClassifier()\n",
    "rf_clf.fit(X_train_scaled, y_train)\n",
    "preds = rf_clf.predict(X_test_scaled)\n",
    "\n",
    "print(classification_report(y_test, preds))\n",
    "print(confusion_matrix(y_test, preds))"
   ]
  },
  {
   "cell_type": "markdown",
   "id": "473720b9",
   "metadata": {},
   "source": [
    "## Gradient Boosting Classifier"
   ]
  },
  {
   "cell_type": "code",
   "execution_count": 27,
   "id": "a4c60155",
   "metadata": {},
   "outputs": [
    {
     "name": "stdout",
     "output_type": "stream",
     "text": [
      "              precision    recall  f1-score   support\n",
      "\n",
      "         1.0       0.96      0.99      0.98       414\n",
      "         2.0       0.90      0.77      0.83        74\n",
      "         3.0       0.95      0.91      0.93        44\n",
      "\n",
      "    accuracy                           0.95       532\n",
      "   macro avg       0.94      0.89      0.91       532\n",
      "weighted avg       0.95      0.95      0.95       532\n",
      "\n",
      "[[410   4   0]\n",
      " [ 15  57   2]\n",
      " [  2   2  40]]\n"
     ]
    }
   ],
   "source": [
    "gb_clf = GradientBoostingClassifier()\n",
    "gb_clf.fit(X_train_scaled, y_train)\n",
    "preds = gb_clf.predict(X_test_scaled)\n",
    "\n",
    "print(classification_report(y_test, preds))\n",
    "print(confusion_matrix(y_test, preds))"
   ]
  },
  {
   "cell_type": "markdown",
   "id": "870036e9",
   "metadata": {},
   "source": [
    "## Cross Validation on Decision Tree, Random Forest, and Gradient Boost"
   ]
  },
  {
   "cell_type": "markdown",
   "id": "449d4113",
   "metadata": {},
   "source": [
    "## Decision Tree 5-Fold CV"
   ]
  },
  {
   "cell_type": "code",
   "execution_count": 28,
   "id": "d9e0bae4",
   "metadata": {},
   "outputs": [
    {
     "name": "stdout",
     "output_type": "stream",
     "text": [
      "Decision Tree best params:  {'criterion': 'entropy', 'max_depth': 7}\n",
      "Decision Tree best score:  0.9291062873366063\n"
     ]
    }
   ],
   "source": [
    "kf = KFold(n_splits = 5, shuffle = True)\n",
    "param_grid = {'criterion':['entropy', 'gini'], 'max_depth': np.arange(3, 15, 1)}\n",
    "dt = DecisionTreeClassifier()\n",
    "dt_cv = GridSearchCV(dt, param_grid, cv = kf)\n",
    "dt_cv.fit(X_train_scaled, y_train)\n",
    "\n",
    "print('Decision Tree best params: ', dt_cv.best_params_)\n",
    "print('Decision Tree best score: ', dt_cv.best_score_)"
   ]
  },
  {
   "cell_type": "markdown",
   "id": "e95ebd11",
   "metadata": {},
   "source": [
    "## Random Forest 5-Fold CV"
   ]
  },
  {
   "cell_type": "code",
   "execution_count": 29,
   "id": "7fd8c1af",
   "metadata": {},
   "outputs": [
    {
     "name": "stdout",
     "output_type": "stream",
     "text": [
      "Random Forest best params:  {'criterion': 'entropy', 'max_depth': 13}\n",
      "Random Forest best score:  0.9397803671063268\n"
     ]
    }
   ],
   "source": [
    "rf = RandomForestClassifier()\n",
    "rf_cv = GridSearchCV(rf, param_grid, cv = kf)\n",
    "rf_cv.fit(X_train_scaled, y_train)\n",
    "\n",
    "print('Random Forest best params: ', rf_cv.best_params_)\n",
    "print('Random Forest best score: ', rf_cv.best_score_)"
   ]
  },
  {
   "cell_type": "markdown",
   "id": "7a4b1c94",
   "metadata": {},
   "source": [
    "## Gradient Boost 5-Fold CV"
   ]
  },
  {
   "cell_type": "code",
   "execution_count": 30,
   "id": "e68d86e3",
   "metadata": {},
   "outputs": [
    {
     "name": "stdout",
     "output_type": "stream",
     "text": [
      "Gradient Boost best params:  {'criterion': 'friedman_mse', 'learning_rate': 0.25}\n",
      "Gradient Boost best score:  0.9473078212180359\n"
     ]
    }
   ],
   "source": [
    "param_grid = {'criterion': ['friedman_mse', 'squared_error'], 'learning_rate': [0.1, 0.15, 0.2, 0.25]}\n",
    "gb = GradientBoostingClassifier()\n",
    "gb_cv = GridSearchCV(gb, param_grid, cv = kf)\n",
    "gb_cv.fit(X_train_scaled, y_train)\n",
    "\n",
    "print('Gradient Boost best params: ', gb_cv.best_params_)\n",
    "print('Gradient Boost best score: ', gb_cv.best_score_)"
   ]
  },
  {
   "cell_type": "markdown",
   "id": "83981c4c",
   "metadata": {},
   "source": [
    "## Model Selection\n",
    "\n",
    "Looks like Gradient Boost or Random Forest is the way to go. Now I want to train each one with the best parameters and look at the classification report and confusion matrix again. "
   ]
  },
  {
   "cell_type": "markdown",
   "id": "b275c859",
   "metadata": {},
   "source": [
    "## Final Random Forest Model"
   ]
  },
  {
   "cell_type": "code",
   "execution_count": 31,
   "id": "7d69d5ce",
   "metadata": {},
   "outputs": [
    {
     "name": "stdout",
     "output_type": "stream",
     "text": [
      "              precision    recall  f1-score   support\n",
      "\n",
      "         1.0       0.95      0.99      0.97       414\n",
      "         2.0       0.90      0.77      0.83        74\n",
      "         3.0       0.97      0.86      0.92        44\n",
      "\n",
      "    accuracy                           0.95       532\n",
      "   macro avg       0.94      0.87      0.91       532\n",
      "weighted avg       0.95      0.95      0.95       532\n",
      "\n",
      "[[410   4   0]\n",
      " [ 16  57   1]\n",
      " [  4   2  38]]\n"
     ]
    }
   ],
   "source": [
    "rf = RandomForestClassifier(criterion = 'entropy', max_depth = 13)\n",
    "rf.fit(X_train_scaled, y_train)\n",
    "preds = rf.predict(X_test_scaled)\n",
    "\n",
    "print(classification_report(y_test, preds))\n",
    "print(confusion_matrix(y_test, preds))"
   ]
  },
  {
   "cell_type": "markdown",
   "id": "00d22e57",
   "metadata": {},
   "source": [
    "## Final Gradient Boost Model"
   ]
  },
  {
   "cell_type": "code",
   "execution_count": 32,
   "id": "5253483b",
   "metadata": {},
   "outputs": [
    {
     "name": "stdout",
     "output_type": "stream",
     "text": [
      "              precision    recall  f1-score   support\n",
      "\n",
      "         1.0       0.96      0.99      0.98       414\n",
      "         2.0       0.94      0.78      0.85        74\n",
      "         3.0       0.95      0.91      0.93        44\n",
      "\n",
      "    accuracy                           0.96       532\n",
      "   macro avg       0.95      0.90      0.92       532\n",
      "weighted avg       0.96      0.96      0.96       532\n",
      "\n",
      "[[411   3   0]\n",
      " [ 14  58   2]\n",
      " [  3   1  40]]\n"
     ]
    }
   ],
   "source": [
    "gb = GradientBoostingClassifier(criterion = 'squared_error', learning_rate = 0.2)\n",
    "gb.fit(X_train_scaled, y_train)\n",
    "preds = gb.predict(X_test_scaled)\n",
    "\n",
    "print(classification_report(y_test, preds))\n",
    "print(confusion_matrix(y_test, preds))"
   ]
  },
  {
   "cell_type": "markdown",
   "id": "04e37a10",
   "metadata": {},
   "source": [
    "## Conclusion = Final Gradient Boost is the winner"
   ]
  },
  {
   "cell_type": "code",
   "execution_count": null,
   "id": "48cec961",
   "metadata": {},
   "outputs": [],
   "source": []
  }
 ],
 "metadata": {
  "kernelspec": {
   "display_name": "Python 3 (ipykernel)",
   "language": "python",
   "name": "python3"
  },
  "language_info": {
   "codemirror_mode": {
    "name": "ipython",
    "version": 3
   },
   "file_extension": ".py",
   "mimetype": "text/x-python",
   "name": "python",
   "nbconvert_exporter": "python",
   "pygments_lexer": "ipython3",
   "version": "3.11.4"
  }
 },
 "nbformat": 4,
 "nbformat_minor": 5
}
